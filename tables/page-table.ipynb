{
 "cells": [
  {
   "cell_type": "markdown",
   "metadata": {
    "application/vnd.databricks.v1+cell": {
     "cellMetadata": {},
     "inputWidgets": {},
     "nuid": "bd82b33a-c14f-4794-b713-a3e0b09f564b",
     "showTitle": false,
     "title": ""
    }
   },
   "source": [
    "#### Creating Page Dataframe"
   ]
  },
  {
   "cell_type": "code",
   "execution_count": 0,
   "metadata": {
    "application/vnd.databricks.v1+cell": {
     "cellMetadata": {},
     "inputWidgets": {},
     "nuid": "39b35211-2c20-4160-b8c3-414f8c7a5998",
     "showTitle": false,
     "title": ""
    }
   },
   "outputs": [],
   "source": [
    "df = spark.sql(\"SELECT * FROM data\").filter(col(\"event_type\") == \"GollumEvent\")"
   ]
  },
  {
   "cell_type": "code",
   "execution_count": 0,
   "metadata": {
    "application/vnd.databricks.v1+cell": {
     "cellMetadata": {},
     "inputWidgets": {},
     "nuid": "91ce112c-7a7f-45dd-a3ea-ecaf93302a05",
     "showTitle": false,
     "title": ""
    }
   },
   "outputs": [],
   "source": [
    "pageDF = (\n",
    "    df.select(\"event_id\", explode(col(\"payload_pages\")))\n",
    "    .select(\n",
    "        monotonically_increasing_id().alias(\"id\"),\n",
    "        col(\"event_id\").cast(LongType()).alias(\"gollum_event_id\"),\n",
    "        \"col.*\",\n",
    "    )\n",
    "    .distinct()\n",
    ")"
   ]
  },
  {
   "cell_type": "markdown",
   "metadata": {
    "application/vnd.databricks.v1+cell": {
     "cellMetadata": {},
     "inputWidgets": {},
     "nuid": "64cc508a-4a31-43b1-b3a9-cc8da76a2776",
     "showTitle": false,
     "title": ""
    }
   },
   "source": [
    "#### Write to database"
   ]
  },
  {
   "cell_type": "code",
   "execution_count": 0,
   "metadata": {
    "application/vnd.databricks.v1+cell": {
     "cellMetadata": {},
     "inputWidgets": {},
     "nuid": "aeeb8d14-337b-47ff-a01f-b406c3b8993b",
     "showTitle": false,
     "title": ""
    }
   },
   "outputs": [],
   "source": [
    "pageDF.repartition(1).write.mode(\"overwrite\").parquet(\"abfss://team1-project2@20230821desa.dfs.core.windows.net/SilverLayer/page\")"
   ]
  }
 ],
 "metadata": {
  "application/vnd.databricks.v1+notebook": {
   "dashboards": [],
   "language": "python",
   "notebookMetadata": {
    "pythonIndentUnit": 4
   },
   "notebookName": "page-table",
   "widgets": {}
  }
 },
 "nbformat": 4,
 "nbformat_minor": 0
}
