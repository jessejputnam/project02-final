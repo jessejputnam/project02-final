{
 "cells": [
  {
   "cell_type": "markdown",
   "metadata": {
    "application/vnd.databricks.v1+cell": {
     "cellMetadata": {},
     "inputWidgets": {},
     "nuid": "63c3cae0-0805-4953-a162-033201f7f8c3",
     "showTitle": false,
     "title": ""
    }
   },
   "source": [
    "#### Creating Pull Request Review Comment Dataframe"
   ]
  },
  {
   "cell_type": "code",
   "execution_count": 0,
   "metadata": {
    "application/vnd.databricks.v1+cell": {
     "cellMetadata": {},
     "inputWidgets": {},
     "nuid": "8470f9b9-35e5-45c9-a81e-d60c368592be",
     "showTitle": false,
     "title": ""
    }
   },
   "outputs": [],
   "source": [
    "df = (\n",
    "    spark.sql(\"SELECT * FROM data\")\n",
    "    .filter(\"event_type == 'PullRequestReviewCommentEvent'\")\n",
    "    .select(\"payload_comment.*\")\n",
    ")"
   ]
  },
  {
   "cell_type": "code",
   "execution_count": 0,
   "metadata": {
    "application/vnd.databricks.v1+cell": {
     "cellMetadata": {},
     "inputWidgets": {},
     "nuid": "b4cf5d46-1a83-4955-90c3-22b69bfb459a",
     "showTitle": false,
     "title": ""
    }
   },
   "outputs": [],
   "source": [
    "cols = [\n",
    "    col(\"id\").cast(LongType()),\n",
    "    \"author_association\",\n",
    "    \"body\",\n",
    "    \"commit_id\",\n",
    "    col(\"created_at\").cast(TimestampType()),\n",
    "    \"diff_hunk\",\n",
    "    \"html_url\",\n",
    "    \"in_reply_to_id\",\n",
    "    \"node_id\",\n",
    "    \"original_commit_id\",\n",
    "    \"original_line\",\n",
    "    \"original_position\",\n",
    "    \"original_start_line\",\n",
    "    \"path\",\n",
    "    \"position\",\n",
    "    \"pull_request_review_id\",\n",
    "    \"pull_request_url\",\n",
    "    lit(None).cast(LongType()).alias(\"reactions_id\"),\n",
    "    \"side\",\n",
    "    \"start_line\",\n",
    "    \"start_side\",\n",
    "    col(\"updated_at\").cast(TimestampType()),\n",
    "    \"url\",\n",
    "    col(\"user.id\").cast(LongType()).alias(\"user_id\"),\n",
    "]"
   ]
  },
  {
   "cell_type": "code",
   "execution_count": 0,
   "metadata": {
    "application/vnd.databricks.v1+cell": {
     "cellMetadata": {},
     "inputWidgets": {},
     "nuid": "ce17d3a4-9c66-4108-8b3b-674e0dc53710",
     "showTitle": false,
     "title": ""
    }
   },
   "outputs": [],
   "source": [
    "pull_request_review_commentDF = df.select(cols).distinct().orderBy(\"id\")"
   ]
  },
  {
   "cell_type": "markdown",
   "metadata": {
    "application/vnd.databricks.v1+cell": {
     "cellMetadata": {},
     "inputWidgets": {},
     "nuid": "db39f554-06de-414a-aaba-158d5358fc82",
     "showTitle": false,
     "title": ""
    }
   },
   "source": [
    "#### Write to database"
   ]
  },
  {
   "cell_type": "code",
   "execution_count": 0,
   "metadata": {
    "application/vnd.databricks.v1+cell": {
     "cellMetadata": {},
     "inputWidgets": {},
     "nuid": "92feafeb-5b76-490e-b15a-c7aba3375797",
     "showTitle": false,
     "title": ""
    }
   },
   "outputs": [],
   "source": [
    "pull_request_review_commentDF.repartition(19).write.parquet(\"abfss://team1-project2@20230821desa.dfs.core.windows.net/SilverLayer/pull-request-review-comment\")"
   ]
  }
 ],
 "metadata": {
  "application/vnd.databricks.v1+notebook": {
   "dashboards": [],
   "language": "python",
   "notebookMetadata": {
    "pythonIndentUnit": 4
   },
   "notebookName": "pull-request-review-comment-table",
   "widgets": {}
  }
 },
 "nbformat": 4,
 "nbformat_minor": 0
}
