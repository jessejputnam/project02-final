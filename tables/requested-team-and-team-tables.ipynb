{
 "cells": [
  {
   "cell_type": "markdown",
   "metadata": {
    "application/vnd.databricks.v1+cell": {
     "cellMetadata": {},
     "inputWidgets": {},
     "nuid": "ffccf312-ea82-4933-9e55-bde00b99ef47",
     "showTitle": false,
     "title": ""
    }
   },
   "source": [
    "#### Creating Requested Team & Team Dataframe"
   ]
  },
  {
   "cell_type": "code",
   "execution_count": 0,
   "metadata": {
    "application/vnd.databricks.v1+cell": {
     "cellMetadata": {},
     "inputWidgets": {},
     "nuid": "17a43775-fc6b-46d8-ac0b-1a2a82e80b29",
     "showTitle": false,
     "title": ""
    }
   },
   "outputs": [],
   "source": [
    "df = spark.sql(\"SELECT * FROM data\")"
   ]
  },
  {
   "cell_type": "code",
   "execution_count": 0,
   "metadata": {
    "application/vnd.databricks.v1+cell": {
     "cellMetadata": {},
     "inputWidgets": {},
     "nuid": "19e7bc11-b673-4ee3-8533-5f3d885f887a",
     "showTitle": false,
     "title": ""
    }
   },
   "outputs": [],
   "source": [
    "team_object = (\n",
    "    df.select(\"payload_pull_request.*\")\n",
    "    .distinct()\n",
    "    .select(explode(\"requested_teams\"))\n",
    "    .select(\"col.*\")\n",
    ")\n",
    "\n",
    "requested_teamDF = (\n",
    "    df.select(\n",
    "        col(\"payload_pull_request.id\").alias(\"pull_request_id\"),\n",
    "        explode(\"payload_pull_request.requested_teams\"),\n",
    "    )\n",
    "    .select(\"pull_request_id\", col(\"col.id\").alias(\"team_id\"))\n",
    "    .distinct()\n",
    ")"
   ]
  },
  {
   "cell_type": "code",
   "execution_count": 0,
   "metadata": {
    "application/vnd.databricks.v1+cell": {
     "cellMetadata": {},
     "inputWidgets": {},
     "nuid": "38129e90-c2c5-49b7-ba9f-bdd4ac6a0608",
     "showTitle": false,
     "title": ""
    }
   },
   "outputs": [],
   "source": [
    "teamDF = (\n",
    "    team_object.select(\n",
    "        col(\"id\").cast(LongType()),\n",
    "        \"description\",\n",
    "        \"html_url\",\n",
    "        \"members_url\",\n",
    "        \"name\",\n",
    "        \"node_id\",\n",
    "        col(\"parent.id\").cast(LongType()).alias(\"parent_id\"),\n",
    "        \"permission\",\n",
    "        \"privacy\",\n",
    "        \"repositories_url\",\n",
    "        \"slug\",\n",
    "        \"url\",\n",
    "    )\n",
    "    .distinct()\n",
    "    .orderBy(\"id\")\n",
    ")"
   ]
  },
  {
   "cell_type": "markdown",
   "metadata": {
    "application/vnd.databricks.v1+cell": {
     "cellMetadata": {},
     "inputWidgets": {},
     "nuid": "7a94daa4-ae43-411b-a0cc-83fdab9e7c8e",
     "showTitle": false,
     "title": ""
    }
   },
   "source": [
    "#### Writing Both to Database"
   ]
  },
  {
   "cell_type": "code",
   "execution_count": 0,
   "metadata": {
    "application/vnd.databricks.v1+cell": {
     "cellMetadata": {},
     "inputWidgets": {},
     "nuid": "666c51e6-09e9-438b-94bc-2a72df75b997",
     "showTitle": false,
     "title": ""
    }
   },
   "outputs": [],
   "source": [
    "requested_teamDF.repartition(1).write.mode(\"overwrite\").parquet(\"abfss://team1-project2@20230821desa.dfs.core.windows.net/SilverLayer/requested-team\")"
   ]
  },
  {
   "cell_type": "code",
   "execution_count": 0,
   "metadata": {
    "application/vnd.databricks.v1+cell": {
     "cellMetadata": {},
     "inputWidgets": {},
     "nuid": "8d31a657-f36d-406c-bf22-c0fd83821c63",
     "showTitle": false,
     "title": ""
    }
   },
   "outputs": [],
   "source": [
    "teamDF.repartition(1).write.mode(\"overwrite\").parquet(\"abfss://team1-project2@20230821desa.dfs.core.windows.net/SilverLayer/team\")"
   ]
  }
 ],
 "metadata": {
  "application/vnd.databricks.v1+notebook": {
   "dashboards": [],
   "language": "python",
   "notebookMetadata": {
    "pythonIndentUnit": 4
   },
   "notebookName": "requested-team-and-team-tables",
   "widgets": {}
  }
 },
 "nbformat": 4,
 "nbformat_minor": 0
}
