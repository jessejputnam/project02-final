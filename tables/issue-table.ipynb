{
 "cells": [
  {
   "cell_type": "markdown",
   "metadata": {
    "application/vnd.databricks.v1+cell": {
     "cellMetadata": {},
     "inputWidgets": {},
     "nuid": "21936624-436b-4d8c-b9ea-7efceee90eae",
     "showTitle": false,
     "title": ""
    }
   },
   "source": [
    "#### Creating Issue Dataframe"
   ]
  },
  {
   "cell_type": "code",
   "execution_count": 0,
   "metadata": {
    "application/vnd.databricks.v1+cell": {
     "cellMetadata": {},
     "inputWidgets": {},
     "nuid": "95aab33d-0d76-447e-a2ba-b60d7f024093",
     "showTitle": false,
     "title": ""
    }
   },
   "outputs": [],
   "source": [
    "df = spark.sql(\"SELECT * FROM data\")"
   ]
  },
  {
   "cell_type": "code",
   "execution_count": 0,
   "metadata": {
    "application/vnd.databricks.v1+cell": {
     "cellMetadata": {},
     "inputWidgets": {},
     "nuid": "9f5d75c1-d8bf-43b6-9899-97aed9b16c59",
     "showTitle": false,
     "title": ""
    }
   },
   "outputs": [],
   "source": [
    "issue = df.select(\"payload_issue.*\").distinct()"
   ]
  },
  {
   "cell_type": "code",
   "execution_count": 0,
   "metadata": {
    "application/vnd.databricks.v1+cell": {
     "cellMetadata": {},
     "inputWidgets": {},
     "nuid": "260eb5e7-0747-4664-b459-70bf999349ba",
     "showTitle": false,
     "title": ""
    }
   },
   "outputs": [],
   "source": [
    "issueDF = (\n",
    "    issue.filter(col(\"id\").isNotNull())\n",
    "    .select(\n",
    "        col(\"id\").cast(LongType()),\n",
    "        col(\"assignee.id\").cast(LongType()).alias(\"assignee_id\"),\n",
    "        \"author_association\",\n",
    "        \"body\",\n",
    "        col(\"closed_at\").cast(TimestampType()),\n",
    "        \"comments\",\n",
    "        \"comments_url\",\n",
    "        col(\"created_at\").cast(TimestampType()),\n",
    "        \"events_url\",\n",
    "        \"html_url\",\n",
    "        \"labels_url\",\n",
    "        \"locked\",\n",
    "        col(\"milestone.id\").cast(LongType()).alias(\"milestone_id\"),\n",
    "        \"node_id\",\n",
    "        \"number\",\n",
    "        lit(None).cast(LongType()).alias(\"reactions_id\"),\n",
    "        \"repository_url\",\n",
    "        \"state\",\n",
    "        \"timeline_url\",\n",
    "        \"title\",\n",
    "        col(\"updated_at\").cast(TimestampType()),\n",
    "        \"url\",\n",
    "        col(\"user.id\").cast(LongType()).alias(\"user_id\"),\n",
    "    )\n",
    "    .distinct()\n",
    "    .orderBy(\"id\")\n",
    ")"
   ]
  },
  {
   "cell_type": "markdown",
   "metadata": {
    "application/vnd.databricks.v1+cell": {
     "cellMetadata": {},
     "inputWidgets": {},
     "nuid": "27c59844-4165-479b-a758-57fd840506c4",
     "showTitle": false,
     "title": ""
    }
   },
   "source": [
    "#### Write to database"
   ]
  },
  {
   "cell_type": "code",
   "execution_count": 0,
   "metadata": {
    "application/vnd.databricks.v1+cell": {
     "cellMetadata": {},
     "inputWidgets": {},
     "nuid": "4d0ff197-e632-4ddd-90a3-686342bc8949",
     "showTitle": false,
     "title": ""
    }
   },
   "outputs": [],
   "source": [
    "issueDF.repartition(49).write.mode(\"overwrite\").parquet(\"abfss://team1-project2@20230821desa.dfs.core.windows.net/SilverLayer/issue\")"
   ]
  }
 ],
 "metadata": {
  "application/vnd.databricks.v1+notebook": {
   "dashboards": [],
   "language": "python",
   "notebookMetadata": {
    "pythonIndentUnit": 4
   },
   "notebookName": "issue-table",
   "widgets": {}
  }
 },
 "nbformat": 4,
 "nbformat_minor": 0
}
