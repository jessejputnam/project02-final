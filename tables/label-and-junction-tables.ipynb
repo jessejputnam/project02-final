{
 "cells": [
  {
   "cell_type": "markdown",
   "metadata": {
    "application/vnd.databricks.v1+cell": {
     "cellMetadata": {},
     "inputWidgets": {},
     "nuid": "607be6b4-f1c6-483e-a34d-1aeffa22a49b",
     "showTitle": false,
     "title": ""
    }
   },
   "source": [
    "#### Creating Lable & Label Junction Dataframes"
   ]
  },
  {
   "cell_type": "code",
   "execution_count": 0,
   "metadata": {
    "application/vnd.databricks.v1+cell": {
     "cellMetadata": {},
     "inputWidgets": {},
     "nuid": "38ed261f-12aa-4bac-9efc-4cfddfee3160",
     "showTitle": false,
     "title": ""
    }
   },
   "outputs": [],
   "source": [
    "# Find entries with label from the two objects that may contain them\n",
    "df = spark.sql(\"SELECT * FROM data\").filter(\n",
    "    (size(col(\"payload_issue.labels\")) > 0)\n",
    "    | (size(col(\"payload_pull_request.labels\")) > 0)\n",
    ")"
   ]
  },
  {
   "cell_type": "code",
   "execution_count": 0,
   "metadata": {
    "application/vnd.databricks.v1+cell": {
     "cellMetadata": {},
     "inputWidgets": {},
     "nuid": "9a7983bf-8f40-4b52-8b69-36cf9bd21bd2",
     "showTitle": false,
     "title": ""
    }
   },
   "outputs": [],
   "source": [
    "cols = [\"id\", \"color\", \"default\", \"description\", \"name\", \"node_id\", \"url\"]"
   ]
  },
  {
   "cell_type": "code",
   "execution_count": 0,
   "metadata": {
    "application/vnd.databricks.v1+cell": {
     "cellMetadata": {},
     "inputWidgets": {},
     "nuid": "03b06068-3b29-4f77-8de0-574e87caf924",
     "showTitle": false,
     "title": ""
    }
   },
   "outputs": [],
   "source": [
    "issue_labels = df.select(explode(col(\"payload_issue.labels\"))).select(\"col.*\")\n",
    "pull_request_labels = df.select(explode(col(\"payload_pull_request.labels\"))).select(\"col.*\")"
   ]
  },
  {
   "cell_type": "markdown",
   "metadata": {
    "application/vnd.databricks.v1+cell": {
     "cellMetadata": {},
     "inputWidgets": {},
     "nuid": "2211397b-30a0-4159-b1c5-8ea0cc3cb183",
     "showTitle": false,
     "title": ""
    }
   },
   "source": [
    "#### Label"
   ]
  },
  {
   "cell_type": "code",
   "execution_count": 0,
   "metadata": {
    "application/vnd.databricks.v1+cell": {
     "cellMetadata": {},
     "inputWidgets": {},
     "nuid": "1d47e22c-c9c2-4b6b-a060-4b5cac59b5a2",
     "showTitle": false,
     "title": ""
    }
   },
   "outputs": [],
   "source": [
    "labelDF = issue_labels.union(pull_request_labels).select(cols).distinct().orderBy(\"id\")"
   ]
  },
  {
   "cell_type": "markdown",
   "metadata": {
    "application/vnd.databricks.v1+cell": {
     "cellMetadata": {},
     "inputWidgets": {},
     "nuid": "61932d9d-7d0c-424a-b6cc-0d46a1d9a313",
     "showTitle": false,
     "title": ""
    }
   },
   "source": [
    "#### Label junction tables"
   ]
  },
  {
   "cell_type": "code",
   "execution_count": 0,
   "metadata": {
    "application/vnd.databricks.v1+cell": {
     "cellMetadata": {},
     "inputWidgets": {},
     "nuid": "342bdd7b-839b-44ab-8bae-4c4d3dbbc952",
     "showTitle": false,
     "title": ""
    }
   },
   "outputs": [],
   "source": [
    "issue_labelDF = (\n",
    "    df.select(\"payload_issue.id\", explode(col(\"payload_issue.labels\")))\n",
    "    .select(col(\"id\").alias(\"issue_id\"), col(\"col.id\").alias(\"label_id\"))\n",
    "    .distinct()\n",
    ")\n",
    "pull_request_labelDF = (\n",
    "    df.select(\"payload_pull_request.id\", explode(col(\"payload_pull_request.labels\")))\n",
    "    .select(col(\"id\").alias(\"pull_request_id\"), col(\"col.id\").alias(\"label_id\"))\n",
    "    .distinct()\n",
    ")"
   ]
  },
  {
   "cell_type": "markdown",
   "metadata": {
    "application/vnd.databricks.v1+cell": {
     "cellMetadata": {},
     "inputWidgets": {},
     "nuid": "4788414b-c70a-4ff5-be18-697c37f1db75",
     "showTitle": false,
     "title": ""
    }
   },
   "source": [
    "#### Write to database"
   ]
  },
  {
   "cell_type": "code",
   "execution_count": 0,
   "metadata": {
    "application/vnd.databricks.v1+cell": {
     "cellMetadata": {},
     "inputWidgets": {},
     "nuid": "596f3fac-2251-429a-8051-948e1a81a030",
     "showTitle": false,
     "title": ""
    }
   },
   "outputs": [],
   "source": [
    "labelDF.repartition(2).write.mode(\"overwrite\").parquet(\"abfss://team1-project2@20230821desa.dfs.core.windows.net/SilverLayer/label\")"
   ]
  },
  {
   "cell_type": "code",
   "execution_count": 0,
   "metadata": {
    "application/vnd.databricks.v1+cell": {
     "cellMetadata": {},
     "inputWidgets": {},
     "nuid": "6afb1a8a-9265-4f59-9899-43a7ab110a86",
     "showTitle": false,
     "title": ""
    }
   },
   "outputs": [],
   "source": [
    "issue_labelDF.repartition(1).write.mode(\"overwrite\").parquet(\"abfss://team1-project2@20230821desa.dfs.core.windows.net/SilverLayer/issue-label\")"
   ]
  },
  {
   "cell_type": "code",
   "execution_count": 0,
   "metadata": {
    "application/vnd.databricks.v1+cell": {
     "cellMetadata": {},
     "inputWidgets": {},
     "nuid": "732c5864-1a84-409f-87c3-ae69c858bbe8",
     "showTitle": false,
     "title": ""
    }
   },
   "outputs": [],
   "source": [
    "pull_request_labelDF.repartition(1).write.mode(\"overwrite\").parquet(\"abfss://team1-project2@20230821desa.dfs.core.windows.net/SilverLayer/pull-request-label\")"
   ]
  }
 ],
 "metadata": {
  "application/vnd.databricks.v1+notebook": {
   "dashboards": [],
   "language": "python",
   "notebookMetadata": {
    "pythonIndentUnit": 4
   },
   "notebookName": "label-and-junction-tables",
   "widgets": {}
  }
 },
 "nbformat": 4,
 "nbformat_minor": 0
}
