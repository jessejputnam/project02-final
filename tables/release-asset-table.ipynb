{
 "cells": [
  {
   "cell_type": "markdown",
   "metadata": {
    "application/vnd.databricks.v1+cell": {
     "cellMetadata": {},
     "inputWidgets": {},
     "nuid": "761261fa-0fd5-40a7-b1a8-2b1d42f971af",
     "showTitle": false,
     "title": ""
    }
   },
   "source": [
    "#### Creating Release Asset Dataframe"
   ]
  },
  {
   "cell_type": "code",
   "execution_count": 0,
   "metadata": {
    "application/vnd.databricks.v1+cell": {
     "cellMetadata": {},
     "inputWidgets": {},
     "nuid": "6593844a-38f2-4b14-a9fc-1f0624be3423",
     "showTitle": false,
     "title": ""
    }
   },
   "outputs": [],
   "source": [
    "df = (\n",
    "    spark.sql(\"SELECT * FROM data\")\n",
    "    .filter(size(col(\"payload_release.assets\")) > 0)\n",
    "    .select(\n",
    "        col(\"payload_release.id\").alias(\"release_id\"),\n",
    "        explode(col(\"payload_release.assets\"))\n",
    "    )\n",
    ")"
   ]
  },
  {
   "cell_type": "code",
   "execution_count": 0,
   "metadata": {
    "application/vnd.databricks.v1+cell": {
     "cellMetadata": {},
     "inputWidgets": {},
     "nuid": "69c37114-11cd-4cff-9d32-20635badf0de",
     "showTitle": false,
     "title": ""
    }
   },
   "outputs": [],
   "source": [
    "release_assetDF = df.select(\"release_id\", col(\"col.id\").alias(\"asset_id\")).distinct()"
   ]
  },
  {
   "cell_type": "markdown",
   "metadata": {
    "application/vnd.databricks.v1+cell": {
     "cellMetadata": {},
     "inputWidgets": {},
     "nuid": "0f26d95d-9a3a-45e4-925b-af303700cd06",
     "showTitle": false,
     "title": ""
    }
   },
   "source": [
    "#### Write to database"
   ]
  },
  {
   "cell_type": "code",
   "execution_count": 0,
   "metadata": {
    "application/vnd.databricks.v1+cell": {
     "cellMetadata": {},
     "inputWidgets": {},
     "nuid": "256ea63f-5f0c-4be8-9828-5610518bc527",
     "showTitle": false,
     "title": ""
    }
   },
   "outputs": [],
   "source": [
    "release_assetDF.repartition(1).write.parquet(\"abfss://team1-project2@20230821desa.dfs.core.windows.net/SilverLayer/release-asset\")"
   ]
  }
 ],
 "metadata": {
  "application/vnd.databricks.v1+notebook": {
   "dashboards": [],
   "language": "python",
   "notebookMetadata": {
    "pythonIndentUnit": 4
   },
   "notebookName": "release-asset-table",
   "widgets": {}
  }
 },
 "nbformat": 4,
 "nbformat_minor": 0
}
