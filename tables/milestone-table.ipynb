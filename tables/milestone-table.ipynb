{
 "cells": [
  {
   "cell_type": "markdown",
   "metadata": {
    "application/vnd.databricks.v1+cell": {
     "cellMetadata": {},
     "inputWidgets": {},
     "nuid": "fb2cc207-c859-4e62-be23-97a647ad6591",
     "showTitle": false,
     "title": ""
    }
   },
   "source": [
    "#### Creating Milestone Dataframe"
   ]
  },
  {
   "cell_type": "code",
   "execution_count": 0,
   "metadata": {
    "application/vnd.databricks.v1+cell": {
     "cellMetadata": {},
     "inputWidgets": {},
     "nuid": "bc5874a6-31a8-469f-aefd-e6e75fe931ce",
     "showTitle": false,
     "title": ""
    }
   },
   "outputs": [],
   "source": [
    "# Find dataframes where the required field is not null\n",
    "df = (\n",
    "    spark.sql(\"SELECT * FROM data\")\n",
    "    .filter(\n",
    "        (col(\"payload_issue.milestone\").isNotNull()) \n",
    "        | (col(\"payload_pull_request.milestone\").isNotNull())\n",
    "    )\n",
    ")"
   ]
  },
  {
   "cell_type": "code",
   "execution_count": 0,
   "metadata": {
    "application/vnd.databricks.v1+cell": {
     "cellMetadata": {},
     "inputWidgets": {},
     "nuid": "f500bd42-01e6-4c5e-a52a-89935bda3a7c",
     "showTitle": false,
     "title": ""
    }
   },
   "outputs": [],
   "source": [
    "# Columns to access correct information with correct labels\n",
    "cols = [\n",
    "    \"id\",\n",
    "    col(\"closed_at\").cast(TimestampType()),\n",
    "    \"closed_issues\",\n",
    "    col(\"created_at\").cast(TimestampType()),\n",
    "    col(\"creator.id\").alias(\"creator_id\"),\n",
    "    \"description\",\n",
    "    col(\"due_on\").cast(TimestampType()),\n",
    "    \"html_url\",\n",
    "    \"labels_url\",\n",
    "    \"node_id\",\n",
    "    \"number\",\n",
    "    \"open_issues\",\n",
    "    \"state\",\n",
    "    \"title\",\n",
    "    col(\"updated_at\").cast(TimestampType()),\n",
    "    \"url\",\n",
    "]"
   ]
  },
  {
   "cell_type": "code",
   "execution_count": 0,
   "metadata": {
    "application/vnd.databricks.v1+cell": {
     "cellMetadata": {},
     "inputWidgets": {},
     "nuid": "116efb3a-7cbe-4b25-b52b-afeb073f460e",
     "showTitle": false,
     "title": ""
    }
   },
   "outputs": [],
   "source": [
    "issue_milestone = df.filter(\n",
    "    col(\"payload_issue.milestone\")\n",
    "    .isNotNull()\n",
    ").select(\"payload_issue.milestone.*\")\n",
    "\n",
    "pull_request_milestone = df.filter(\n",
    "    col(\"payload_pull_request.milestone\")\n",
    "    .isNotNull()\n",
    ").select(\"payload_pull_request.milestone.*\")"
   ]
  },
  {
   "cell_type": "code",
   "execution_count": 0,
   "metadata": {
    "application/vnd.databricks.v1+cell": {
     "cellMetadata": {},
     "inputWidgets": {},
     "nuid": "ba38e959-718a-4511-b72b-07a341724723",
     "showTitle": false,
     "title": ""
    }
   },
   "outputs": [],
   "source": [
    "# Union of two DFs\n",
    "milestoneDF = (\n",
    "    issue_milestone.union(pull_request_milestone)\n",
    "    .distinct()\n",
    "    .select(cols)\n",
    "    .orderBy(\"id\")\n",
    ")"
   ]
  },
  {
   "cell_type": "markdown",
   "metadata": {
    "application/vnd.databricks.v1+cell": {
     "cellMetadata": {},
     "inputWidgets": {},
     "nuid": "1d96a2a8-da9c-4b62-8717-7f512ee636f5",
     "showTitle": false,
     "title": ""
    }
   },
   "source": [
    "#### Write to database"
   ]
  },
  {
   "cell_type": "code",
   "execution_count": 0,
   "metadata": {
    "application/vnd.databricks.v1+cell": {
     "cellMetadata": {},
     "inputWidgets": {},
     "nuid": "87496d9e-92af-4c2c-b87b-ffb83bb2b905",
     "showTitle": false,
     "title": ""
    }
   },
   "outputs": [],
   "source": [
    "milestoneDF.repartition(1).write.mode(\"overwrite\").parquet(\"abfss://team1-project2@20230821desa.dfs.core.windows.net/SilverLayer/milestone\")"
   ]
  }
 ],
 "metadata": {
  "application/vnd.databricks.v1+notebook": {
   "dashboards": [],
   "language": "python",
   "notebookMetadata": {
    "pythonIndentUnit": 4
   },
   "notebookName": "milestone-table",
   "widgets": {}
  }
 },
 "nbformat": 4,
 "nbformat_minor": 0
}
