{
 "cells": [
  {
   "cell_type": "markdown",
   "metadata": {
    "application/vnd.databricks.v1+cell": {
     "cellMetadata": {},
     "inputWidgets": {},
     "nuid": "8fdbe947-4073-4380-a6db-3ab543431d19",
     "showTitle": false,
     "title": ""
    }
   },
   "source": [
    "#### Creating Commit Comment Event Dataframe"
   ]
  },
  {
   "cell_type": "code",
   "execution_count": 0,
   "metadata": {
    "application/vnd.databricks.v1+cell": {
     "cellMetadata": {},
     "inputWidgets": {},
     "nuid": "80ae57d6-963d-40ea-acd3-e8ac89f54682",
     "showTitle": false,
     "title": ""
    }
   },
   "outputs": [],
   "source": [
    "df = spark.sql(\"SELECT * FROM data\")"
   ]
  },
  {
   "cell_type": "code",
   "execution_count": 0,
   "metadata": {
    "application/vnd.databricks.v1+cell": {
     "cellMetadata": {},
     "inputWidgets": {},
     "nuid": "3457d540-621d-4ff6-8877-61d20adcf831",
     "showTitle": false,
     "title": ""
    }
   },
   "outputs": [],
   "source": [
    "commit_comment_eventDF = (\n",
    "    df.filter(\"event_type == 'CommitCommentEvent'\")\n",
    "    .select(\n",
    "        col(\"event_id\").cast(LongType()).alias(\"id\"),\n",
    "        col(\"payload_action\").alias(\"action\"),\n",
    "        \"actor_id\",\n",
    "        col(\"payload_comment.id\").alias(\"commit_comment_id\"),\n",
    "        col(\"event_created_at\").cast(TimestampType()).alias(\"created_at\"),\n",
    "        \"org_id\",\n",
    "        col(\"event_public\").alias(\"public\"),\n",
    "        \"repo_id\",\n",
    "    )\n",
    "    .filter(col(\"id\").isNotNull())\n",
    "    .distinct()\n",
    "    .orderBy(col(\"id\"))\n",
    ")"
   ]
  },
  {
   "cell_type": "markdown",
   "metadata": {
    "application/vnd.databricks.v1+cell": {
     "cellMetadata": {},
     "inputWidgets": {},
     "nuid": "3ff4821b-11a0-419b-bdc5-d1421c1fe820",
     "showTitle": false,
     "title": ""
    }
   },
   "source": [
    "#### Write to database"
   ]
  },
  {
   "cell_type": "code",
   "execution_count": 0,
   "metadata": {
    "application/vnd.databricks.v1+cell": {
     "cellMetadata": {},
     "inputWidgets": {},
     "nuid": "5484e1ad-a9bb-4508-a8c2-186b34125d98",
     "showTitle": false,
     "title": ""
    }
   },
   "outputs": [],
   "source": [
    "commit_comment_eventDF.repartition(1).write.mode(\"overwrite\").parquet(\"abfss://team1-project2@20230821desa.dfs.core.windows.net/SilverLayer/commit-comment-event\")"
   ]
  }
 ],
 "metadata": {
  "application/vnd.databricks.v1+notebook": {
   "dashboards": [],
   "language": "python",
   "notebookMetadata": {
    "pythonIndentUnit": 4
   },
   "notebookName": "commit-comment-event-table",
   "widgets": {}
  }
 },
 "nbformat": 4,
 "nbformat_minor": 0
}
