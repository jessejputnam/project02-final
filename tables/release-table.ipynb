{
 "cells": [
  {
   "cell_type": "markdown",
   "metadata": {
    "application/vnd.databricks.v1+cell": {
     "cellMetadata": {},
     "inputWidgets": {},
     "nuid": "8ea8b393-66c2-45eb-b716-1e67075fd701",
     "showTitle": false,
     "title": ""
    }
   },
   "source": [
    "#### Creating Release Dataframe"
   ]
  },
  {
   "cell_type": "code",
   "execution_count": 0,
   "metadata": {
    "application/vnd.databricks.v1+cell": {
     "cellMetadata": {},
     "inputWidgets": {},
     "nuid": "8e74404b-a92d-40e2-93c9-64fc9ad4612c",
     "showTitle": false,
     "title": ""
    }
   },
   "outputs": [],
   "source": [
    "df = spark.sql(\"SELECT * FROM data\")"
   ]
  },
  {
   "cell_type": "code",
   "execution_count": 0,
   "metadata": {
    "application/vnd.databricks.v1+cell": {
     "cellMetadata": {},
     "inputWidgets": {},
     "nuid": "4a8a9076-a5c3-4581-8412-29a709acfceb",
     "showTitle": false,
     "title": ""
    }
   },
   "outputs": [],
   "source": [
    "release = df.select(\"payload_release.*\").distinct()"
   ]
  },
  {
   "cell_type": "code",
   "execution_count": 0,
   "metadata": {
    "application/vnd.databricks.v1+cell": {
     "cellMetadata": {},
     "inputWidgets": {},
     "nuid": "a5e9cd1f-b796-4d35-9866-53ccebb10d91",
     "showTitle": false,
     "title": ""
    }
   },
   "outputs": [],
   "source": [
    "releaseDF = (\n",
    "    release.filter(col(\"id\").isNotNull())\n",
    "    .select(\n",
    "        \"id\",\n",
    "        \"assets_url\",\n",
    "        col(\"author.id\").alias(\"author_id\"),\n",
    "        \"body\",\n",
    "        col(\"created_at\").cast(TimestampType()),\n",
    "        \"draft\",\n",
    "        \"html_url\",\n",
    "        \"is_short_description_html_truncated\",\n",
    "        \"mentions_count\",\n",
    "        \"name\",\n",
    "        \"node_id\",\n",
    "        \"prerelease\",\n",
    "        col(\"published_at\").cast(TimestampType()),\n",
    "        \"short_description_html\",\n",
    "        \"tag_name\",\n",
    "        \"tarball_url\",\n",
    "        \"target_commitish\",\n",
    "        \"upload_url\",\n",
    "        \"url\",\n",
    "        \"zipball_url\",\n",
    "    )\n",
    "    .distinct()\n",
    "    .orderBy(\"id\")\n",
    ")"
   ]
  },
  {
   "cell_type": "markdown",
   "metadata": {
    "application/vnd.databricks.v1+cell": {
     "cellMetadata": {},
     "inputWidgets": {},
     "nuid": "ee48056a-a5db-4d4a-8a1b-39961147c100",
     "showTitle": false,
     "title": ""
    }
   },
   "source": [
    "#### Write to Database"
   ]
  },
  {
   "cell_type": "code",
   "execution_count": 0,
   "metadata": {
    "application/vnd.databricks.v1+cell": {
     "cellMetadata": {},
     "inputWidgets": {},
     "nuid": "ccda03f1-1fe9-4f06-a91f-543f20b7fd75",
     "showTitle": false,
     "title": ""
    }
   },
   "outputs": [],
   "source": [
    "releaseDF.repartition(2).write.parquet(\"abfss://team1-project2@20230821desa.dfs.core.windows.net/SilverLayer/release\")"
   ]
  }
 ],
 "metadata": {
  "application/vnd.databricks.v1+notebook": {
   "dashboards": [],
   "language": "python",
   "notebookMetadata": {
    "pythonIndentUnit": 4
   },
   "notebookName": "release-table",
   "widgets": {}
  }
 },
 "nbformat": 4,
 "nbformat_minor": 0
}
