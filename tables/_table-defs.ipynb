{
 "cells": [
  {
   "cell_type": "markdown",
   "metadata": {
    "application/vnd.databricks.v1+cell": {
     "cellMetadata": {},
     "inputWidgets": {},
     "nuid": "287af476-bfe4-4594-80e6-b1f4e51ccbcd",
     "showTitle": false,
     "title": ""
    }
   },
   "source": [
    "### Defining schemas for each table/dataframe "
   ]
  },
  {
   "cell_type": "code",
   "execution_count": 0,
   "metadata": {
    "application/vnd.databricks.v1+cell": {
     "cellMetadata": {},
     "inputWidgets": {},
     "nuid": "08aa3a2e-9210-4355-b7c9-674412a35fcf",
     "showTitle": false,
     "title": ""
    }
   },
   "outputs": [],
   "source": [
    "from pyspark.sql.types import StructType, StructField, LongType, StringType, BooleanType, IntegerType, TimestampType"
   ]
  },
  {
   "cell_type": "markdown",
   "metadata": {
    "application/vnd.databricks.v1+cell": {
     "cellMetadata": {},
     "inputWidgets": {},
     "nuid": "8296a85e-92c1-44d9-97c3-5bcf61227830",
     "showTitle": false,
     "title": ""
    }
   },
   "source": [
    "#### User Table"
   ]
  },
  {
   "cell_type": "code",
   "execution_count": 0,
   "metadata": {
    "application/vnd.databricks.v1+cell": {
     "cellMetadata": {},
     "inputWidgets": {},
     "nuid": "1da87673-fad4-46a9-b506-02327e8c85e2",
     "showTitle": false,
     "title": "User Table"
    }
   },
   "outputs": [],
   "source": [
    "user_schema = StructType([\n",
    "    StructField(\"id\", LongType(), False),\n",
    "    StructField(\"avatar_url\", StringType(), True),\n",
    "    StructField(\"events_url\", StringType(), True),\n",
    "    StructField(\"followers_url\", StringType(), True),\n",
    "    StructField(\"following_url\", StringType(), True),\n",
    "    StructField(\"gists_url\", StringType(), True),\n",
    "    StructField(\"gravatar_id\", StringType(), True),\n",
    "    StructField(\"html_url\", StringType(), True),\n",
    "    StructField(\"login\", StringType(), True),\n",
    "    StructField(\"node_id\", StringType(), True),\n",
    "    StructField(\"organizations_url\", StringType(), True),\n",
    "    StructField(\"received_events_url\", StringType(), True),\n",
    "    StructField(\"repos_url\", StringType(), True),\n",
    "    StructField(\"site_admin\", BooleanType(), True),\n",
    "    StructField(\"starred_url\", StringType(), True),\n",
    "    StructField(\"subscriptions_url\", StringType(), True),\n",
    "    StructField(\"type\", StringType(), True),\n",
    "    StructField(\"url\", StringType(), True),\n",
    "])"
   ]
  },
  {
   "cell_type": "markdown",
   "metadata": {
    "application/vnd.databricks.v1+cell": {
     "cellMetadata": {},
     "inputWidgets": {},
     "nuid": "e9bdb053-c7d6-40db-abe7-43eeb9c2d232",
     "showTitle": false,
     "title": ""
    }
   },
   "source": [
    "#### License Table"
   ]
  },
  {
   "cell_type": "code",
   "execution_count": 0,
   "metadata": {
    "application/vnd.databricks.v1+cell": {
     "cellMetadata": {},
     "inputWidgets": {},
     "nuid": "2aa4429a-044a-4495-9316-a1590772fb93",
     "showTitle": false,
     "title": ""
    }
   },
   "outputs": [],
   "source": [
    "license_schema = StructType([\n",
    "    StructField(\"key\", StringType(), False),\n",
    "    StructField(\"name\", StringType(), True),\n",
    "    StructField(\"node_id\", StringType(), True),\n",
    "    StructField(\"spdx_id\", StringType(), True),\n",
    "    StructField(\"url\", StringType(), True)\n",
    "])"
   ]
  },
  {
   "cell_type": "markdown",
   "metadata": {
    "application/vnd.databricks.v1+cell": {
     "cellMetadata": {},
     "inputWidgets": {},
     "nuid": "56519723-824f-4ee7-9f43-9fdefcf409a0",
     "showTitle": false,
     "title": ""
    }
   },
   "source": [
    "#### Repo Table"
   ]
  },
  {
   "cell_type": "code",
   "execution_count": 0,
   "metadata": {
    "application/vnd.databricks.v1+cell": {
     "cellMetadata": {},
     "inputWidgets": {},
     "nuid": "92dcd48d-13f0-49d0-82a9-84141ac59390",
     "showTitle": false,
     "title": ""
    }
   },
   "outputs": [],
   "source": [
    "repo_schema = StructType([\n",
    "    StructField(\"id\", LongType(), False),\n",
    "    StructField(\"allow_forking\", BooleanType(), True),\n",
    "    StructField(\"archive_url\", StringType(), True),\n",
    "    StructField(\"archived\", BooleanType(), True),\n",
    "    StructField(\"assignees_url\", StringType(), True),\n",
    "    StructField(\"blobs_url\", StringType(), True),\n",
    "    StructField(\"branches_url\", StringType(), True),\n",
    "    StructField(\"clone_url\", StringType(), True),\n",
    "    StructField(\"collaborators_url\", StringType(), True),\n",
    "    StructField(\"comments_url\", StringType(), True),\n",
    "    StructField(\"commits_url\", StringType(), True),\n",
    "    StructField(\"compare_url\", StringType(), True),\n",
    "    StructField(\"contents_url\", StringType(), True),\n",
    "    StructField(\"contributors_url\", StringType(), True),\n",
    "    StructField(\"created_at\", TimestampType(), True),\n",
    "    StructField(\"default_branch\", StringType(), True),\n",
    "    StructField(\"deployments_url\", StringType(), True),\n",
    "    StructField(\"description\", StringType(), True),\n",
    "    StructField(\"disabled\", BooleanType(), True),\n",
    "    StructField(\"downloads_url\", StringType(), True),\n",
    "    StructField(\"events_url\", StringType(), True),\n",
    "    StructField(\"fork\", BooleanType(), True),\n",
    "    StructField(\"forks\", IntegerType(), True),\n",
    "    StructField(\"forks_count\", IntegerType(), True),\n",
    "    StructField(\"forks_url\", StringType(), True),\n",
    "    StructField(\"full_name\", StringType(), True),\n",
    "    StructField(\"git_commits_url\", StringType(), True),\n",
    "    StructField(\"git_refs_url\", StringType(), True),\n",
    "    StructField(\"git_tags_url\", StringType(), True),\n",
    "    StructField(\"git_url\", StringType(), True),\n",
    "    StructField(\"has_downloads\", BooleanType(), True),\n",
    "    StructField(\"has_issues\", BooleanType(), True),\n",
    "    StructField(\"has_pages\", BooleanType(), True),\n",
    "    StructField(\"has_projects\", BooleanType(), True),\n",
    "    StructField(\"has_wiki\", BooleanType(), True),\n",
    "    StructField(\"homepage\", StringType(), True),\n",
    "    StructField(\"hooks_url\", StringType(), True),\n",
    "    StructField(\"html_url\", StringType(), True),\n",
    "    StructField(\"is_template\", BooleanType(), True),\n",
    "    StructField(\"issue_comment_url\", StringType(), True),\n",
    "    StructField(\"issue_events_url\", StringType(), True),\n",
    "    StructField(\"issues_url\", StringType(), True),\n",
    "    StructField(\"keys_url\", StringType(), True),\n",
    "    StructField(\"labels_url\", StringType(), True),\n",
    "    StructField(\"language\", StringType(), True),\n",
    "    StructField(\"languages_url\", StringType(), True),\n",
    "    StructField(\"license_id\", StringType(), True),\n",
    "    StructField(\"merges_url\", StringType(), True),\n",
    "    StructField(\"milestones_url\", StringType(), True),\n",
    "    StructField(\"mirror_url\", StringType(), True),\n",
    "    StructField(\"name\", StringType(), True),\n",
    "    StructField(\"node_id\", StringType(), True),\n",
    "    StructField(\"notifications_url\", StringType(), True),\n",
    "    StructField(\"open_issues\", IntegerType(), True),\n",
    "    StructField(\"open_issues_count\", IntegerType(), True),\n",
    "    StructField(\"owner\", LongType(), True),\n",
    "    StructField(\"private\", BooleanType(), True),\n",
    "    StructField(\"pulls_url\", StringType(), True),\n",
    "    StructField(\"pushed_at\", TimestampType(), True),\n",
    "    StructField(\"releases_url\", StringType(), True),\n",
    "    StructField(\"size\", IntegerType(), True),\n",
    "    StructField(\"ssh_url\", StringType(), True),\n",
    "    StructField(\"stargazers_count\", IntegerType(), True),\n",
    "    StructField(\"stargazers_url\", StringType(), True),\n",
    "    StructField(\"statuses_url\", StringType(), True),\n",
    "    StructField(\"subscribers_url\", StringType(), True),\n",
    "    StructField(\"subscription_url\", StringType(), True),\n",
    "    StructField(\"svn_url\", StringType(), True),\n",
    "    StructField(\"tags_url\", StringType(), True),\n",
    "    StructField(\"teams_url\", StringType(), True),\n",
    "    StructField(\"trees_url\", StringType(), True),\n",
    "    StructField(\"updated_at\", TimestampType(), True),\n",
    "    StructField(\"url\", StringType(), True),\n",
    "    StructField(\"visibility\", StringType(), True),\n",
    "    StructField(\"watchers\", IntegerType(), True),\n",
    "    StructField(\"watchers_count\", IntegerType(), True)\n",
    "])"
   ]
  },
  {
   "cell_type": "markdown",
   "metadata": {
    "application/vnd.databricks.v1+cell": {
     "cellMetadata": {},
     "inputWidgets": {},
     "nuid": "381cc460-3fa2-4692-9e7e-43b45cb50cbf",
     "showTitle": false,
     "title": ""
    }
   },
   "source": [
    "#### Topic Schema"
   ]
  },
  {
   "cell_type": "code",
   "execution_count": 0,
   "metadata": {
    "application/vnd.databricks.v1+cell": {
     "cellMetadata": {},
     "inputWidgets": {},
     "nuid": "6f506c09-013a-4b7b-9c21-0723c7d52b42",
     "showTitle": false,
     "title": ""
    }
   },
   "outputs": [],
   "source": [
    "# Identity ID\n",
    "topic_schema = StructType([\n",
    "    StructField(\"id\", LongType(), False),\n",
    "    StructField(\"keyword\", StringType(), True)\n",
    "])"
   ]
  },
  {
   "cell_type": "markdown",
   "metadata": {
    "application/vnd.databricks.v1+cell": {
     "cellMetadata": {},
     "inputWidgets": {},
     "nuid": "4682351d-0f05-46cf-b1b7-da1914f794ee",
     "showTitle": false,
     "title": ""
    }
   },
   "source": [
    "#### RepoTopic Schema"
   ]
  },
  {
   "cell_type": "code",
   "execution_count": 0,
   "metadata": {
    "application/vnd.databricks.v1+cell": {
     "cellMetadata": {},
     "inputWidgets": {},
     "nuid": "703195c5-4b42-4106-bb0e-2407ab79e646",
     "showTitle": false,
     "title": ""
    }
   },
   "outputs": [],
   "source": [
    "# Identity ID\n",
    "repo_topic_schema = StructType([\n",
    "    StructField(\"repo_id\", LongType(), True),\n",
    "    StructField(\"topic_id\", LongType(), True)\n",
    "])"
   ]
  },
  {
   "cell_type": "markdown",
   "metadata": {
    "application/vnd.databricks.v1+cell": {
     "cellMetadata": {},
     "inputWidgets": {},
     "nuid": "17cc308f-0ede-42b5-9fc0-48bc19c68a19",
     "showTitle": false,
     "title": ""
    }
   },
   "source": [
    "#### Reactions Schema (N/A)"
   ]
  },
  {
   "cell_type": "code",
   "execution_count": 0,
   "metadata": {
    "application/vnd.databricks.v1+cell": {
     "cellMetadata": {},
     "inputWidgets": {},
     "nuid": "a18f9d1e-5a5c-4351-8f05-64bf4c3a32b0",
     "showTitle": false,
     "title": ""
    }
   },
   "outputs": [],
   "source": [
    "# Identity ID\n",
    "reactions_schema = StructType([\n",
    "    StructField(\"id\", LongType(), False),\n",
    "    StructField(\"+1\", IntegerType(), True),\n",
    "    StructField(\"-1\", IntegerType(), True),\n",
    "    StructField(\"confused\", IntegerType(), True),\n",
    "    StructField(\"eyes\", IntegerType(), True),\n",
    "    StructField(\"heart\", IntegerType(), True),\n",
    "    StructField(\"hooray\", IntegerType(), True),\n",
    "    StructField(\"laugh\", IntegerType(), True),\n",
    "    StructField(\"rocket\", IntegerType(), True),\n",
    "    StructField(\"total_count\", IntegerType(), True),\n",
    "    StructField(\"url\", StringType(), True)\n",
    "])"
   ]
  },
  {
   "cell_type": "markdown",
   "metadata": {
    "application/vnd.databricks.v1+cell": {
     "cellMetadata": {},
     "inputWidgets": {},
     "nuid": "43110b5d-6925-445d-9232-6988e8021968",
     "showTitle": false,
     "title": ""
    }
   },
   "source": [
    "#### Commit Schema"
   ]
  },
  {
   "cell_type": "code",
   "execution_count": 0,
   "metadata": {
    "application/vnd.databricks.v1+cell": {
     "cellMetadata": {},
     "inputWidgets": {},
     "nuid": "20aa8de1-4227-41c7-89e9-861d4b232e6a",
     "showTitle": false,
     "title": ""
    }
   },
   "outputs": [],
   "source": [
    "commit_schema = StructType([\n",
    "    StructField(\"sha\", StringType(), False),\n",
    "    StructField(\"author_email\", StringType(), True),\n",
    "    StructField(\"author_name\", StringType(), True),\n",
    "    StructField(\"distinct\", BooleanType(), True),\n",
    "    StructField(\"message\", StringType(), True),\n",
    "    StructField(\"url\", StringType(), True)\n",
    "])"
   ]
  },
  {
   "cell_type": "markdown",
   "metadata": {
    "application/vnd.databricks.v1+cell": {
     "cellMetadata": {},
     "inputWidgets": {},
     "nuid": "6a016fd8-6503-4e3b-8d9a-5705b3d869a0",
     "showTitle": false,
     "title": ""
    }
   },
   "source": [
    "#### Commit Comment Schema"
   ]
  },
  {
   "cell_type": "code",
   "execution_count": 0,
   "metadata": {
    "application/vnd.databricks.v1+cell": {
     "cellMetadata": {},
     "inputWidgets": {},
     "nuid": "47f0a2f7-9324-4d96-8563-5475b0b82e90",
     "showTitle": false,
     "title": ""
    }
   },
   "outputs": [],
   "source": [
    "commit_comment_schema = StructType([\n",
    "    StructField(\"id\", LongType(), False),\n",
    "    StructField(\"author_association\", StringType(), True),\n",
    "    StructField(\"body\", StringType(), True),\n",
    "    StructField(\"commit_id\", StringType(), True),\n",
    "    StructField(\"created_at\", TimestampType(), True),\n",
    "    StructField(\"html_url\", StringType(), True),\n",
    "    StructField(\"line\", IntegerType(), True),\n",
    "    StructField(\"node_id\", StringType(), True),\n",
    "    StructField(\"path\", StringType(), True),\n",
    "    StructField(\"position\", IntegerType(), True),\n",
    "    StructField(\"reactions_id\", LongType(), True),\n",
    "    StructField(\"updated_at\", TimestampType(), True),\n",
    "    StructField(\"url\", StringType(), True),\n",
    "    StructField(\"user_id\", LongType(), True)\n",
    "])"
   ]
  },
  {
   "cell_type": "markdown",
   "metadata": {
    "application/vnd.databricks.v1+cell": {
     "cellMetadata": {},
     "inputWidgets": {},
     "nuid": "72a1af19-e786-49b2-96aa-233e4ad78e8c",
     "showTitle": false,
     "title": ""
    }
   },
   "source": [
    "#### Commit Comment Event Schema"
   ]
  },
  {
   "cell_type": "code",
   "execution_count": 0,
   "metadata": {
    "application/vnd.databricks.v1+cell": {
     "cellMetadata": {},
     "inputWidgets": {},
     "nuid": "a405b9ab-0355-40a3-beaa-4ecd8960933d",
     "showTitle": false,
     "title": ""
    }
   },
   "outputs": [],
   "source": [
    "commit_comment_event_schema = StructType([\n",
    "    StructField(\"id\", LongType(), False),\n",
    "    StructField(\"action\", StringType(), True),\n",
    "    StructField(\"actor_id\", LongType(), True),\n",
    "    StructField(\"commit_comment_id\", LongType(), True),\n",
    "    StructField(\"created_at\", TimestampType(), True),\n",
    "    StructField(\"org_id\", LongType(), True),\n",
    "    StructField(\"public\", BooleanType(), True),\n",
    "    StructField(\"repo_id\", LongType(), True)\n",
    "])"
   ]
  },
  {
   "cell_type": "markdown",
   "metadata": {
    "application/vnd.databricks.v1+cell": {
     "cellMetadata": {},
     "inputWidgets": {},
     "nuid": "0924389b-5d62-44d2-87b3-c6c35c50c219",
     "showTitle": false,
     "title": ""
    }
   },
   "source": [
    "#### Create Event Schema"
   ]
  },
  {
   "cell_type": "code",
   "execution_count": 0,
   "metadata": {
    "application/vnd.databricks.v1+cell": {
     "cellMetadata": {},
     "inputWidgets": {},
     "nuid": "117eb662-419f-4892-bf9e-3cafcc7ea64d",
     "showTitle": false,
     "title": ""
    }
   },
   "outputs": [],
   "source": [
    "create_event_schema = StructType([\n",
    "    StructField(\"id\", LongType(), False),\n",
    "    StructField(\"actor_id\", LongType(), True),\n",
    "    StructField(\"created_at\", TimestampType(), True),\n",
    "    StructField(\"description\", StringType(), True),\n",
    "    StructField(\"master_branch\", StringType(), True),\n",
    "    StructField(\"org_id\", LongType(), True),\n",
    "    StructField(\"public\", BooleanType(), True),\n",
    "    StructField(\"ref\", StringType(), True),\n",
    "    StructField(\"ref_type\", StringType(), True),\n",
    "    StructField(\"repo_id\", LongType(), True)\n",
    "])"
   ]
  },
  {
   "cell_type": "markdown",
   "metadata": {
    "application/vnd.databricks.v1+cell": {
     "cellMetadata": {},
     "inputWidgets": {},
     "nuid": "b0c26e34-8a05-4418-981d-7dedc2fa1cfa",
     "showTitle": false,
     "title": ""
    }
   },
   "source": [
    "#### Delete Event Schema"
   ]
  },
  {
   "cell_type": "code",
   "execution_count": 0,
   "metadata": {
    "application/vnd.databricks.v1+cell": {
     "cellMetadata": {},
     "inputWidgets": {},
     "nuid": "0219a6fa-b29e-459f-b325-fa632e9a8800",
     "showTitle": false,
     "title": ""
    }
   },
   "outputs": [],
   "source": [
    "delete_event_schema = StructType([\n",
    "    StructField(\"id\", LongType(), False),\n",
    "    StructField(\"actor_id\", LongType(), True),\n",
    "    StructField(\"created_at\", TimestampType(), True),\n",
    "    StructField(\"org_id\", LongType(), True),\n",
    "    StructField(\"public\", BooleanType(), True),\n",
    "    StructField(\"ref\", StringType(), True),\n",
    "    StructField(\"ref_type\", StringType(), True),\n",
    "    StructField(\"repo_id\", LongType(), True)\n",
    "])"
   ]
  },
  {
   "cell_type": "markdown",
   "metadata": {
    "application/vnd.databricks.v1+cell": {
     "cellMetadata": {},
     "inputWidgets": {},
     "nuid": "e1c046bb-adf1-48a1-ba6a-5dfc65bc2563",
     "showTitle": false,
     "title": ""
    }
   },
   "source": [
    "#### Fork Event Schema"
   ]
  },
  {
   "cell_type": "code",
   "execution_count": 0,
   "metadata": {
    "application/vnd.databricks.v1+cell": {
     "cellMetadata": {},
     "inputWidgets": {},
     "nuid": "ddc0daa1-7702-48bd-bc8d-c2c9e0c8194e",
     "showTitle": false,
     "title": ""
    }
   },
   "outputs": [],
   "source": [
    "fork_event_schema = StructType([\n",
    "    StructField(\"id\", LongType(), False),\n",
    "    StructField(\"actor_id\", LongType(), True),\n",
    "    StructField(\"created_at\", TimestampType(), True),\n",
    "    StructField(\"forkee_id\", LongType(), True),\n",
    "    StructField(\"org_id\", LongType(), True),\n",
    "    StructField(\"public\", BooleanType(), True),\n",
    "    StructField(\"repo_id\", LongType(), True)\n",
    "])"
   ]
  },
  {
   "cell_type": "markdown",
   "metadata": {
    "application/vnd.databricks.v1+cell": {
     "cellMetadata": {},
     "inputWidgets": {},
     "nuid": "3de08333-9055-48a3-890f-d32e3a4c52b8",
     "showTitle": false,
     "title": ""
    }
   },
   "source": [
    "#### Gollum Event Schema"
   ]
  },
  {
   "cell_type": "code",
   "execution_count": 0,
   "metadata": {
    "application/vnd.databricks.v1+cell": {
     "cellMetadata": {},
     "inputWidgets": {},
     "nuid": "e618176b-1b86-4a93-a824-24a53048692f",
     "showTitle": false,
     "title": ""
    }
   },
   "outputs": [],
   "source": [
    "gollum_event_schema = StructType([\n",
    "    StructField(\"id\", LongType(), False),\n",
    "    StructField(\"actor_id\", LongType(), True),\n",
    "    StructField(\"created_at\", TimestampType(), True),\n",
    "    StructField(\"org_id\", LongType(), True),\n",
    "    StructField(\"public\", BooleanType(), True),\n",
    "    StructField(\"repo_id\", LongType(), True)\n",
    "])"
   ]
  },
  {
   "cell_type": "markdown",
   "metadata": {
    "application/vnd.databricks.v1+cell": {
     "cellMetadata": {},
     "inputWidgets": {},
     "nuid": "aecb23cb-9e66-4f6a-8620-ae7915a300b8",
     "showTitle": false,
     "title": ""
    }
   },
   "source": [
    "#### Page Schema"
   ]
  },
  {
   "cell_type": "code",
   "execution_count": 0,
   "metadata": {
    "application/vnd.databricks.v1+cell": {
     "cellMetadata": {},
     "inputWidgets": {},
     "nuid": "9e9f7a64-9806-4007-82d0-fca33d4f4f55",
     "showTitle": false,
     "title": ""
    }
   },
   "outputs": [],
   "source": [
    "page_schema = StructType([\n",
    "    StructField(\"id\", LongType(), False),\n",
    "    StructField(\"gollum_event_id\", LongType(), True),\n",
    "    StructField(\"action\", StringType(), True),\n",
    "    StructField(\"html_url\", StringType(), True),\n",
    "    StructField(\"name\", StringType(), True),\n",
    "    StructField(\"sha\", StringType(), True),\n",
    "    StructField(\"summary\", StringType(), True),\n",
    "    StructField(\"title\", StringType(), True)\n",
    "])"
   ]
  },
  {
   "cell_type": "markdown",
   "metadata": {
    "application/vnd.databricks.v1+cell": {
     "cellMetadata": {},
     "inputWidgets": {},
     "nuid": "755c3d09-f93e-4206-974f-45a546ffa885",
     "showTitle": false,
     "title": ""
    }
   },
   "source": [
    "#### Issue Schema"
   ]
  },
  {
   "cell_type": "code",
   "execution_count": 0,
   "metadata": {
    "application/vnd.databricks.v1+cell": {
     "cellMetadata": {},
     "inputWidgets": {},
     "nuid": "8ff1eb32-bfb0-4c4b-a2c0-04f4afd77692",
     "showTitle": false,
     "title": ""
    }
   },
   "outputs": [],
   "source": [
    "issue_schema = StructType([\n",
    "    StructField(\"id\", LongType(), False),\n",
    "    StructField(\"assignee_id\", LongType(), True),\n",
    "    StructField(\"author_association\", StringType(), True),\n",
    "    StructField(\"body\", StringType(), True),\n",
    "    StructField(\"closed_at\", TimestampType(), True),\n",
    "    StructField(\"comments\", IntegerType(), True),\n",
    "    StructField(\"comments_url\", StringType(), True),\n",
    "    StructField(\"created_at\", TimestampType(), True),\n",
    "    StructField(\"events_url\", StringType(), True),\n",
    "    StructField(\"html_url\", StringType(), True),\n",
    "    StructField(\"labels_url\", StringType(), True),\n",
    "    StructField(\"locked\", BooleanType(), True),\n",
    "    StructField(\"milestone_id\", LongType(), True),\n",
    "    StructField(\"node_id\", StringType(), True),\n",
    "    StructField(\"number\", IntegerType(), True),\n",
    "    StructField(\"reactions_id\", LongType(), True),\n",
    "    StructField(\"repository_url\", StringType(), True),\n",
    "    StructField(\"state\", StringType(), True),\n",
    "    StructField(\"timeline_url\", StringType(), True),\n",
    "    StructField(\"title\", StringType(), True),\n",
    "    StructField(\"updated_at\", TimestampType(), True),\n",
    "    StructField(\"url\", StringType(), True),\n",
    "    StructField(\"user_id\", LongType(), True),\n",
    "])"
   ]
  },
  {
   "cell_type": "markdown",
   "metadata": {
    "application/vnd.databricks.v1+cell": {
     "cellMetadata": {},
     "inputWidgets": {},
     "nuid": "7b22e8e7-2f68-4525-b674-e3d3859c9878",
     "showTitle": false,
     "title": ""
    }
   },
   "source": [
    "#### Permissions Schema"
   ]
  },
  {
   "cell_type": "code",
   "execution_count": 0,
   "metadata": {
    "application/vnd.databricks.v1+cell": {
     "cellMetadata": {},
     "inputWidgets": {},
     "nuid": "d35146f7-8ff9-42d4-ba06-812f0574e61b",
     "showTitle": false,
     "title": ""
    }
   },
   "outputs": [],
   "source": [
    "permissions_schema = StructType([\n",
    "    StructField(\"id\", LongType(), False),\n",
    "    StructField(\"actions\", StringType(), True),\n",
    "    StructField(\"administration\", StringType(), True),\n",
    "    StructField(\"checks\", StringType(), True),\n",
    "    StructField(\"codespace_metadata\", StringType(), True),\n",
    "    StructField(\"contents\", StringType(), True),\n",
    "    StructField(\"deployments\", StringType(), True),\n",
    "    StructField(\"discussions\", StringType(), True),\n",
    "    StructField(\"emails\", StringType(), True),\n",
    "    StructField(\"emails\", StringType(), True),\n",
    "    StructField(\"followers\", StringType(), True),\n",
    "    StructField(\"gists\", StringType(), True),\n",
    "    StructField(\"issues\", StringType(), True),\n",
    "    StructField(\"members\", StringType(), True),\n",
    "    StructField(\"metadata\", StringType(), True),\n",
    "    StructField(\"organization_administration\", StringType(), True),\n",
    "    StructField(\"organization_packages\", StringType(), True),\n",
    "    StructField(\"organization_projects\", StringType(), True),\n",
    "    StructField(\"packages\", StringType(), True),\n",
    "    StructField(\"pages\", StringType(), True),\n",
    "    StructField(\"profile\", StringType(), True),\n",
    "    StructField(\"pull_requests\", StringType(), True),\n",
    "    StructField(\"pull_request_comment_only_reviews\", StringType(), True),\n",
    "    StructField(\"repository_hooks\", StringType(), True),\n",
    "    StructField(\"repository_projects\", StringType(), True),\n",
    "    StructField(\"single_file\", StringType(), True),\n",
    "    StructField(\"starring\", StringType(), True),\n",
    "    StructField(\"statuses\", StringType(), True),\n",
    "    StructField(\"workflows\", StringType(), True)\n",
    "])"
   ]
  },
  {
   "cell_type": "markdown",
   "metadata": {
    "application/vnd.databricks.v1+cell": {
     "cellMetadata": {},
     "inputWidgets": {},
     "nuid": "93367d55-da95-4aad-8ff2-ae11fe72cedc",
     "showTitle": false,
     "title": ""
    }
   },
   "source": [
    "#### Event Schema"
   ]
  },
  {
   "cell_type": "code",
   "execution_count": 0,
   "metadata": {
    "application/vnd.databricks.v1+cell": {
     "cellMetadata": {},
     "inputWidgets": {},
     "nuid": "d237414e-795d-4d5e-b912-da1e51051527",
     "showTitle": false,
     "title": ""
    }
   },
   "outputs": [],
   "source": [
    "event_schema = StructType([\n",
    "    StructField(\"id\", LongType(), False),\n",
    "    StructField(\"type\", StringType(), True),\n",
    "])"
   ]
  },
  {
   "cell_type": "markdown",
   "metadata": {
    "application/vnd.databricks.v1+cell": {
     "cellMetadata": {},
     "inputWidgets": {},
     "nuid": "a5e90c46-a87e-4851-a310-ab1adc3460cc",
     "showTitle": false,
     "title": ""
    }
   },
   "source": [
    "#### Performed Via Github App Event Schema"
   ]
  },
  {
   "cell_type": "code",
   "execution_count": 0,
   "metadata": {
    "application/vnd.databricks.v1+cell": {
     "cellMetadata": {},
     "inputWidgets": {},
     "nuid": "9ce2aa4b-934d-487d-bd22-7d44664cdb1a",
     "showTitle": false,
     "title": ""
    }
   },
   "outputs": [],
   "source": [
    "peformed_via_github_app_event_schema = StructType([\n",
    "    StructField(\"event_id\", LongType(), True),\n",
    "    StructField(\"performed_via_github_app_id\", LongType(), True)\n",
    "])"
   ]
  },
  {
   "cell_type": "markdown",
   "metadata": {
    "application/vnd.databricks.v1+cell": {
     "cellMetadata": {},
     "inputWidgets": {},
     "nuid": "a550541d-7ef6-4985-ae9f-14f9fd440e70",
     "showTitle": false,
     "title": ""
    }
   },
   "source": [
    "#### Performed Via Github App Schema"
   ]
  },
  {
   "cell_type": "code",
   "execution_count": 0,
   "metadata": {
    "application/vnd.databricks.v1+cell": {
     "cellMetadata": {},
     "inputWidgets": {},
     "nuid": "fa7f5ea3-5b75-4777-9549-77a6189acf06",
     "showTitle": false,
     "title": ""
    }
   },
   "outputs": [],
   "source": [
    "peformed_via_github_app_schema = StructType([\n",
    "    StructField(\"id\", LongType(), False),\n",
    "    StructField(\"created_at\", TimestampType(), True),\n",
    "    StructField(\"description\", StringType(), True),\n",
    "    StructField(\"external_url\", StringType(), True),\n",
    "    StructField(\"html_url\", StringType(), True),\n",
    "    StructField(\"name\", StringType(), True),\n",
    "    StructField(\"node_id\", StringType(), True),\n",
    "    StructField(\"owner_id\", LongType(), True),\n",
    "    StructField(\"permissions_id\", LongType(), True),\n",
    "    StructField(\"updated_at\", TimestampType(), True)\n",
    "])"
   ]
  },
  {
   "cell_type": "markdown",
   "metadata": {
    "application/vnd.databricks.v1+cell": {
     "cellMetadata": {},
     "inputWidgets": {},
     "nuid": "125c111f-ce38-4fc1-b43f-0720c99b1f4e",
     "showTitle": false,
     "title": ""
    }
   },
   "source": [
    "#### Issue Comment Schema"
   ]
  },
  {
   "cell_type": "code",
   "execution_count": 0,
   "metadata": {
    "application/vnd.databricks.v1+cell": {
     "cellMetadata": {},
     "inputWidgets": {},
     "nuid": "ab7ffa11-c650-4d5c-8fa3-5e15d84a8ad7",
     "showTitle": false,
     "title": ""
    }
   },
   "outputs": [],
   "source": [
    "issue_comment_schema = StructType([\n",
    "    StructField(\"id\", LongType(), False),\n",
    "    StructField(\"author_association\", StringType(), True),\n",
    "    StructField(\"body\", StringType(), True),\n",
    "    StructField(\"created_at\", TimestampType(), True),\n",
    "    StructField(\"html_url\", StringType(), True),\n",
    "    StructField(\"issue_url\", StringType(), True),\n",
    "    StructField(\"node_id\", StringType(), True),\n",
    "    StructField(\"reactions_id\", LongType(), True),\n",
    "    StructField(\"updated_at\", TimestampType(), True),\n",
    "    StructField(\"url\", StringType(), True),\n",
    "    StructField(\"user_id\", LongType(), True)\n",
    "])"
   ]
  },
  {
   "cell_type": "markdown",
   "metadata": {
    "application/vnd.databricks.v1+cell": {
     "cellMetadata": {},
     "inputWidgets": {},
     "nuid": "e9437731-983c-4e34-8350-00d445b635f9",
     "showTitle": false,
     "title": ""
    }
   },
   "source": [
    "#### Milestone Schema"
   ]
  },
  {
   "cell_type": "code",
   "execution_count": 0,
   "metadata": {
    "application/vnd.databricks.v1+cell": {
     "cellMetadata": {},
     "inputWidgets": {},
     "nuid": "27b76d9a-52e3-4810-a278-4c32e8cb268f",
     "showTitle": false,
     "title": ""
    }
   },
   "outputs": [],
   "source": [
    "milestone_schema = StructType([\n",
    "    StructField(\"id\", LongType(), False),\n",
    "    StructField(\"closed_at\", TimestampType(), True),\n",
    "    StructField(\"closed_issues\", IntegerType(), True),\n",
    "    StructField(\"created_at\", TimestampType(), True),\n",
    "    StructField(\"creator_id\", LongType(), True),\n",
    "    StructField(\"description\", StringType(), True),\n",
    "    StructField(\"due_on\", TimestampType(), True),\n",
    "    StructField(\"html_url\", StringType(), True),\n",
    "    StructField(\"labels_url\", StringType(), True),\n",
    "    StructField(\"node_id\", StringType(), True),\n",
    "    StructField(\"number\", IntegerType(), True),\n",
    "    StructField(\"open_issues\", IntegerType(), True),\n",
    "    StructField(\"state\", StringType(), True),\n",
    "    StructField(\"title\", StringType(), True),\n",
    "    StructField(\"updated_at\", TimestampType(), True),\n",
    "    StructField(\"url\", StringType(), True)\n",
    "])"
   ]
  },
  {
   "cell_type": "markdown",
   "metadata": {
    "application/vnd.databricks.v1+cell": {
     "cellMetadata": {},
     "inputWidgets": {},
     "nuid": "f6f8989a-9d9d-4fd2-9592-2277089fdcaf",
     "showTitle": false,
     "title": ""
    }
   },
   "source": [
    "#### Issue Comment Event Schema"
   ]
  },
  {
   "cell_type": "code",
   "execution_count": 0,
   "metadata": {
    "application/vnd.databricks.v1+cell": {
     "cellMetadata": {},
     "inputWidgets": {},
     "nuid": "36bd6788-dc2b-406a-aa8d-8940a8412453",
     "showTitle": false,
     "title": ""
    }
   },
   "outputs": [],
   "source": [
    "issue_comment_event_schema = StructType([\n",
    "    StructField(\"id\", LongType(), False),\n",
    "    StructField(\"action\", StringType(), True),\n",
    "    StructField(\"actor_id\", LongType(), True),\n",
    "    StructField(\"created_at\", TimestampType(), True),\n",
    "    StructField(\"issue_comment_id\", LongType(), True),\n",
    "    StructField(\"issue_id\", LongType(), True),\n",
    "    StructField(\"node_id\", StringType(), True),\n",
    "    StructField(\"number\", IntegerType(), True),\n",
    "    StructField(\"org_id\", LongType(), True),\n",
    "    StructField(\"public\", BooleanType(), True),\n",
    "    StructField(\"repo_id\", LongType(), True)\n",
    "])"
   ]
  },
  {
   "cell_type": "markdown",
   "metadata": {
    "application/vnd.databricks.v1+cell": {
     "cellMetadata": {},
     "inputWidgets": {},
     "nuid": "a680aca9-94b3-44a2-b7b9-955b5490408c",
     "showTitle": false,
     "title": ""
    }
   },
   "source": [
    "#### Issue Assignee Schema"
   ]
  },
  {
   "cell_type": "code",
   "execution_count": 0,
   "metadata": {
    "application/vnd.databricks.v1+cell": {
     "cellMetadata": {},
     "inputWidgets": {},
     "nuid": "e6f899e2-af19-445e-a01a-378fcffe6182",
     "showTitle": false,
     "title": ""
    }
   },
   "outputs": [],
   "source": [
    "issue_assignee_schema = StructType([\n",
    "    StructField(\"issue_id\", LongType(), True),\n",
    "    StructField(\"user_id\", LongType(), True)\n",
    "])"
   ]
  },
  {
   "cell_type": "markdown",
   "metadata": {
    "application/vnd.databricks.v1+cell": {
     "cellMetadata": {},
     "inputWidgets": {},
     "nuid": "ab91a1ba-bef3-4402-92c7-10b4c598ce21",
     "showTitle": false,
     "title": ""
    }
   },
   "source": [
    "#### Label Schema"
   ]
  },
  {
   "cell_type": "code",
   "execution_count": 0,
   "metadata": {
    "application/vnd.databricks.v1+cell": {
     "cellMetadata": {},
     "inputWidgets": {},
     "nuid": "33503446-dc80-4bfd-854d-dda2b0295349",
     "showTitle": false,
     "title": ""
    }
   },
   "outputs": [],
   "source": [
    "label_schema = StructType([\n",
    "    StructField(\"id\", LongType(), False),\n",
    "    StructField(\"color\", StringType(), True),\n",
    "    StructField(\"default\", BooleanType(), True),\n",
    "    StructField(\"description\", StringType(), True),\n",
    "    StructField(\"name\", StringType(), True),\n",
    "    StructField(\"node_id\", StringType(), True),\n",
    "    StructField(\"url\", StringType(), True)\n",
    "])"
   ]
  },
  {
   "cell_type": "markdown",
   "metadata": {
    "application/vnd.databricks.v1+cell": {
     "cellMetadata": {},
     "inputWidgets": {},
     "nuid": "738b6d4f-343b-479d-9444-b93c3f6df44f",
     "showTitle": false,
     "title": ""
    }
   },
   "source": [
    "#### Issue Label Schema"
   ]
  },
  {
   "cell_type": "code",
   "execution_count": 0,
   "metadata": {
    "application/vnd.databricks.v1+cell": {
     "cellMetadata": {},
     "inputWidgets": {},
     "nuid": "7953d2d6-98fc-4d66-ad44-044cac91dc5d",
     "showTitle": false,
     "title": ""
    }
   },
   "outputs": [],
   "source": [
    "issue_label_schema = StructType([\n",
    "    StructField(\"id\", LongType(), False),\n",
    "    StructField(\"issue_id\", LongType(), True),\n",
    "    StructField(\"label_id\", LongType(), True)\n",
    "])"
   ]
  },
  {
   "cell_type": "markdown",
   "metadata": {
    "application/vnd.databricks.v1+cell": {
     "cellMetadata": {},
     "inputWidgets": {},
     "nuid": "16867436-884c-4ef6-8157-a5e76c96e575",
     "showTitle": false,
     "title": ""
    }
   },
   "source": [
    "#### Issues Event Schema"
   ]
  },
  {
   "cell_type": "code",
   "execution_count": 0,
   "metadata": {
    "application/vnd.databricks.v1+cell": {
     "cellMetadata": {},
     "inputWidgets": {},
     "nuid": "7ce4c3e8-5a58-497a-9f47-c2a487610f7a",
     "showTitle": false,
     "title": ""
    }
   },
   "outputs": [],
   "source": [
    "issues_event_schema = StructType([\n",
    "    StructField(\"id\", LongType(), False),\n",
    "    StructField(\"action\", StringType(), True),\n",
    "    StructField(\"actor_id\", LongType(), True),\n",
    "    StructField(\"created_at\", TimestampType(), True),\n",
    "    StructField(\"issue_id\", LongType(), True),\n",
    "    StructField(\"org_id\", LongType(), True),\n",
    "    StructField(\"public\", BooleanType(), True),\n",
    "    StructField(\"repo_id\", LongType(), True)\n",
    "])"
   ]
  },
  {
   "cell_type": "markdown",
   "metadata": {
    "application/vnd.databricks.v1+cell": {
     "cellMetadata": {},
     "inputWidgets": {},
     "nuid": "49251105-2bcb-40df-9ad1-0bb055432619",
     "showTitle": false,
     "title": ""
    }
   },
   "source": [
    "#### Member Event Schema"
   ]
  },
  {
   "cell_type": "code",
   "execution_count": 0,
   "metadata": {
    "application/vnd.databricks.v1+cell": {
     "cellMetadata": {},
     "inputWidgets": {},
     "nuid": "3f2e6f53-cc34-41d7-8d8c-843532e0ab82",
     "showTitle": false,
     "title": ""
    }
   },
   "outputs": [],
   "source": [
    "member_event_schema = StructType([\n",
    "    StructField(\"id\", LongType(), False),\n",
    "    StructField(\"action\", StringType(), True),\n",
    "    StructField(\"actor_id\", LongType(), True),\n",
    "    StructField(\"created_at\", TimestampType(), True),\n",
    "    StructField(\"member_id\", LongType(), True),\n",
    "    StructField(\"org_id\", LongType(), True),\n",
    "    StructField(\"public\", BooleanType(), True),\n",
    "    StructField(\"repo_id\", LongType(), True)\n",
    "])"
   ]
  },
  {
   "cell_type": "markdown",
   "metadata": {
    "application/vnd.databricks.v1+cell": {
     "cellMetadata": {},
     "inputWidgets": {},
     "nuid": "cb3c15ac-2fe4-42e7-9e2e-070f04fb92c8",
     "showTitle": false,
     "title": ""
    }
   },
   "source": [
    "#### Public Event Schema"
   ]
  },
  {
   "cell_type": "code",
   "execution_count": 0,
   "metadata": {
    "application/vnd.databricks.v1+cell": {
     "cellMetadata": {},
     "inputWidgets": {},
     "nuid": "ae8e5b3f-e7ce-4fa7-a56a-55d5e9630a7e",
     "showTitle": false,
     "title": ""
    }
   },
   "outputs": [],
   "source": [
    "public_event_schema = StructType([\n",
    "    StructField(\"id\", LongType(), False),\n",
    "    StructField(\"actor_id\", LongType(), True),\n",
    "    StructField(\"created_at\", TimestampType(), True),\n",
    "    StructField(\"org_id\", LongType(), True),\n",
    "    StructField(\"public\", BooleanType(), True),\n",
    "    StructField(\"repo_id\", LongType(), True)\n",
    "])"
   ]
  },
  {
   "cell_type": "markdown",
   "metadata": {
    "application/vnd.databricks.v1+cell": {
     "cellMetadata": {},
     "inputWidgets": {},
     "nuid": "6417dfe1-4b79-4b71-b551-54836ef684fc",
     "showTitle": false,
     "title": ""
    }
   },
   "source": [
    "#### Auto Merge Schema (N/A)"
   ]
  },
  {
   "cell_type": "code",
   "execution_count": 0,
   "metadata": {
    "application/vnd.databricks.v1+cell": {
     "cellMetadata": {},
     "inputWidgets": {},
     "nuid": "abe6b348-5c21-4e4a-84f8-f6119446a8ec",
     "showTitle": false,
     "title": ""
    }
   },
   "outputs": [],
   "source": [
    "auto_merge_schema = StructType([\n",
    "    StructField(\"id\", LongType(), False),\n",
    "    StructField(\"commit_message\", StringType(), True),\n",
    "    StructField(\"commit_title\", StringType(), True),\n",
    "    StructField(\"enabled_by\", LongType(), True),\n",
    "    StructField(\"merge_method\", StringType(), True)\n",
    "])"
   ]
  },
  {
   "cell_type": "markdown",
   "metadata": {
    "application/vnd.databricks.v1+cell": {
     "cellMetadata": {},
     "inputWidgets": {},
     "nuid": "aa376cad-b4eb-49f3-9e8e-763338493e0b",
     "showTitle": false,
     "title": ""
    }
   },
   "source": [
    "#### Branch Schema"
   ]
  },
  {
   "cell_type": "code",
   "execution_count": 0,
   "metadata": {
    "application/vnd.databricks.v1+cell": {
     "cellMetadata": {},
     "inputWidgets": {},
     "nuid": "d68d2613-dbae-4c45-8d46-4ac1631354ec",
     "showTitle": false,
     "title": ""
    }
   },
   "outputs": [],
   "source": [
    "branch_schema = StructType([\n",
    "    StructField(\"id\", StringType(), False),\n",
    "    StructField(\"label\", StringType(), True),\n",
    "    StructField(\"ref\", StringType(), True),\n",
    "    StructField(\"repo\", LongType(), True),\n",
    "    StructField(\"sha\", StringType(), True)\n",
    "])"
   ]
  },
  {
   "cell_type": "markdown",
   "metadata": {
    "application/vnd.databricks.v1+cell": {
     "cellMetadata": {},
     "inputWidgets": {},
     "nuid": "783ebea1-07b3-4faf-b245-c751caa45a6a",
     "showTitle": false,
     "title": ""
    }
   },
   "source": [
    "#### Pull Request Schema"
   ]
  },
  {
   "cell_type": "code",
   "execution_count": 0,
   "metadata": {
    "application/vnd.databricks.v1+cell": {
     "cellMetadata": {},
     "inputWidgets": {},
     "nuid": "d0bcca48-43cb-4a8f-9f10-ad90a268e020",
     "showTitle": false,
     "title": ""
    }
   },
   "outputs": [],
   "source": [
    "pull_request_schema = StructType([\n",
    "    StructField(\"id\", LongType(), False),\n",
    "    StructField(\"active_lock_reason\", StringType(), True),\n",
    "    StructField(\"additions\", IntegerType(), True),\n",
    "    StructField(\"assignee_id\", LongType(), True),\n",
    "    StructField(\"author_association\", StringType(), True),\n",
    "    StructField(\"auto_merge\", LongType(), True),\n",
    "    StructField(\"base_id\", StringType(), True),\n",
    "    StructField(\"body\", StringType(), True),\n",
    "    StructField(\"changed_files\", IntegerType(), True),\n",
    "    StructField(\"closed_at\", TimestampType(), True),\n",
    "    StructField(\"comments\", IntegerType(), True),\n",
    "    StructField(\"comments_url\", StringType(), True),\n",
    "    StructField(\"commits\", IntegerType(), True),\n",
    "    StructField(\"commits_url\", StringType(), True),\n",
    "    StructField(\"created_at\", TimestampType(), True),\n",
    "    StructField(\"deletions\", IntegerType(), True),\n",
    "    StructField(\"diff_url\", StringType(), True),\n",
    "    StructField(\"draft\", BooleanType(), True),\n",
    "    StructField(\"head_id\", StringType(), True),\n",
    "    StructField(\"html_url\", StringType(), True),\n",
    "    StructField(\"issue_url\", StringType(), True),\n",
    "    StructField(\"locked\", BooleanType(), True),\n",
    "    StructField(\"maintainer_can_modify\", BooleanType(), True),\n",
    "    StructField(\"merge_commit_sha\", StringType(), True),\n",
    "    StructField(\"mergeable\", BooleanType(), True),\n",
    "    StructField(\"mergeable_state\", StringType(), True),\n",
    "    StructField(\"merged\", BooleanType(), True),\n",
    "    StructField(\"merged_at\", TimestampType(), True),\n",
    "    StructField(\"merged_by_id\", LongType(), True),\n",
    "    StructField(\"milestone\", LongType(), True),\n",
    "    StructField(\"node_id\", StringType(), True),\n",
    "    StructField(\"number\", IntegerType(), True),\n",
    "    StructField(\"patch_url\", StringType(), True),\n",
    "    StructField(\"rebaseable\", BooleanType(), True),\n",
    "    StructField(\"review_comment_url\", StringType(), True),\n",
    "    StructField(\"review_comments\", IntegerType(), True),\n",
    "    StructField(\"review_comments_url\", StringType(), True),\n",
    "    StructField(\"state\", StringType(), True),\n",
    "    StructField(\"statuses_url\", StringType(), True),\n",
    "    StructField(\"title\", StringType(), True),\n",
    "    StructField(\"updated_at\", TimestampType(), True),\n",
    "    StructField(\"url\", StringType(), True),\n",
    "    StructField(\"user_id\", LongType(), True)\n",
    "])"
   ]
  },
  {
   "cell_type": "markdown",
   "metadata": {
    "application/vnd.databricks.v1+cell": {
     "cellMetadata": {},
     "inputWidgets": {},
     "nuid": "de5d11b7-4337-497b-98e6-26f2f9f0fc20",
     "showTitle": false,
     "title": ""
    }
   },
   "source": [
    "#### Pull Request Event Schema"
   ]
  },
  {
   "cell_type": "code",
   "execution_count": 0,
   "metadata": {
    "application/vnd.databricks.v1+cell": {
     "cellMetadata": {},
     "inputWidgets": {},
     "nuid": "ecb61134-b17e-4d93-b97e-25e69ec9b06d",
     "showTitle": false,
     "title": ""
    }
   },
   "outputs": [],
   "source": [
    "pull_request_event_schema = StructType([\n",
    "    StructField(\"id\", LongType(), False),\n",
    "    StructField(\"actor_id\", LongType(), True),\n",
    "    StructField(\"action\", StringType(), True),\n",
    "    StructField(\"created_at\", TimestampType(), True),\n",
    "    StructField(\"number\", IntegerType(), True),\n",
    "    StructField(\"org_id\", LongType(), True),\n",
    "    StructField(\"public\", BooleanType(), True),\n",
    "    StructField(\"pull_request_id\", LongType(), True),\n",
    "    StructField(\"repo_id\", LongType(), True)\n",
    "])"
   ]
  },
  {
   "cell_type": "markdown",
   "metadata": {
    "application/vnd.databricks.v1+cell": {
     "cellMetadata": {},
     "inputWidgets": {},
     "nuid": "37a02392-f964-4798-8e3a-1b7f902793e3",
     "showTitle": false,
     "title": ""
    }
   },
   "source": [
    "~~### Team Schema~~"
   ]
  },
  {
   "cell_type": "code",
   "execution_count": 0,
   "metadata": {
    "application/vnd.databricks.v1+cell": {
     "cellMetadata": {},
     "inputWidgets": {},
     "nuid": "7b74bd9f-ce96-486c-a597-01912fb874b3",
     "showTitle": false,
     "title": ""
    }
   },
   "outputs": [],
   "source": [
    "team_schema = StructType([\n",
    "    StructField(\"id\", LongType(), False),\n",
    "    StructField(\"description\", StringType(), True),\n",
    "    StructField(\"html_url\", StringType(), True),\n",
    "    StructField(\"members_url\", StringType(), True),\n",
    "    StructField(\"name\", StringType(), True),\n",
    "    StructField(\"node_id\", StringType(), True),\n",
    "    StructField(\"parent_id\", LongType(), True),\n",
    "    StructField(\"permission\", StringType(), True),\n",
    "    StructField(\"privacy\", StringType(), True),\n",
    "    StructField(\"repositories_url\", StringType(), True),\n",
    "    StructField(\"slug\", StringType(), True),\n",
    "    StructField(\"url\", StringType(), True)\n",
    "])"
   ]
  },
  {
   "cell_type": "markdown",
   "metadata": {
    "application/vnd.databricks.v1+cell": {
     "cellMetadata": {},
     "inputWidgets": {},
     "nuid": "0df84ecb-225c-48b8-8c4c-257c23fe73fe",
     "showTitle": false,
     "title": ""
    }
   },
   "source": [
    "#### Requested Team Schema "
   ]
  },
  {
   "cell_type": "code",
   "execution_count": 0,
   "metadata": {
    "application/vnd.databricks.v1+cell": {
     "cellMetadata": {},
     "inputWidgets": {},
     "nuid": "b59befe5-3983-4a35-90b1-55d394d63ff2",
     "showTitle": false,
     "title": ""
    }
   },
   "outputs": [],
   "source": [
    "requested_team_schema = StructType([\n",
    "    StructField(\"pull_request_id\", LongType(), True),\n",
    "    StructField(\"team_id\", LongType(), True)\n",
    "])"
   ]
  },
  {
   "cell_type": "markdown",
   "metadata": {
    "application/vnd.databricks.v1+cell": {
     "cellMetadata": {},
     "inputWidgets": {},
     "nuid": "dd76f3c9-fc1d-485a-b95e-1c7de23c8d69",
     "showTitle": false,
     "title": ""
    }
   },
   "source": [
    "#### Requested Reviewer Schema"
   ]
  },
  {
   "cell_type": "code",
   "execution_count": 0,
   "metadata": {
    "application/vnd.databricks.v1+cell": {
     "cellMetadata": {},
     "inputWidgets": {},
     "nuid": "3edde19d-c7de-4c27-9b34-d9a632b96fe3",
     "showTitle": false,
     "title": ""
    }
   },
   "outputs": [],
   "source": [
    "requested_reviewer_schema = StructType([\n",
    "    StructField(\"pull_request_id\", LongType(), True),\n",
    "    StructField(\"user_id\", LongType(), True)\n",
    "])"
   ]
  },
  {
   "cell_type": "markdown",
   "metadata": {
    "application/vnd.databricks.v1+cell": {
     "cellMetadata": {},
     "inputWidgets": {},
     "nuid": "954c9ac8-140f-4d32-b691-80d80bd95dfb",
     "showTitle": false,
     "title": ""
    }
   },
   "source": [
    "#### Pull Request Label Schema"
   ]
  },
  {
   "cell_type": "code",
   "execution_count": 0,
   "metadata": {
    "application/vnd.databricks.v1+cell": {
     "cellMetadata": {},
     "inputWidgets": {},
     "nuid": "44bd9f91-4f4f-4706-862d-e97e83839120",
     "showTitle": false,
     "title": ""
    }
   },
   "outputs": [],
   "source": [
    "pull_request_label_schema = StructType([\n",
    "    StructField(\"label_id\", LongType(), True),\n",
    "    StructField(\"pull_request_id\", LongType(), True)\n",
    "])"
   ]
  },
  {
   "cell_type": "markdown",
   "metadata": {
    "application/vnd.databricks.v1+cell": {
     "cellMetadata": {},
     "inputWidgets": {},
     "nuid": "e22b1bd3-80ac-4b4b-a453-525e0d10b25c",
     "showTitle": false,
     "title": ""
    }
   },
   "source": [
    "#### Pull Request Assignee Schema"
   ]
  },
  {
   "cell_type": "code",
   "execution_count": 0,
   "metadata": {
    "application/vnd.databricks.v1+cell": {
     "cellMetadata": {},
     "inputWidgets": {},
     "nuid": "36217ce2-b812-4e64-9b70-ef504cb4dd16",
     "showTitle": false,
     "title": ""
    }
   },
   "outputs": [],
   "source": [
    "pull_request_assignee_schema = StructType([\n",
    "    StructField(\"pull_request_id\", LongType(), True),\n",
    "    StructField(\"user_id\", LongType(), True)\n",
    "])"
   ]
  },
  {
   "cell_type": "markdown",
   "metadata": {
    "application/vnd.databricks.v1+cell": {
     "cellMetadata": {},
     "inputWidgets": {},
     "nuid": "db5d41f0-0a40-4c4e-8d0e-b266aaff1375",
     "showTitle": false,
     "title": ""
    }
   },
   "source": [
    "#### Pull Request Review Schema"
   ]
  },
  {
   "cell_type": "code",
   "execution_count": 0,
   "metadata": {
    "application/vnd.databricks.v1+cell": {
     "cellMetadata": {},
     "inputWidgets": {},
     "nuid": "0b870ac7-dfec-42fb-944d-2fce5a6bf53f",
     "showTitle": false,
     "title": ""
    }
   },
   "outputs": [],
   "source": [
    "pull_request_review_schema = StructType([\n",
    "    StructField(\"id\", LongType(), False),\n",
    "    StructField(\"author_association\", StringType(), True),\n",
    "    StructField(\"body\", StringType(), True),\n",
    "    StructField(\"commit_id\", StringType(), True),\n",
    "    StructField(\"html_url\", StringType(), True),\n",
    "    StructField(\"node_id\", StringType(), True),\n",
    "    StructField(\"pull_request_url\", StringType(), True),\n",
    "    StructField(\"state\", StringType(), True),\n",
    "    StructField(\"submitted_at\", TimestampType(), True),\n",
    "    StructField(\"user_id\", LongType(), True)\n",
    "])"
   ]
  },
  {
   "cell_type": "markdown",
   "metadata": {
    "application/vnd.databricks.v1+cell": {
     "cellMetadata": {},
     "inputWidgets": {},
     "nuid": "19c4acc2-4d14-49c9-8e3a-ea7098808c53",
     "showTitle": false,
     "title": ""
    }
   },
   "source": [
    "#### Pull Request Review Event Schema"
   ]
  },
  {
   "cell_type": "code",
   "execution_count": 0,
   "metadata": {
    "application/vnd.databricks.v1+cell": {
     "cellMetadata": {},
     "inputWidgets": {},
     "nuid": "4fdb96b9-4c30-4f48-a38c-1b376f7ca891",
     "showTitle": false,
     "title": ""
    }
   },
   "outputs": [],
   "source": [
    "pull_request_review_event_schema = StructType([\n",
    "    StructField(\"id\", LongType(), False),\n",
    "    StructField(\"action\", StringType(), True),\n",
    "    StructField(\"actor_id\", LongType(), True),\n",
    "    StructField(\"created_at\", TimestampType(), True),\n",
    "    StructField(\"org_id\", LongType(), True),\n",
    "    StructField(\"public\", BooleanType(), True),\n",
    "    StructField(\"pull_request_id\", LongType(), True),\n",
    "    StructField(\"pull_request_review_id\", LongType(), True),\n",
    "    StructField(\"repo_id\", LongType(), True)\n",
    "])"
   ]
  },
  {
   "cell_type": "markdown",
   "metadata": {
    "application/vnd.databricks.v1+cell": {
     "cellMetadata": {},
     "inputWidgets": {},
     "nuid": "05c19e1a-d5c6-45c6-aed4-7ddd49078103",
     "showTitle": false,
     "title": ""
    }
   },
   "source": [
    "#### Pull Request Review Comment Schema"
   ]
  },
  {
   "cell_type": "code",
   "execution_count": 0,
   "metadata": {
    "application/vnd.databricks.v1+cell": {
     "cellMetadata": {},
     "inputWidgets": {},
     "nuid": "965b20d9-29fc-4ee6-89a5-23b063ee3625",
     "showTitle": false,
     "title": ""
    }
   },
   "outputs": [],
   "source": [
    "pull_request_review_comment_schema = StructType([\n",
    "    StructField(\"id\", LongType(), False),\n",
    "    StructField(\"author_association\", StringType(), True),\n",
    "    StructField(\"body\", StringType(), True),\n",
    "    StructField(\"commit_id\", StringType(), True),\n",
    "    StructField(\"created_at\", TimestampType(), True),\n",
    "    StructField(\"diff_hunk\", StringType(), True),\n",
    "    StructField(\"html_url\", StringType(), True),\n",
    "    StructField(\"in_reply_to_id\", LongType(), True),\n",
    "    StructField(\"node_id\", StringType(), True),\n",
    "    StructField(\"original_commit_id\", StringType(), True),\n",
    "    StructField(\"original_line\", IntegerType(), True),\n",
    "    StructField(\"original_position\", IntegerType(), True),\n",
    "    StructField(\"original_start_line\", IntegerType(), True),\n",
    "    StructField(\"path\", StringType(), True),\n",
    "    StructField(\"position\", IntegerType(), True),\n",
    "    StructField(\"pull_request_review_id\", LongType(), True),\n",
    "    StructField(\"pull_request_url\", StringType(), True),\n",
    "    StructField(\"reactions_id\", LongType(), True),\n",
    "    StructField(\"side\", StringType(), True),\n",
    "    StructField(\"start_line\", IntegerType(), True),\n",
    "    StructField(\"start_side\", StringType(), True),\n",
    "    StructField(\"updated_at\", TimestampType(), True),\n",
    "    StructField(\"url\", StringType(), True),\n",
    "    StructField(\"user_id\", LongType(), True)\n",
    "])"
   ]
  },
  {
   "cell_type": "markdown",
   "metadata": {
    "application/vnd.databricks.v1+cell": {
     "cellMetadata": {},
     "inputWidgets": {},
     "nuid": "4bfda296-779d-4d36-be4e-4d04ef05f7f9",
     "showTitle": false,
     "title": ""
    }
   },
   "source": [
    "#### Pull Request Review Comment Event Schema"
   ]
  },
  {
   "cell_type": "code",
   "execution_count": 0,
   "metadata": {
    "application/vnd.databricks.v1+cell": {
     "cellMetadata": {},
     "inputWidgets": {},
     "nuid": "bd276bc1-b1b5-4b25-bb73-e2a06fc2736d",
     "showTitle": false,
     "title": ""
    }
   },
   "outputs": [],
   "source": [
    "pull_request_review_comment_event_schema = StructType([\n",
    "    StructField(\"id\", LongType(), False),\n",
    "    StructField(\"action\", StringType(), True),\n",
    "    StructField(\"actor_id\", LongType(), True),\n",
    "    StructField(\"created_at\", TimestampType(), True),\n",
    "    StructField(\"org_id\", LongType(), True),\n",
    "    StructField(\"public\", BooleanType(), True),\n",
    "    StructField(\"pull_request_id\", LongType(), True),\n",
    "    StructField(\"pull_request_review_comment_id\", LongType(), True),\n",
    "    StructField(\"repo_id\", LongType(), True)\n",
    "])"
   ]
  },
  {
   "cell_type": "markdown",
   "metadata": {
    "application/vnd.databricks.v1+cell": {
     "cellMetadata": {},
     "inputWidgets": {},
     "nuid": "e6d1e30b-3b45-42b0-af3a-01a0de7e2e2a",
     "showTitle": false,
     "title": ""
    }
   },
   "source": [
    "#### Push Event Schema"
   ]
  },
  {
   "cell_type": "code",
   "execution_count": 0,
   "metadata": {
    "application/vnd.databricks.v1+cell": {
     "cellMetadata": {},
     "inputWidgets": {},
     "nuid": "cd7aa021-be09-4ec2-ae6a-fefd92680887",
     "showTitle": false,
     "title": ""
    }
   },
   "outputs": [],
   "source": [
    "push_event_schema = StructType([\n",
    "    StructField(\"id\", LongType(), False),\n",
    "    StructField(\"actor_id\", LongType(), True),\n",
    "    StructField(\"before\", StringType(), True),\n",
    "    StructField(\"created_at\", TimestampType(), True),\n",
    "    StructField(\"distinct_size\", IntegerType(), True),\n",
    "    StructField(\"head\", StringType(), True),\n",
    "    StructField(\"org_id\", LongType(), True),\n",
    "    StructField(\"public\", BooleanType(), True),\n",
    "    StructField(\"ref\", StringType(), True),\n",
    "    StructField(\"repo_id\", LongType(), True),\n",
    "    StructField(\"size\", IntegerType(), True)\n",
    "])"
   ]
  },
  {
   "cell_type": "markdown",
   "metadata": {
    "application/vnd.databricks.v1+cell": {
     "cellMetadata": {},
     "inputWidgets": {},
     "nuid": "36c13914-2662-4a23-a827-630f7a009f30",
     "showTitle": false,
     "title": ""
    }
   },
   "source": [
    "#### Push Event Commit Schema"
   ]
  },
  {
   "cell_type": "code",
   "execution_count": 0,
   "metadata": {
    "application/vnd.databricks.v1+cell": {
     "cellMetadata": {},
     "inputWidgets": {},
     "nuid": "480bb6e4-68c0-49e4-bdba-1522a5744b1e",
     "showTitle": false,
     "title": ""
    }
   },
   "outputs": [],
   "source": [
    "push_event_commit_schema = StructType([\n",
    "    StructField(\"commit_sha\", StringType(), True),\n",
    "    StructField(\"push_event_id\", LongType(), True)\n",
    "])"
   ]
  },
  {
   "cell_type": "markdown",
   "metadata": {
    "application/vnd.databricks.v1+cell": {
     "cellMetadata": {},
     "inputWidgets": {},
     "nuid": "3a24cffe-7c55-4a5a-922c-6920388cd85e",
     "showTitle": false,
     "title": ""
    }
   },
   "source": [
    "#### Release Schema"
   ]
  },
  {
   "cell_type": "code",
   "execution_count": 0,
   "metadata": {
    "application/vnd.databricks.v1+cell": {
     "cellMetadata": {},
     "inputWidgets": {},
     "nuid": "179a7040-da37-4156-bc6d-a95edb68b20d",
     "showTitle": false,
     "title": ""
    }
   },
   "outputs": [],
   "source": [
    "release_schema = StructType([\n",
    "    StructField(\"id\", LongType(), False),\n",
    "    StructField(\"assets_url\", StringType(), True),\n",
    "    StructField(\"author_id\", LongType(), True),\n",
    "    StructField(\"body\", StringType(), True),\n",
    "    StructField(\"created_at\", TimestampType(), True),\n",
    "    StructField(\"draft\", BooleanType(), True),\n",
    "    StructField(\"html_url\", StringType(), True),\n",
    "    StructField(\"is_short_description_html_truncated\", BooleanType(), True),\n",
    "    StructField(\"mentions_count\", IntegerType(), True),\n",
    "    StructField(\"name\", StringType(), True),\n",
    "    StructField(\"node_id\", StringType(), True),\n",
    "    StructField(\"prerelease\", BooleanType(), True),\n",
    "    StructField(\"published_at\", TimestampType(), True),\n",
    "    StructField(\"short_description_html\", StringType(), True),\n",
    "    StructField(\"tag_name\", StringType(), True),\n",
    "    StructField(\"tarball_url\", StringType(), True),\n",
    "    StructField(\"target_commitish\", StringType(), True),\n",
    "    StructField(\"upload_url\", StringType(), True),\n",
    "    StructField(\"url\", StringType(), True),\n",
    "    StructField(\"zipball_url\", StringType(), True)\n",
    "])"
   ]
  },
  {
   "cell_type": "markdown",
   "metadata": {
    "application/vnd.databricks.v1+cell": {
     "cellMetadata": {},
     "inputWidgets": {},
     "nuid": "66a51f87-6a5e-419b-9d2e-73fad081b0cc",
     "showTitle": false,
     "title": ""
    }
   },
   "source": [
    "#### Release Event Schema"
   ]
  },
  {
   "cell_type": "code",
   "execution_count": 0,
   "metadata": {
    "application/vnd.databricks.v1+cell": {
     "cellMetadata": {},
     "inputWidgets": {},
     "nuid": "ccee6019-85be-4f0b-aaad-d1ef29231917",
     "showTitle": false,
     "title": ""
    }
   },
   "outputs": [],
   "source": [
    "release_event_schema = StructType([\n",
    "    StructField(\"id\", LongType(), False),\n",
    "    StructField(\"action\", StringType(), True),\n",
    "    StructField(\"actor_id\", LongType(), True),\n",
    "    StructField(\"created_at\", TimestampType(), True),\n",
    "    StructField(\"org_id\", LongType(), True),\n",
    "    StructField(\"public\", BooleanType(), True),\n",
    "    StructField(\"release_id\", LongType(), True),\n",
    "    StructField(\"repo_id\", LongType(), True)\n",
    "])"
   ]
  },
  {
   "cell_type": "markdown",
   "metadata": {
    "application/vnd.databricks.v1+cell": {
     "cellMetadata": {},
     "inputWidgets": {},
     "nuid": "ca18f528-c90e-4040-9ed6-f932db177631",
     "showTitle": false,
     "title": ""
    }
   },
   "source": [
    "#### Mention Schema"
   ]
  },
  {
   "cell_type": "code",
   "execution_count": 0,
   "metadata": {
    "application/vnd.databricks.v1+cell": {
     "cellMetadata": {},
     "inputWidgets": {},
     "nuid": "22c5f67a-b734-4d45-8d8b-8437c7563012",
     "showTitle": false,
     "title": ""
    }
   },
   "outputs": [],
   "source": [
    "mention_schema = StructType([\n",
    "    StructField(\"id\", LongType(), False),\n",
    "    StructField(\"avatar_url\", StringType(), True),\n",
    "    StructField(\"avatar_user_actor\", BooleanType(), True),\n",
    "    StructField(\"login\", StringType(), True),\n",
    "    StructField(\"profile_name\", StringType(), True),\n",
    "    StructField(\"profile_url\", StringType(), True)\n",
    "])"
   ]
  },
  {
   "cell_type": "markdown",
   "metadata": {
    "application/vnd.databricks.v1+cell": {
     "cellMetadata": {},
     "inputWidgets": {},
     "nuid": "a7d61251-2390-4c16-bf6c-738efb272a06",
     "showTitle": false,
     "title": ""
    }
   },
   "source": [
    "#### Release Mention Schema"
   ]
  },
  {
   "cell_type": "code",
   "execution_count": 0,
   "metadata": {
    "application/vnd.databricks.v1+cell": {
     "cellMetadata": {},
     "inputWidgets": {},
     "nuid": "bc9c3f43-2c2d-4784-8645-818b83da64f3",
     "showTitle": false,
     "title": ""
    }
   },
   "outputs": [],
   "source": [
    "release_mention_schema = StructType([\n",
    "    StructField(\"mention_id\", LongType(), True),\n",
    "    StructField(\"release_id\", LongType(), True)\n",
    "])"
   ]
  },
  {
   "cell_type": "markdown",
   "metadata": {
    "application/vnd.databricks.v1+cell": {
     "cellMetadata": {},
     "inputWidgets": {},
     "nuid": "2d969e9d-881b-4a9d-952d-3fec6743f67c",
     "showTitle": false,
     "title": ""
    }
   },
   "source": [
    "#### Asset Schema"
   ]
  },
  {
   "cell_type": "code",
   "execution_count": 0,
   "metadata": {
    "application/vnd.databricks.v1+cell": {
     "cellMetadata": {},
     "inputWidgets": {},
     "nuid": "bfc86f22-c553-4c23-a330-5366e376ad63",
     "showTitle": false,
     "title": ""
    }
   },
   "outputs": [],
   "source": [
    "asset_schema = StructType([\n",
    "    StructField(\"id\", LongType(), False),\n",
    "    StructField(\"browser_download_url\", StringType(), True),\n",
    "    StructField(\"content_type\", StringType(), True),\n",
    "    StructField(\"created_at\", TimestampType(), True),\n",
    "    StructField(\"download_count\", IntegerType(), True),\n",
    "    StructField(\"label\", StringType(), True),\n",
    "    StructField(\"name\", StringType(), True),\n",
    "    StructField(\"node_id\", StringType(), True),\n",
    "    StructField(\"size\", LongType(), True),\n",
    "    StructField(\"state\", StringType(), True),\n",
    "    StructField(\"uploaded_at\", TimestampType(), True),\n",
    "    StructField(\"uploader_id\", LongType(), True),\n",
    "    StructField(\"url\", StringType(), True)\n",
    "])"
   ]
  },
  {
   "cell_type": "markdown",
   "metadata": {
    "application/vnd.databricks.v1+cell": {
     "cellMetadata": {},
     "inputWidgets": {},
     "nuid": "15ea2612-acc4-476c-a2f3-178ca5c8862c",
     "showTitle": false,
     "title": ""
    }
   },
   "source": [
    "#### Release Asset Schema"
   ]
  },
  {
   "cell_type": "code",
   "execution_count": 0,
   "metadata": {
    "application/vnd.databricks.v1+cell": {
     "cellMetadata": {},
     "inputWidgets": {},
     "nuid": "f6fca4ed-659d-4189-9756-ae9b31771396",
     "showTitle": false,
     "title": ""
    }
   },
   "outputs": [],
   "source": [
    "release_asset_schema = StructType([\n",
    "    StructField(\"asset_id\", LongType(), False),\n",
    "    StructField(\"release_id\", LongType(), False)\n",
    "])"
   ]
  },
  {
   "cell_type": "markdown",
   "metadata": {
    "application/vnd.databricks.v1+cell": {
     "cellMetadata": {},
     "inputWidgets": {},
     "nuid": "bfe189e9-f369-433b-b288-0d8b23797009",
     "showTitle": false,
     "title": ""
    }
   },
   "source": [
    "#### Watch Event Schema"
   ]
  },
  {
   "cell_type": "code",
   "execution_count": 0,
   "metadata": {
    "application/vnd.databricks.v1+cell": {
     "cellMetadata": {},
     "inputWidgets": {},
     "nuid": "f5e7f697-046c-460d-a659-b39bcdcf74ad",
     "showTitle": false,
     "title": ""
    }
   },
   "outputs": [],
   "source": [
    "watch_event_schema = StructType([\n",
    "    StructField(\"id\", LongType(), False),\n",
    "    StructField(\"action\", StringType(), True),\n",
    "    StructField(\"actor_id\", LongType(), True),\n",
    "    StructField(\"created_at\", TimestampType(), True),\n",
    "    StructField(\"public\", BooleanType(), True),\n",
    "    StructField(\"org_id\", LongType(), True),\n",
    "    StructField(\"repo_id\", LongType(), True)\n",
    "])"
   ]
  }
 ],
 "metadata": {
  "application/vnd.databricks.v1+notebook": {
   "dashboards": [],
   "language": "python",
   "notebookMetadata": {
    "pythonIndentUnit": 4
   },
   "notebookName": "_table-defs",
   "widgets": {}
  }
 },
 "nbformat": 4,
 "nbformat_minor": 0
}
