{
 "cells": [
  {
   "cell_type": "markdown",
   "metadata": {
    "application/vnd.databricks.v1+cell": {
     "cellMetadata": {},
     "inputWidgets": {},
     "nuid": "c470878d-c5f7-4bde-aafe-0f5703c41c6b",
     "showTitle": false,
     "title": ""
    }
   },
   "source": [
    "#### Creating Pull Request Dataframe"
   ]
  },
  {
   "cell_type": "code",
   "execution_count": 0,
   "metadata": {
    "application/vnd.databricks.v1+cell": {
     "cellMetadata": {},
     "inputWidgets": {},
     "nuid": "2968d4d5-e089-4dba-ab20-f752e44a2f26",
     "showTitle": false,
     "title": ""
    }
   },
   "outputs": [],
   "source": [
    "df = spark.sql(\"SELECT * FROM data\")"
   ]
  },
  {
   "cell_type": "code",
   "execution_count": 0,
   "metadata": {
    "application/vnd.databricks.v1+cell": {
     "cellMetadata": {},
     "inputWidgets": {},
     "nuid": "30485e4b-787a-4ed1-87f9-334c2d86c709",
     "showTitle": false,
     "title": ""
    }
   },
   "outputs": [],
   "source": [
    "pullRequest = df.select(\"payload_pull_request.*\").distinct()"
   ]
  },
  {
   "cell_type": "code",
   "execution_count": 0,
   "metadata": {
    "application/vnd.databricks.v1+cell": {
     "cellMetadata": {},
     "inputWidgets": {},
     "nuid": "c323fc85-4e92-4b1a-8b8e-b7a143c7f432",
     "showTitle": false,
     "title": ""
    }
   },
   "outputs": [],
   "source": [
    "# lit(None) to remove the Reactions_id reference to a table we did not have time to complete\n",
    "pull_requestDF = (\n",
    "    pullRequest.filter(col(\"id\").isNotNull())\n",
    "    .select(\n",
    "        col(\"id\").cast(LongType()),\n",
    "        \"active_lock_reason\",\n",
    "        \"additions\",\n",
    "        col(\"assignee.id\").alias(\"assignee_id\"),\n",
    "        \"author_association\",\n",
    "        lit(None).cast(LongType()).alias(\"auto_merge\"),\n",
    "        concat(col(\"base.label\"), lit(\":\"), col(\"base.sha\")).alias(\"base_id\"),\n",
    "        \"body\",\n",
    "        \"changed_files\",\n",
    "        col(\"closed_at\").cast(TimestampType()),\n",
    "        \"comments\",\n",
    "        \"comments_url\",\n",
    "        \"commits\",\n",
    "        \"commits_url\",\n",
    "        col(\"created_at\").cast(TimestampType()),\n",
    "        \"deletions\",\n",
    "        \"diff_url\",\n",
    "        \"draft\",\n",
    "        concat(col(\"head.label\"), lit(\":\"), col(\"head.sha\")).alias(\"head_id\"),\n",
    "        \"html_url\",\n",
    "        \"issue_url\",\n",
    "        \"locked\",\n",
    "        \"maintainer_can_modify\",\n",
    "        \"merge_commit_sha\",\n",
    "        \"mergeable\",\n",
    "        \"mergeable_state\",\n",
    "        \"merged\",\n",
    "        col(\"merged_at\").cast(TimestampType()),\n",
    "        col(\"merged_by.id\").alias(\"merged_by_id\"),\n",
    "        col(\"milestone.id\").alias(\"milestone_id\"),\n",
    "        \"node_id\",\n",
    "        \"number\",\n",
    "        \"patch_url\",\n",
    "        \"rebaseable\",\n",
    "        \"review_comment_url\",\n",
    "        \"review_comments\",\n",
    "        \"review_comments_url\",\n",
    "        \"state\",\n",
    "        \"statuses_url\",\n",
    "        \"title\",\n",
    "        col(\"updated_at\").cast(TimestampType()),\n",
    "        \"url\",\n",
    "        col(\"user.id\").alias(\"user_id\"),\n",
    "    )\n",
    "    .distinct()\n",
    "    .orderBy(\"id\")\n",
    ")"
   ]
  },
  {
   "cell_type": "markdown",
   "metadata": {
    "application/vnd.databricks.v1+cell": {
     "cellMetadata": {},
     "inputWidgets": {},
     "nuid": "78b9cb78-b1ea-468a-adcb-4cacab057b77",
     "showTitle": false,
     "title": ""
    }
   },
   "source": [
    "#### Write to database"
   ]
  },
  {
   "cell_type": "code",
   "execution_count": 0,
   "metadata": {
    "application/vnd.databricks.v1+cell": {
     "cellMetadata": {},
     "inputWidgets": {},
     "nuid": "3f3f4a3f-50b8-472a-aff0-3c4115167065",
     "showTitle": false,
     "title": ""
    }
   },
   "outputs": [],
   "source": [
    "pull_requestDF.repartition(76).write.parquet(\"abfss://team1-project2@20230821desa.dfs.core.windows.net/SilverLayer/pull-request\")"
   ]
  }
 ],
 "metadata": {
  "application/vnd.databricks.v1+notebook": {
   "dashboards": [],
   "language": "python",
   "notebookMetadata": {
    "pythonIndentUnit": 4
   },
   "notebookName": "pull-request-table",
   "widgets": {}
  }
 },
 "nbformat": 4,
 "nbformat_minor": 0
}
