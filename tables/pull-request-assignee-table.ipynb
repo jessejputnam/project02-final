{
 "cells": [
  {
   "cell_type": "markdown",
   "metadata": {
    "application/vnd.databricks.v1+cell": {
     "cellMetadata": {},
     "inputWidgets": {},
     "nuid": "0569ddd2-8e13-4892-b57d-c51fb5a4ce24",
     "showTitle": false,
     "title": ""
    }
   },
   "source": [
    "#### Creating Pull Request Assignee Dataframe"
   ]
  },
  {
   "cell_type": "code",
   "execution_count": 0,
   "metadata": {
    "application/vnd.databricks.v1+cell": {
     "cellMetadata": {},
     "inputWidgets": {},
     "nuid": "a5d41838-ea60-4a3c-88b8-d1f49a0a650a",
     "showTitle": false,
     "title": ""
    }
   },
   "outputs": [],
   "source": [
    "df = (\n",
    "    spark.sql(\"SELECT * FROM data\")\n",
    "    .filter(size(col(\"payload_pull_request.assignees\")) > 0)\n",
    ")"
   ]
  },
  {
   "cell_type": "code",
   "execution_count": 0,
   "metadata": {
    "application/vnd.databricks.v1+cell": {
     "cellMetadata": {},
     "inputWidgets": {},
     "nuid": "80355de4-20fc-4f45-b11d-679ef19a6a59",
     "showTitle": false,
     "title": ""
    }
   },
   "outputs": [],
   "source": [
    "pull_request_assigneeDF = (\n",
    "    df.select(\n",
    "        \"payload_pull_request.id\",\n",
    "        explode(col(\"payload_pull_request.assignees\")),\n",
    "    )\n",
    "    .select(col(\"id\").alias(\"pull_request_id\"), col(\"col.id\").alias(\"user_id\"))\n",
    "    .distinct()\n",
    ")"
   ]
  },
  {
   "cell_type": "markdown",
   "metadata": {
    "application/vnd.databricks.v1+cell": {
     "cellMetadata": {},
     "inputWidgets": {},
     "nuid": "30e5e4b8-5cc6-4036-b7a7-e2b54fc5f35a",
     "showTitle": false,
     "title": ""
    }
   },
   "source": [
    "#### Write to database"
   ]
  },
  {
   "cell_type": "code",
   "execution_count": 0,
   "metadata": {
    "application/vnd.databricks.v1+cell": {
     "cellMetadata": {},
     "inputWidgets": {},
     "nuid": "4bf930bf-9bec-453a-bb0d-e5ecf74270c8",
     "showTitle": false,
     "title": ""
    }
   },
   "outputs": [],
   "source": [
    "pull_request_assigneeDF.repartition(1).write.mode(\"overwrite\").parquet(\"abfss://team1-project2@20230821desa.dfs.core.windows.net/SilverLayer/pull-request-assignee\")"
   ]
  }
 ],
 "metadata": {
  "application/vnd.databricks.v1+notebook": {
   "dashboards": [],
   "language": "python",
   "notebookMetadata": {
    "pythonIndentUnit": 4
   },
   "notebookName": "pull-request-assignee-table",
   "widgets": {}
  }
 },
 "nbformat": 4,
 "nbformat_minor": 0
}
