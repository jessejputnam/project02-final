{
 "cells": [
  {
   "cell_type": "markdown",
   "metadata": {
    "application/vnd.databricks.v1+cell": {
     "cellMetadata": {},
     "inputWidgets": {},
     "nuid": "b9c3bc67-a4ad-470c-9a8e-fe3ac0779d50",
     "showTitle": false,
     "title": ""
    }
   },
   "source": [
    "#### Creating Fork Event Dataframe"
   ]
  },
  {
   "cell_type": "code",
   "execution_count": 0,
   "metadata": {
    "application/vnd.databricks.v1+cell": {
     "cellMetadata": {},
     "inputWidgets": {},
     "nuid": "6cb975c5-8f4d-43bc-a10a-383d9ba6f041",
     "showTitle": false,
     "title": ""
    }
   },
   "outputs": [],
   "source": [
    "df = spark.sql(\"SELECT * FROM data\")"
   ]
  },
  {
   "cell_type": "code",
   "execution_count": 0,
   "metadata": {
    "application/vnd.databricks.v1+cell": {
     "cellMetadata": {},
     "inputWidgets": {},
     "nuid": "c0e6dfde-8f4f-4e2c-a7d0-560b7311d79e",
     "showTitle": false,
     "title": ""
    }
   },
   "outputs": [],
   "source": [
    "fork_eventDF = (\n",
    "    df.filter(\"event_type == 'ForkEvent'\")\n",
    "    .select(\n",
    "        col(\"event_id\").cast(LongType()).alias(\"id\"),\n",
    "        \"actor_id\",\n",
    "        col(\"event_created_at\").cast(TimestampType()).alias(\"created_at\"),\n",
    "        col(\"payload_forkee.id\").alias(\"forkee_id\"),\n",
    "        \"org_id\",\n",
    "        col(\"event_public\").alias(\"public\"),\n",
    "        \"repo_id\",\n",
    "    )\n",
    "    .filter(col(\"id\").isNotNull())\n",
    "    .distinct()\n",
    "    .orderBy(col(\"id\"))\n",
    ")"
   ]
  },
  {
   "cell_type": "markdown",
   "metadata": {
    "application/vnd.databricks.v1+cell": {
     "cellMetadata": {},
     "inputWidgets": {},
     "nuid": "d8546780-b313-4a00-b7e5-4026e68cb83d",
     "showTitle": false,
     "title": ""
    }
   },
   "source": [
    "#### Write to database"
   ]
  },
  {
   "cell_type": "code",
   "execution_count": 0,
   "metadata": {
    "application/vnd.databricks.v1+cell": {
     "cellMetadata": {},
     "inputWidgets": {},
     "nuid": "3866cdbf-c61f-49fa-b47f-54024183f54a",
     "showTitle": false,
     "title": ""
    }
   },
   "outputs": [],
   "source": [
    "fork_eventDF.repartition(1).write.mode(\"overwrite\").parquet(\"abfss://team1-project2@20230821desa.dfs.core.windows.net/SilverLayer/fork-event\")"
   ]
  }
 ],
 "metadata": {
  "application/vnd.databricks.v1+notebook": {
   "dashboards": [],
   "language": "python",
   "notebookMetadata": {
    "pythonIndentUnit": 4
   },
   "notebookName": "fork-event-table",
   "widgets": {}
  }
 },
 "nbformat": 4,
 "nbformat_minor": 0
}
