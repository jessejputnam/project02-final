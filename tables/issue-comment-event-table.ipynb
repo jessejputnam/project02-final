{
 "cells": [
  {
   "cell_type": "markdown",
   "metadata": {
    "application/vnd.databricks.v1+cell": {
     "cellMetadata": {},
     "inputWidgets": {},
     "nuid": "53b27706-b181-4dae-86e0-c200656a93c4",
     "showTitle": false,
     "title": ""
    }
   },
   "source": [
    "#### Creating Issue Comment Event Dataframe"
   ]
  },
  {
   "cell_type": "code",
   "execution_count": 0,
   "metadata": {
    "application/vnd.databricks.v1+cell": {
     "cellMetadata": {},
     "inputWidgets": {},
     "nuid": "0c5e16a3-2b58-4c22-af50-25ad848ef14e",
     "showTitle": false,
     "title": ""
    }
   },
   "outputs": [],
   "source": [
    "df = spark.sql(\"SELECT * FROM data\")"
   ]
  },
  {
   "cell_type": "code",
   "execution_count": 0,
   "metadata": {
    "application/vnd.databricks.v1+cell": {
     "cellMetadata": {},
     "inputWidgets": {},
     "nuid": "8f7efb36-ecad-4238-b8c4-cd322b644c22",
     "showTitle": false,
     "title": ""
    }
   },
   "outputs": [],
   "source": [
    "issue_comment_eventDF = (\n",
    "    df.filter(\"event_type == 'IssueCommentEvent'\")\n",
    "    .select(\n",
    "        col(\"event_id\").cast(LongType()).alias(\"id\"),\n",
    "        col(\"payload_action\").alias(\"action\"),\n",
    "        \"actor_id\",\n",
    "        col(\"event_created_at\").cast(TimestampType()).alias(\"created_at\"),\n",
    "        col(\"payload_comment.id\").alias(\"issue_comment_id\"),\n",
    "        col(\"payload_issue.id\").alias(\"issue_id\"),\n",
    "        \"payload_issue.node_id\",\n",
    "        \"payload_issue.number\",\n",
    "        \"org_id\",\n",
    "        col(\"event_public\").alias(\"public\"),\n",
    "        \"repo_id\",\n",
    "    )\n",
    "    .filter(col(\"id\").isNotNull())\n",
    "    .distinct()\n",
    "    .orderBy(col(\"id\"))\n",
    ")"
   ]
  },
  {
   "cell_type": "markdown",
   "metadata": {
    "application/vnd.databricks.v1+cell": {
     "cellMetadata": {},
     "inputWidgets": {},
     "nuid": "a81b36ff-7ae4-41b1-a43c-f94cf571715e",
     "showTitle": false,
     "title": ""
    }
   },
   "source": [
    "#### Write to database"
   ]
  },
  {
   "cell_type": "code",
   "execution_count": 0,
   "metadata": {
    "application/vnd.databricks.v1+cell": {
     "cellMetadata": {},
     "inputWidgets": {},
     "nuid": "9f3c9c09-90c4-4c37-86c8-0c9eceb0f09f",
     "showTitle": false,
     "title": ""
    }
   },
   "outputs": [],
   "source": [
    "issue_comment_eventDF.repartition(2).write.mode(\"overwrite\").parquet(\"abfss://team1-project2@20230821desa.dfs.core.windows.net/SilverLayer/issue-comment-event\")"
   ]
  }
 ],
 "metadata": {
  "application/vnd.databricks.v1+notebook": {
   "dashboards": [],
   "language": "python",
   "notebookMetadata": {
    "pythonIndentUnit": 4
   },
   "notebookName": "issue-comment-event-table",
   "widgets": {}
  }
 },
 "nbformat": 4,
 "nbformat_minor": 0
}
