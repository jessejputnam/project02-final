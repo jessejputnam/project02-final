{
 "cells": [
  {
   "cell_type": "markdown",
   "metadata": {
    "application/vnd.databricks.v1+cell": {
     "cellMetadata": {},
     "inputWidgets": {},
     "nuid": "ab2d5ae7-4b26-411f-a5ce-889b70e69cde",
     "showTitle": false,
     "title": ""
    }
   },
   "source": [
    "#### Creating Pull Request Review Comment Event Dataframe"
   ]
  },
  {
   "cell_type": "code",
   "execution_count": 0,
   "metadata": {
    "application/vnd.databricks.v1+cell": {
     "cellMetadata": {},
     "inputWidgets": {},
     "nuid": "13a28fb0-b010-4f2c-87a5-de0f65720f65",
     "showTitle": false,
     "title": ""
    }
   },
   "outputs": [],
   "source": [
    "df = (\n",
    "    spark.sql(\"SELECT * FROM data\")\n",
    "    .filter(\"event_type == 'PullRequestReviewCommentEvent'\")\n",
    ")"
   ]
  },
  {
   "cell_type": "code",
   "execution_count": 0,
   "metadata": {
    "application/vnd.databricks.v1+cell": {
     "cellMetadata": {},
     "inputWidgets": {},
     "nuid": "81bd3618-5a8a-4453-9a7a-ea868f58fd4e",
     "showTitle": false,
     "title": ""
    }
   },
   "outputs": [],
   "source": [
    "pull_request_review_comment_eventDF = (\n",
    "    df.select(\n",
    "        col(\"event_id\").cast(LongType()).alias(\"id\"),\n",
    "        col(\"payload_action\").alias(\"action\"),\n",
    "        \"actor_id\",\n",
    "        col(\"event_created_at\").cast(TimestampType()).alias(\"created_at\"),\n",
    "        \"org_id\",\n",
    "        col(\"event_public\").alias(\"public\"),\n",
    "        col(\"payload_pull_request.id\").alias(\"pull_request_id\"),\n",
    "        col(\"payload_comment.id\").alias(\"pull_request_review_id\"),\n",
    "        \"repo_id\",\n",
    "    )\n",
    "    .filter(col(\"id\").isNotNull())\n",
    "    .distinct()\n",
    "    .orderBy(col(\"id\"))\n",
    ")"
   ]
  },
  {
   "cell_type": "markdown",
   "metadata": {
    "application/vnd.databricks.v1+cell": {
     "cellMetadata": {},
     "inputWidgets": {},
     "nuid": "6421a1b3-8865-44db-8a61-3382aa1c9798",
     "showTitle": false,
     "title": ""
    }
   },
   "source": [
    "#### Write to database"
   ]
  },
  {
   "cell_type": "code",
   "execution_count": 0,
   "metadata": {
    "application/vnd.databricks.v1+cell": {
     "cellMetadata": {},
     "inputWidgets": {},
     "nuid": "74be31c9-89d6-4ae9-bb19-86b79140e90d",
     "showTitle": false,
     "title": ""
    }
   },
   "outputs": [],
   "source": [
    "pull_request_review_comment_eventDF.repartition(1).write.parquet(\"abfss://team1-project2@20230821desa.dfs.core.windows.net/SilverLayer/pull-request-review-comment-event\")"
   ]
  }
 ],
 "metadata": {
  "application/vnd.databricks.v1+notebook": {
   "dashboards": [],
   "language": "python",
   "notebookMetadata": {
    "pythonIndentUnit": 4
   },
   "notebookName": "pull-request-review-comment-event-table",
   "widgets": {}
  }
 },
 "nbformat": 4,
 "nbformat_minor": 0
}
