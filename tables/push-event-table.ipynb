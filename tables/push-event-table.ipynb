{
 "cells": [
  {
   "cell_type": "markdown",
   "metadata": {
    "application/vnd.databricks.v1+cell": {
     "cellMetadata": {},
     "inputWidgets": {},
     "nuid": "73ef6eb1-e002-41b2-88f4-ca8036260a45",
     "showTitle": false,
     "title": ""
    }
   },
   "source": [
    "#### Creating Push Event Dataframe"
   ]
  },
  {
   "cell_type": "code",
   "execution_count": 0,
   "metadata": {
    "application/vnd.databricks.v1+cell": {
     "cellMetadata": {},
     "inputWidgets": {},
     "nuid": "ab85f3ab-0a5f-428c-a0a8-e44785efcc81",
     "showTitle": false,
     "title": ""
    }
   },
   "outputs": [],
   "source": [
    "df = spark.sql(\"SELECT * FROM data\")"
   ]
  },
  {
   "cell_type": "code",
   "execution_count": 0,
   "metadata": {
    "application/vnd.databricks.v1+cell": {
     "cellMetadata": {},
     "inputWidgets": {},
     "nuid": "fac3a34d-8033-442e-a608-96958e2d1af3",
     "showTitle": false,
     "title": ""
    }
   },
   "outputs": [],
   "source": [
    "push_eventDF = (\n",
    "    df.filter(\"event_type == 'PushEvent'\")\n",
    "    .select(\n",
    "        col(\"event_id\").cast(LongType()).alias(\"id\"),\n",
    "        \"actor_id\",\n",
    "        col(\"payload_before\").alias(\"before\"),\n",
    "        col(\"event_created_at\").cast(TimestampType()).alias(\"created_at\"),\n",
    "        col(\"payload_distinct_size\").alias(\"distinct_size\"),\n",
    "        col(\"payload_head\").alias(\"head\"),\n",
    "        \"org_id\",\n",
    "        col(\"event_public\").alias(\"public\"),\n",
    "        col(\"payload_ref\").alias(\"ref\"),\n",
    "        \"repo_id\",\n",
    "        col(\"payload_size\").alias(\"size\"),\n",
    "    )\n",
    "    .filter(col(\"id\").isNotNull())\n",
    "    .distinct()\n",
    "    .orderBy(col(\"id\"))\n",
    ")"
   ]
  },
  {
   "cell_type": "markdown",
   "metadata": {
    "application/vnd.databricks.v1+cell": {
     "cellMetadata": {},
     "inputWidgets": {},
     "nuid": "b7ddfa2d-48b3-46d1-99d5-fab86eb8989f",
     "showTitle": false,
     "title": ""
    }
   },
   "source": [
    "#### Write to database"
   ]
  },
  {
   "cell_type": "code",
   "execution_count": 0,
   "metadata": {
    "application/vnd.databricks.v1+cell": {
     "cellMetadata": {},
     "inputWidgets": {},
     "nuid": "e7e2539c-0456-4a31-8290-59bbfa2d825c",
     "showTitle": false,
     "title": ""
    }
   },
   "outputs": [],
   "source": [
    "push_eventDF.repartition(49).write.parquet(\"abfss://team1-project2@20230821desa.dfs.core.windows.net/SilverLayer/push-event\")"
   ]
  }
 ],
 "metadata": {
  "application/vnd.databricks.v1+notebook": {
   "dashboards": [],
   "language": "python",
   "notebookMetadata": {
    "pythonIndentUnit": 4
   },
   "notebookName": "push-event-table",
   "widgets": {}
  }
 },
 "nbformat": 4,
 "nbformat_minor": 0
}
