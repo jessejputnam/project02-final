{
 "cells": [
  {
   "cell_type": "markdown",
   "metadata": {
    "application/vnd.databricks.v1+cell": {
     "cellMetadata": {},
     "inputWidgets": {},
     "nuid": "2c15c728-33bb-4dfa-b52d-b3238c557ffd",
     "showTitle": false,
     "title": ""
    }
   },
   "source": [
    "#### Creating Issue Assignee Dataframe"
   ]
  },
  {
   "cell_type": "code",
   "execution_count": 0,
   "metadata": {
    "application/vnd.databricks.v1+cell": {
     "cellMetadata": {},
     "inputWidgets": {},
     "nuid": "f98bcc01-f3e1-4041-aa5f-3517fa6f4c84",
     "showTitle": false,
     "title": ""
    }
   },
   "outputs": [],
   "source": [
    "df = (spark.sql(\"SELECT * FROM data\")\n",
    "      .filter(size(col(\"payload_issue.assignees\")) > 0))\n",
    "\n",
    "issue_assigneeDF = (\n",
    "    df.select(\"payload_issue.id\", explode(col(\"payload_issue.assignees\")))\n",
    "    .select(col(\"id\").alias(\"issue_id\"), col(\"col.id\").alias(\"user_id\"))\n",
    "    .distinct()\n",
    ")"
   ]
  },
  {
   "cell_type": "code",
   "execution_count": 0,
   "metadata": {
    "application/vnd.databricks.v1+cell": {
     "cellMetadata": {},
     "inputWidgets": {},
     "nuid": "16dab03c-9c24-469c-bdda-a144a70e1d0c",
     "showTitle": false,
     "title": ""
    }
   },
   "outputs": [],
   "source": [
    "issue_assigneeDF = (\n",
    "    df.select(\"payload_issue.id\", explode(col(\"payload_issue.assignees\")))\n",
    "    .select(col(\"id\").alias(\"issue_id\"), col(\"col.id\").alias(\"user_id\"))\n",
    "    .distinct()\n",
    ")"
   ]
  },
  {
   "cell_type": "markdown",
   "metadata": {
    "application/vnd.databricks.v1+cell": {
     "cellMetadata": {},
     "inputWidgets": {},
     "nuid": "07c59253-fa46-4b6b-b5d7-f3abe4fd4d5d",
     "showTitle": false,
     "title": ""
    }
   },
   "source": [
    "#### Write to database"
   ]
  },
  {
   "cell_type": "code",
   "execution_count": 0,
   "metadata": {
    "application/vnd.databricks.v1+cell": {
     "cellMetadata": {},
     "inputWidgets": {},
     "nuid": "19803e3e-70d7-4346-9c2d-f83e66a409f8",
     "showTitle": false,
     "title": ""
    }
   },
   "outputs": [],
   "source": [
    "silver_path = \"abfss://team1-project2@20230821desa.dfs.core.windows.net/SilverLayer/issue-assignee\"\n",
    "\n",
    "issue_assigneeDF.repartition(1).write.mode(\"overwrite\").parquet(silver_path)"
   ]
  }
 ],
 "metadata": {
  "application/vnd.databricks.v1+notebook": {
   "dashboards": [],
   "language": "python",
   "notebookMetadata": {
    "pythonIndentUnit": 4
   },
   "notebookName": "issue-assignee-table",
   "widgets": {}
  }
 },
 "nbformat": 4,
 "nbformat_minor": 0
}
