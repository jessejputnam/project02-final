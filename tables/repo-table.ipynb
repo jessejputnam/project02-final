{
 "cells": [
  {
   "cell_type": "markdown",
   "metadata": {
    "application/vnd.databricks.v1+cell": {
     "cellMetadata": {},
     "inputWidgets": {},
     "nuid": "06d68ec8-b347-4bf4-839a-53b3e9d526f9",
     "showTitle": false,
     "title": ""
    }
   },
   "source": [
    "#### Creating Repo Event Dataframe"
   ]
  },
  {
   "cell_type": "code",
   "execution_count": 0,
   "metadata": {
    "application/vnd.databricks.v1+cell": {
     "cellMetadata": {},
     "inputWidgets": {},
     "nuid": "3244978b-5a15-4a08-a3e2-e07ad9612f24",
     "showTitle": false,
     "title": ""
    }
   },
   "outputs": [],
   "source": [
    "df = spark.sql(\"SELECT * FROM data\")"
   ]
  },
  {
   "cell_type": "markdown",
   "metadata": {
    "application/vnd.databricks.v1+cell": {
     "cellMetadata": {},
     "inputWidgets": {},
     "nuid": "151d063c-f391-4d99-872a-c6b568f9eef4",
     "showTitle": false,
     "title": ""
    }
   },
   "source": [
    "#### Reference variables"
   ]
  },
  {
   "cell_type": "code",
   "execution_count": 0,
   "metadata": {
    "application/vnd.databricks.v1+cell": {
     "cellMetadata": {},
     "inputWidgets": {},
     "nuid": "9a23466e-8a55-420c-b2e0-a185c83ed39f",
     "showTitle": false,
     "title": ""
    }
   },
   "outputs": [],
   "source": [
    "# Final column names\n",
    "col_names = [\n",
    "    \"id\",\n",
    "    \"allow_forking\",\n",
    "    \"archive_url\",\n",
    "    \"archived\",\n",
    "    \"assignees_url\",\n",
    "    \"blobs_url\",\n",
    "    \"branches_url\",\n",
    "    \"clone_url\",\n",
    "    \"collaborators_url\",\n",
    "    \"comments_url\",\n",
    "    \"commits_url\",\n",
    "    \"compare_url\",\n",
    "    \"contents_url\",\n",
    "    \"contributors_url\",\n",
    "    \"created_at\",\n",
    "    \"default_branch\",\n",
    "    \"deployments_url\",\n",
    "    \"description\",\n",
    "    \"disabled\",\n",
    "    \"downloads_url\",\n",
    "    \"events_url\",\n",
    "    \"fork\",\n",
    "    \"forks\",\n",
    "    \"forks_count\",\n",
    "    \"forks_url\",\n",
    "    \"full_name\",\n",
    "    \"git_commits_url\",\n",
    "    \"git_refs_url\",\n",
    "    \"git_tags_url\",\n",
    "    \"git_url\",\n",
    "    \"has_downloads\",\n",
    "    \"has_issues\",\n",
    "    \"has_pages\",\n",
    "    \"has_projects\",\n",
    "    \"has_wiki\",\n",
    "    \"homepage\",\n",
    "    \"hooks_url\",\n",
    "    \"html_url\",\n",
    "    \"is_template\",\n",
    "    \"issue_comment_url\",\n",
    "    \"issue_events_url\",\n",
    "    \"issues_url\",\n",
    "    \"keys_url\",\n",
    "    \"labels_url\",\n",
    "    \"language\",\n",
    "    \"languages_url\",\n",
    "    \"license_id\",\n",
    "    \"merges_url\",\n",
    "    \"milestones_url\",\n",
    "    \"mirror_url\",\n",
    "    \"name\",\n",
    "    \"node_id\",\n",
    "    \"notifications_url\",\n",
    "    \"open_issues\",\n",
    "    \"open_issues_count\",\n",
    "    \"owner_id\",\n",
    "    \"private\",\n",
    "    \"pulls_url\",\n",
    "    \"pushed_at\",\n",
    "    \"releases_url\",\n",
    "    \"size\",\n",
    "    \"ssh_url\",\n",
    "    \"stargazers_count\",\n",
    "    \"stargazers_url\",\n",
    "    \"statuses_url\",\n",
    "    \"subscribers_url\",\n",
    "    \"subscription_url\",\n",
    "    \"svn_url\",\n",
    "    \"tags_url\",\n",
    "    \"teams_url\",\n",
    "    \"trees_url\",\n",
    "    \"updated_at\",\n",
    "    \"url\",\n",
    "    \"visibility\",\n",
    "    \"watchers\",\n",
    "    \"watchers_count\",\n",
    "]\n",
    "\n",
    "# Col names that cast to type and search through objects for nested id's\n",
    "cols = col_names.copy()\n",
    "cols[0] = col(\"id\").cast(LongType())\n",
    "cols[14] = col(\"created_at\").cast(TimestampType())\n",
    "cols[46] = col(\"license.key\").alias(\"license_id\")\n",
    "cols[55] = col(\"owner.id\").alias(\"owner_id\")\n",
    "cols[58] = col(\"pushed_at\").cast(TimestampType())\n",
    "cols[71] = col(\"updated_at\").cast(TimestampType())\n",
    "\n",
    "# Top level repo cols with missing info replaced with nulls\n",
    "top_level_cols = [lit(None) for i in range(76)]\n",
    "top_level_cols[0] = \"repo_id\"\n",
    "top_level_cols[50] = \"repo_name\"\n",
    "top_level_cols[72] = \"repo_url\""
   ]
  },
  {
   "cell_type": "code",
   "execution_count": 0,
   "metadata": {
    "application/vnd.databricks.v1+cell": {
     "cellMetadata": {},
     "inputWidgets": {},
     "nuid": "1f25db4d-c7f6-4223-bc6c-e3bb7fe2f6c2",
     "showTitle": false,
     "title": ""
    }
   },
   "outputs": [],
   "source": [
    "paths = [\n",
    "    \"payload_forkee\",\n",
    "    \"payload_pull_request.base.repo\",\n",
    "    \"payload_pull_request.head.repo\",\n",
    "]"
   ]
  },
  {
   "cell_type": "code",
   "execution_count": 0,
   "metadata": {
    "application/vnd.databricks.v1+cell": {
     "cellMetadata": {},
     "inputWidgets": {},
     "nuid": "f99e1c64-e113-4efc-b5f2-e03d33b5adb7",
     "showTitle": false,
     "title": ""
    }
   },
   "outputs": [],
   "source": [
    "top_repoDF = df.select(top_level_cols).distinct().orderBy(\"repo_id\")"
   ]
  },
  {
   "cell_type": "code",
   "execution_count": 0,
   "metadata": {
    "application/vnd.databricks.v1+cell": {
     "cellMetadata": {},
     "inputWidgets": {},
     "nuid": "7a346d86-8c26-4144-b03b-a7a701bc847d",
     "showTitle": false,
     "title": ""
    }
   },
   "outputs": [],
   "source": [
    "forkeeDF = (\n",
    "    df.filter(col(paths[0]).isNotNull())\n",
    "    .select(f\"{paths[0]}.*\")\n",
    "    .select(cols)\n",
    "    .distinct()\n",
    "    .orderBy(\"id\")\n",
    ")"
   ]
  },
  {
   "cell_type": "code",
   "execution_count": 0,
   "metadata": {
    "application/vnd.databricks.v1+cell": {
     "cellMetadata": {},
     "inputWidgets": {},
     "nuid": "2d5dc89d-a771-4b42-9e3f-8df6678f2d00",
     "showTitle": false,
     "title": ""
    }
   },
   "outputs": [],
   "source": [
    "base_repoDF = (\n",
    "    df.filter(col(paths[1]).isNotNull())\n",
    "    .select(f\"{paths[1]}.*\")\n",
    "    .select(cols)\n",
    "    .distinct()\n",
    "    .orderBy(\"id\")\n",
    ")"
   ]
  },
  {
   "cell_type": "code",
   "execution_count": 0,
   "metadata": {
    "application/vnd.databricks.v1+cell": {
     "cellMetadata": {},
     "inputWidgets": {},
     "nuid": "0565877f-1d67-4d7a-8fba-187c274983d1",
     "showTitle": false,
     "title": ""
    }
   },
   "outputs": [],
   "source": [
    "head_repoDF = (\n",
    "    df.filter(col(paths[2]).isNotNull())\n",
    "    .select(f\"{paths[2]}.*\")\n",
    "    .select(cols)\n",
    "    .distinct()\n",
    "    .orderBy(\"id\")\n",
    ")"
   ]
  },
  {
   "cell_type": "code",
   "execution_count": 0,
   "metadata": {
    "application/vnd.databricks.v1+cell": {
     "cellMetadata": {},
     "inputWidgets": {},
     "nuid": "cc667ab6-2591-4c08-93a6-1494a498e67c",
     "showTitle": false,
     "title": ""
    }
   },
   "outputs": [],
   "source": [
    "repoDF = forkeeDF.union(base_repoDF)\n",
    "repoDF = repoDF.union(head_repoDF).distinct()"
   ]
  },
  {
   "cell_type": "code",
   "execution_count": 0,
   "metadata": {
    "application/vnd.databricks.v1+cell": {
     "cellMetadata": {},
     "inputWidgets": {},
     "nuid": "7ec7585b-6e81-4346-8438-ef2ac1302d20",
     "showTitle": false,
     "title": ""
    }
   },
   "outputs": [],
   "source": [
    "repoDF = repoDF.union(top_repoDF).orderBy(\"id\")"
   ]
  },
  {
   "cell_type": "code",
   "execution_count": 0,
   "metadata": {
    "application/vnd.databricks.v1+cell": {
     "cellMetadata": {},
     "inputWidgets": {},
     "nuid": "f68069e8-3546-4ee7-b32b-77859df567e1",
     "showTitle": false,
     "title": ""
    }
   },
   "outputs": [],
   "source": [
    "# Max hack (see user table for explanation)\n",
    "repoDF = repoDF.groupBy(\"id\").agg(\n",
    "    max(col_names[1]).alias(col_names[1]),\n",
    "    max(col_names[2]).alias(col_names[2]),\n",
    "    max(col_names[3]).alias(col_names[3]),\n",
    "    max(col_names[4]).alias(col_names[4]),\n",
    "    max(col_names[5]).alias(col_names[5]),\n",
    "    max(col_names[6]).alias(col_names[6]),\n",
    "    max(col_names[7]).alias(col_names[7]),\n",
    "    max(col_names[8]).alias(col_names[8]),\n",
    "    max(col_names[9]).alias(col_names[9]),\n",
    "    max(col_names[10]).alias(col_names[10]),\n",
    "    max(col_names[11]).alias(col_names[11]),\n",
    "    max(col_names[12]).alias(col_names[12]),\n",
    "    max(col_names[13]).alias(col_names[13]),\n",
    "    max(col_names[14]).alias(col_names[14]),\n",
    "    max(col_names[15]).alias(col_names[15]),\n",
    "    max(col_names[16]).alias(col_names[16]),\n",
    "    max(col_names[17]).alias(col_names[17]),\n",
    "    max(col_names[18]).alias(col_names[18]),\n",
    "    max(col_names[19]).alias(col_names[19]),\n",
    "    max(col_names[20]).alias(col_names[20]),\n",
    "    max(col_names[21]).alias(col_names[21]),\n",
    "    max(col_names[22]).alias(col_names[22]),\n",
    "    max(col_names[23]).alias(col_names[23]),\n",
    "    max(col_names[24]).alias(col_names[24]),\n",
    "    max(col_names[25]).alias(col_names[25]),\n",
    "    max(col_names[26]).alias(col_names[26]),\n",
    "    max(col_names[27]).alias(col_names[27]),\n",
    "    max(col_names[28]).alias(col_names[28]),\n",
    "    max(col_names[29]).alias(col_names[29]),\n",
    "    max(col_names[30]).alias(col_names[30]),\n",
    "    max(col_names[31]).alias(col_names[31]),\n",
    "    max(col_names[32]).alias(col_names[32]),\n",
    "    max(col_names[33]).alias(col_names[33]),\n",
    "    max(col_names[34]).alias(col_names[34]),\n",
    "    max(col_names[35]).alias(col_names[35]),\n",
    "    max(col_names[36]).alias(col_names[36]),\n",
    "    max(col_names[37]).alias(col_names[37]),\n",
    "    max(col_names[38]).alias(col_names[38]),\n",
    "    max(col_names[39]).alias(col_names[39]),\n",
    "    max(col_names[40]).alias(col_names[40]),\n",
    "    max(col_names[41]).alias(col_names[41]),\n",
    "    max(col_names[42]).alias(col_names[42]),\n",
    "    max(col_names[43]).alias(col_names[43]),\n",
    "    max(col_names[44]).alias(col_names[44]),\n",
    "    max(col_names[45]).alias(col_names[45]),\n",
    "    max(col_names[46]).alias(col_names[46]),\n",
    "    max(col_names[47]).alias(col_names[47]),\n",
    "    max(col_names[48]).alias(col_names[48]),\n",
    "    max(col_names[49]).alias(col_names[49]),\n",
    "    max(col_names[50]).alias(col_names[50]),\n",
    "    max(col_names[51]).alias(col_names[51]),\n",
    "    max(col_names[52]).alias(col_names[52]),\n",
    "    max(col_names[53]).alias(col_names[53]),\n",
    "    max(col_names[54]).alias(col_names[54]),\n",
    "    max(col_names[55]).alias(col_names[55]),\n",
    "    max(col_names[56]).alias(col_names[56]),\n",
    "    max(col_names[57]).alias(col_names[57]),\n",
    "    max(col_names[58]).alias(col_names[58]),\n",
    "    max(col_names[59]).alias(col_names[59]),\n",
    "    max(col_names[60]).alias(col_names[60]),\n",
    "    max(col_names[61]).alias(col_names[61]),\n",
    "    max(col_names[62]).alias(col_names[62]),\n",
    "    max(col_names[63]).alias(col_names[63]),\n",
    "    max(col_names[64]).alias(col_names[64]),\n",
    "    max(col_names[65]).alias(col_names[65]),\n",
    "    max(col_names[66]).alias(col_names[66]),\n",
    "    max(col_names[67]).alias(col_names[67]),\n",
    "    max(col_names[68]).alias(col_names[68]),\n",
    "    max(col_names[69]).alias(col_names[69]),\n",
    "    max(col_names[70]).alias(col_names[70]),\n",
    "    max(col_names[71]).alias(col_names[71]),\n",
    "    max(col_names[72]).alias(col_names[72]),\n",
    "    max(col_names[73]).alias(col_names[73]),\n",
    "    max(col_names[74]).alias(col_names[74]),\n",
    "    max(col_names[75]).alias(col_names[75]),\n",
    ")"
   ]
  },
  {
   "cell_type": "markdown",
   "metadata": {
    "application/vnd.databricks.v1+cell": {
     "cellMetadata": {},
     "inputWidgets": {},
     "nuid": "6b4b4a80-205c-4688-94b2-67eb12f7857b",
     "showTitle": false,
     "title": ""
    }
   },
   "source": [
    "#### Write to Database"
   ]
  },
  {
   "cell_type": "code",
   "execution_count": 0,
   "metadata": {
    "application/vnd.databricks.v1+cell": {
     "cellMetadata": {},
     "inputWidgets": {},
     "nuid": "2f1cf464-5f0d-45fd-a881-d80b16dc0a55",
     "showTitle": false,
     "title": ""
    }
   },
   "outputs": [],
   "source": [
    "silver_path = \"abfss://team1-project2@20230821desa.dfs.core.windows.net/SilverLayer/repo\"\n",
    "\n",
    "repoDF.repartition(87).write.parquet(silver_path)"
   ]
  }
 ],
 "metadata": {
  "application/vnd.databricks.v1+notebook": {
   "dashboards": [],
   "language": "python",
   "notebookMetadata": {
    "pythonIndentUnit": 4
   },
   "notebookName": "repo-table",
   "widgets": {}
  }
 },
 "nbformat": 4,
 "nbformat_minor": 0
}
