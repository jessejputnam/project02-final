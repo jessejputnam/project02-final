{
 "cells": [
  {
   "cell_type": "markdown",
   "metadata": {
    "application/vnd.databricks.v1+cell": {
     "cellMetadata": {},
     "inputWidgets": {},
     "nuid": "f3e409d3-c6ce-40e1-97b8-d269dd56da6c",
     "showTitle": false,
     "title": ""
    }
   },
   "source": [
    "#### Creating License Dataframe"
   ]
  },
  {
   "cell_type": "code",
   "execution_count": 0,
   "metadata": {
    "application/vnd.databricks.v1+cell": {
     "cellMetadata": {},
     "inputWidgets": {},
     "nuid": "0c828ef1-06d3-4ed5-a89f-72a41332bedb",
     "showTitle": false,
     "title": ""
    }
   },
   "outputs": [],
   "source": [
    "df = spark.sql(\"SELECT * FROM data\")"
   ]
  },
  {
   "cell_type": "code",
   "execution_count": 0,
   "metadata": {
    "application/vnd.databricks.v1+cell": {
     "cellMetadata": {},
     "inputWidgets": {},
     "nuid": "2183452c-8c93-41c6-a368-3c445d035866",
     "showTitle": false,
     "title": ""
    }
   },
   "outputs": [],
   "source": [
    "licenseDF = (\n",
    "    df.filter(\n",
    "        (col(\"event_type\") == \"ForkEvent\") & (col(\"payload_forkee.license\").isNotNull())\n",
    "    )\n",
    "    .select(\"payload_forkee.license.*\")\n",
    "    .distinct()\n",
    "    .orderBy(\"key\")\n",
    ")"
   ]
  },
  {
   "cell_type": "markdown",
   "metadata": {
    "application/vnd.databricks.v1+cell": {
     "cellMetadata": {},
     "inputWidgets": {},
     "nuid": "8cfa0fc1-5aaa-421c-b06c-cbc68135d81b",
     "showTitle": false,
     "title": ""
    }
   },
   "source": [
    "#### Write to database"
   ]
  },
  {
   "cell_type": "code",
   "execution_count": 0,
   "metadata": {
    "application/vnd.databricks.v1+cell": {
     "cellMetadata": {},
     "inputWidgets": {},
     "nuid": "3a2ba70d-0057-425a-b4fa-d558f0aa6803",
     "showTitle": false,
     "title": ""
    }
   },
   "outputs": [],
   "source": [
    "licenseDF.repartition(1).write.mode(\"overwrite\").parquet(\"abfss://team1-project2@20230821desa.dfs.core.windows.net/SilverLayer/license\")"
   ]
  }
 ],
 "metadata": {
  "application/vnd.databricks.v1+notebook": {
   "dashboards": [],
   "language": "python",
   "notebookMetadata": {
    "pythonIndentUnit": 4
   },
   "notebookName": "license-table",
   "widgets": {}
  }
 },
 "nbformat": 4,
 "nbformat_minor": 0
}
