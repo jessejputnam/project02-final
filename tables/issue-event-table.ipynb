{
 "cells": [
  {
   "cell_type": "markdown",
   "metadata": {
    "application/vnd.databricks.v1+cell": {
     "cellMetadata": {},
     "inputWidgets": {},
     "nuid": "5ca1958b-f7a1-4756-83c1-aee689086b36",
     "showTitle": false,
     "title": ""
    }
   },
   "source": [
    "#### Creating Issue Event Dataframe"
   ]
  },
  {
   "cell_type": "code",
   "execution_count": 0,
   "metadata": {
    "application/vnd.databricks.v1+cell": {
     "cellMetadata": {},
     "inputWidgets": {},
     "nuid": "a109e82f-221f-4334-80a8-6552a394d89d",
     "showTitle": false,
     "title": ""
    }
   },
   "outputs": [],
   "source": [
    "df = spark.sql(\"SELECT * FROM data\")"
   ]
  },
  {
   "cell_type": "code",
   "execution_count": 0,
   "metadata": {
    "application/vnd.databricks.v1+cell": {
     "cellMetadata": {},
     "inputWidgets": {},
     "nuid": "c94e85a5-e215-45c2-a4e5-8391116267cf",
     "showTitle": false,
     "title": ""
    }
   },
   "outputs": [],
   "source": [
    "issue_eventDF = (\n",
    "    df.select(\n",
    "        col(\"event_id\").cast(LongType()).alias(\"id\"),\n",
    "        col(\"payload_action\").alias(\"action\"),\n",
    "        \"actor_id\",\n",
    "        col(\"event_created_at\").cast(TimestampType()).alias(\"created_at\"),\n",
    "        col(\"payload_issue.id\").alias(\"issue_id\"),\n",
    "        \"org_id\",\n",
    "        col(\"event_public\").alias('public'),\n",
    "        \"repo_id\",\n",
    "    )\n",
    "    .distinct()\n",
    "    .orderBy(\"id\")\n",
    ")"
   ]
  },
  {
   "cell_type": "markdown",
   "metadata": {
    "application/vnd.databricks.v1+cell": {
     "cellMetadata": {},
     "inputWidgets": {},
     "nuid": "34f2f562-1125-4c5c-be68-e30eb3a5df86",
     "showTitle": false,
     "title": ""
    }
   },
   "source": [
    "#### Write to database"
   ]
  },
  {
   "cell_type": "code",
   "execution_count": 0,
   "metadata": {
    "application/vnd.databricks.v1+cell": {
     "cellMetadata": {},
     "inputWidgets": {},
     "nuid": "5cbfbd21-3619-43a9-87f2-2807395d4f7d",
     "showTitle": false,
     "title": ""
    }
   },
   "outputs": [],
   "source": [
    "issue_eventDF.repartition(17).write.mode(\"overwrite\").parquet(\"abfss://team1-project2@20230821desa.dfs.core.windows.net/SilverLayer/issue-event\")"
   ]
  }
 ],
 "metadata": {
  "application/vnd.databricks.v1+notebook": {
   "dashboards": [],
   "language": "python",
   "notebookMetadata": {
    "pythonIndentUnit": 4
   },
   "notebookName": "issue-event-table",
   "widgets": {}
  }
 },
 "nbformat": 4,
 "nbformat_minor": 0
}
