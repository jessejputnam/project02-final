{
 "cells": [
  {
   "cell_type": "markdown",
   "metadata": {
    "application/vnd.databricks.v1+cell": {
     "cellMetadata": {},
     "inputWidgets": {},
     "nuid": "6dbfc34c-b0a2-468a-bd39-44515cdfb4bd",
     "showTitle": false,
     "title": ""
    }
   },
   "source": [
    "#### Creating Push Event Commit Dataframe"
   ]
  },
  {
   "cell_type": "code",
   "execution_count": 0,
   "metadata": {
    "application/vnd.databricks.v1+cell": {
     "cellMetadata": {},
     "inputWidgets": {},
     "nuid": "4046b51e-4d84-45ca-a5b0-a568e9b3546c",
     "showTitle": false,
     "title": ""
    }
   },
   "outputs": [],
   "source": [
    "df = (\n",
    "    spark.sql(\"SELECT * FROM data\")\n",
    "    .filter(col(\"event_type\") == \"PushEvent\")\n",
    ")"
   ]
  },
  {
   "cell_type": "code",
   "execution_count": 0,
   "metadata": {
    "application/vnd.databricks.v1+cell": {
     "cellMetadata": {},
     "inputWidgets": {},
     "nuid": "f4ce7238-6651-44cc-9253-4c5fca7b4112",
     "showTitle": false,
     "title": ""
    }
   },
   "outputs": [],
   "source": [
    "push_event_commitDF = (\n",
    "    df.select(col(\"event_id\"), explode(col(\"payload_commits\")))\n",
    "    .select(\n",
    "        col(\"col.sha\").alias(\"commit_sha\"), \n",
    "        col(\"event_id\").cast(LongType())\n",
    "    ).distinct()\n",
    ")"
   ]
  },
  {
   "cell_type": "markdown",
   "metadata": {
    "application/vnd.databricks.v1+cell": {
     "cellMetadata": {},
     "inputWidgets": {},
     "nuid": "f9899ee2-6c24-4b30-9ba8-26703cbae7a7",
     "showTitle": false,
     "title": ""
    }
   },
   "source": [
    "#### Write to database"
   ]
  },
  {
   "cell_type": "code",
   "execution_count": 0,
   "metadata": {
    "application/vnd.databricks.v1+cell": {
     "cellMetadata": {},
     "inputWidgets": {},
     "nuid": "d9053dd0-f690-4300-8165-75f42c9f4e65",
     "showTitle": false,
     "title": ""
    }
   },
   "outputs": [],
   "source": [
    "push_event_commitDF.repartition(36).write.parquet(\"abfss://team1-project2@20230821desa.dfs.core.windows.net/SilverLayer/push-event-commit\")"
   ]
  }
 ],
 "metadata": {
  "application/vnd.databricks.v1+notebook": {
   "dashboards": [],
   "language": "python",
   "notebookMetadata": {
    "pythonIndentUnit": 4
   },
   "notebookName": "push-event-commit-table",
   "widgets": {}
  }
 },
 "nbformat": 4,
 "nbformat_minor": 0
}
