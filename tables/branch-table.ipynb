{
 "cells": [
  {
   "cell_type": "markdown",
   "metadata": {
    "application/vnd.databricks.v1+cell": {
     "cellMetadata": {},
     "inputWidgets": {},
     "nuid": "aafe39d9-27da-4d1b-ab42-092b3eecf718",
     "showTitle": false,
     "title": ""
    }
   },
   "source": [
    "#### Creating Branch Dataframe"
   ]
  },
  {
   "cell_type": "code",
   "execution_count": 0,
   "metadata": {
    "application/vnd.databricks.v1+cell": {
     "cellMetadata": {},
     "inputWidgets": {},
     "nuid": "fac075f8-550f-4ac1-87cb-8960531ff0bb",
     "showTitle": false,
     "title": ""
    }
   },
   "outputs": [],
   "source": [
    "df = spark.sql(\"SELECT * FROM data\").filter(col(\"payload_pull_request\").isNotNull())"
   ]
  },
  {
   "cell_type": "code",
   "execution_count": 0,
   "metadata": {
    "application/vnd.databricks.v1+cell": {
     "cellMetadata": {},
     "inputWidgets": {},
     "nuid": "c7d0181f-e451-4b81-b486-9685d6faf269",
     "showTitle": false,
     "title": ""
    }
   },
   "outputs": [],
   "source": [
    "cols = [\"id\", (\"base.label\"), \"base.ref\", col(\"base.repo.id\").alias(\"repo_id\"), \"base.sha\"]"
   ]
  },
  {
   "cell_type": "code",
   "execution_count": 0,
   "metadata": {
    "application/vnd.databricks.v1+cell": {
     "cellMetadata": {},
     "inputWidgets": {},
     "nuid": "208ba16f-3c36-48d2-ac55-e6228073c3d3",
     "showTitle": false,
     "title": ""
    }
   },
   "outputs": [],
   "source": [
    "branchDF = (\n",
    "    df.select(\"payload_pull_request.base\")\n",
    "    .union(df.select(\"payload_pull_request.head\"))\n",
    "    .withColumn(\"id\", concat(col(\"base.label\"), lit(\":\"), col(\"base.sha\")))\n",
    "    .select(cols)\n",
    "    .distinct()\n",
    "    .orderBy(\"id\")\n",
    ")"
   ]
  },
  {
   "cell_type": "markdown",
   "metadata": {
    "application/vnd.databricks.v1+cell": {
     "cellMetadata": {},
     "inputWidgets": {},
     "nuid": "eebe36a8-a44f-486b-adb7-924fd3fd490f",
     "showTitle": false,
     "title": ""
    }
   },
   "source": [
    "#### Write to database"
   ]
  },
  {
   "cell_type": "code",
   "execution_count": 0,
   "metadata": {
    "application/vnd.databricks.v1+cell": {
     "cellMetadata": {},
     "inputWidgets": {},
     "nuid": "0679af12-0bbb-4ce7-b5a2-ae2a06983463",
     "showTitle": false,
     "title": ""
    }
   },
   "outputs": [],
   "source": [
    "branchDF.repartition(11).write.mode(\"overwrite\").parquet(\"abfss://team1-project2@20230821desa.dfs.core.windows.net/SilverLayer/branch\")"
   ]
  }
 ],
 "metadata": {
  "application/vnd.databricks.v1+notebook": {
   "dashboards": [],
   "language": "python",
   "notebookMetadata": {
    "pythonIndentUnit": 4
   },
   "notebookName": "branch-table",
   "widgets": {}
  }
 },
 "nbformat": 4,
 "nbformat_minor": 0
}
