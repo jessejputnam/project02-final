{
 "cells": [
  {
   "cell_type": "markdown",
   "metadata": {
    "application/vnd.databricks.v1+cell": {
     "cellMetadata": {},
     "inputWidgets": {},
     "nuid": "930a402e-5d2f-4a49-a4b5-d8a1303f298f",
     "showTitle": false,
     "title": ""
    }
   },
   "source": [
    "#### Creating Asset Dataframe"
   ]
  },
  {
   "cell_type": "code",
   "execution_count": 0,
   "metadata": {
    "application/vnd.databricks.v1+cell": {
     "cellMetadata": {},
     "inputWidgets": {},
     "nuid": "bd937721-fbf6-4e74-992d-bab61f22bdb6",
     "showTitle": false,
     "title": ""
    }
   },
   "outputs": [],
   "source": [
    "df = spark.sql(\"SELECT * FROM data\")"
   ]
  },
  {
   "cell_type": "code",
   "execution_count": 0,
   "metadata": {
    "application/vnd.databricks.v1+cell": {
     "cellMetadata": {},
     "inputWidgets": {},
     "nuid": "68eb3176-4fbc-43fe-a41a-8e32ecb2e8f9",
     "showTitle": false,
     "title": ""
    }
   },
   "outputs": [],
   "source": [
    "# Look for array field where field contains any items\n",
    "asset = df.filter(size(col(\"payload_release.assets\")) > 0).select(\"payload_release.*\").distinct()"
   ]
  },
  {
   "cell_type": "code",
   "execution_count": 0,
   "metadata": {
    "application/vnd.databricks.v1+cell": {
     "cellMetadata": {},
     "inputWidgets": {},
     "nuid": "8f8d4482-f9e2-4e1b-bd89-04a068538f52",
     "showTitle": false,
     "title": ""
    }
   },
   "outputs": [],
   "source": [
    "# Extracting nested arrays\n",
    "asset1 = (\n",
    "    asset.select(explode(\"assets\"))\n",
    "    .select(\"col.*\")\n",
    "    .withColumn(\"uploader_id\", col(\"uploader.id\"))\n",
    "    .drop(\"uploader\")\n",
    ")"
   ]
  },
  {
   "cell_type": "code",
   "execution_count": 0,
   "metadata": {
    "application/vnd.databricks.v1+cell": {
     "cellMetadata": {},
     "inputWidgets": {},
     "nuid": "cb21d9d9-179b-427c-bb27-e69f9dad58c0",
     "showTitle": false,
     "title": ""
    }
   },
   "outputs": [],
   "source": [
    "assetDF = (\n",
    "    asset1.select(\n",
    "        \"id\",\n",
    "        \"browser_download_url\",\n",
    "        \"content_type\",\n",
    "        col(\"created_at\").cast(TimestampType()).alias(\"created_at\"),\n",
    "        \"download_count\",\n",
    "        \"label\",\n",
    "        \"name\",\n",
    "        \"node_id\",\n",
    "        \"size\",\n",
    "        \"state\",\n",
    "        col(\"updated_at\").cast(TimestampType()),\n",
    "        \"uploader_id\",\n",
    "        \"url\",\n",
    "    )\n",
    "    .distinct()\n",
    "    .orderBy(\"id\")\n",
    ")"
   ]
  },
  {
   "cell_type": "markdown",
   "metadata": {
    "application/vnd.databricks.v1+cell": {
     "cellMetadata": {},
     "inputWidgets": {},
     "nuid": "e25841c7-4dd3-4f68-9eaf-cbb34fb47abc",
     "showTitle": false,
     "title": ""
    }
   },
   "source": [
    "#### Write to database"
   ]
  },
  {
   "cell_type": "code",
   "execution_count": 0,
   "metadata": {
    "application/vnd.databricks.v1+cell": {
     "cellMetadata": {},
     "inputWidgets": {},
     "nuid": "6487ed26-f94a-4f34-baa6-3f9821527e9f",
     "showTitle": false,
     "title": ""
    }
   },
   "outputs": [],
   "source": [
    "assetDF.repartition(1).write.mode(\"overwrite\").parquet(\"abfss://team1-project2@20230821desa.dfs.core.windows.net/SilverLayer/asset\")"
   ]
  }
 ],
 "metadata": {
  "application/vnd.databricks.v1+notebook": {
   "dashboards": [],
   "language": "python",
   "notebookMetadata": {
    "pythonIndentUnit": 4
   },
   "notebookName": "asset-table",
   "widgets": {}
  }
 },
 "nbformat": 4,
 "nbformat_minor": 0
}
