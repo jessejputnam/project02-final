{
 "cells": [
  {
   "cell_type": "code",
   "execution_count": 0,
   "metadata": {
    "application/vnd.databricks.v1+cell": {
     "cellMetadata": {},
     "inputWidgets": {},
     "nuid": "19f51dcf-20fd-4d1f-9a3f-59aebe49dbef",
     "showTitle": false,
     "title": ""
    }
   },
   "outputs": [],
   "source": [
    "# Read in data from table\n",
    "df = spark.sql(\"SELECT * FROM data\")"
   ]
  },
  {
   "cell_type": "markdown",
   "metadata": {
    "application/vnd.databricks.v1+cell": {
     "cellMetadata": {},
     "inputWidgets": {},
     "nuid": "c186cb28-1376-4e22-ac12-c40e9792ba3a",
     "showTitle": false,
     "title": ""
    }
   },
   "source": [
    "#### Reference variables"
   ]
  },
  {
   "cell_type": "code",
   "execution_count": 0,
   "metadata": {
    "application/vnd.databricks.v1+cell": {
     "cellMetadata": {},
     "inputWidgets": {},
     "nuid": "0454f7ed-f98b-4c8c-b1b3-59c33bb7b462",
     "showTitle": false,
     "title": ""
    }
   },
   "outputs": [],
   "source": [
    "# Column names for user objects\n",
    "user_cols = [\n",
    "    \"id\",\n",
    "    \"avatar_url\",\n",
    "    \"events_url\",\n",
    "    \"followers_url\",\n",
    "    \"following_url\",\n",
    "    \"gists_url\",\n",
    "    \"gravatar_id\",\n",
    "    \"html_url\",\n",
    "    \"login\",\n",
    "    \"node_id\",\n",
    "    \"organizations_url\",\n",
    "    \"received_events_url\",\n",
    "    \"repos_url\",\n",
    "    \"site_admin\",\n",
    "    \"starred_url\",\n",
    "    \"subscriptions_url\",\n",
    "    \"type\",\n",
    "    \"url\",\n",
    "]\n",
    "\n",
    "# Top level actor cols (majority missing values)\n",
    "actor_cols = [lit(None) for i in range(18)]\n",
    "actor_cols[0] = col(\"actor_id\").cast(LongType())\n",
    "actor_cols[1] = \"actor_avatar_url\"\n",
    "actor_cols[6] = \"actor_gravatar_id\"\n",
    "actor_cols[8] = \"actor_login\"\n",
    "actor_cols[16] = lit(\"User\").alias(\"type\")\n",
    "actor_cols[17] = \"actor_url\"\n",
    "\n",
    "# Top level org cols (majority missing values)\n",
    "org_cols = [lit(None) for i in range(18)]\n",
    "org_cols[0] = col(\"org_id\").cast(LongType())\n",
    "org_cols[1] = \"org_avatar_url\"\n",
    "org_cols[6] = \"org_gravatar_id\"\n",
    "org_cols[8] = \"org_login\"\n",
    "org_cols[16] = lit(\"Organization\").alias(\"type\")\n",
    "org_cols[17] = \"org_url\""
   ]
  },
  {
   "cell_type": "code",
   "execution_count": 0,
   "metadata": {
    "application/vnd.databricks.v1+cell": {
     "cellMetadata": {},
     "inputWidgets": {},
     "nuid": "fa4eb16d-4df4-430a-ae41-cea1267070ad",
     "showTitle": false,
     "title": ""
    }
   },
   "outputs": [],
   "source": [
    "# Paths to where user objects are found\n",
    "paths = [\n",
    "    \"payload_comment.user\",\n",
    "    \"payload_forkee.owner\",\n",
    "    \"payload_issue.milestone.creator\",\n",
    "    \"payload_issue.assignee\",\n",
    "    \"payload_member\",\n",
    "    \"payload_pull_request.user\",\n",
    "    \"payload_pull_request.milestone.creator\",\n",
    "    \"payload_pull_request.assignee\",\n",
    "    \"payload_pull_request.auto_merge.enabled_by\",\n",
    "    \"payload_pull_request.base.user\",\n",
    "    \"payload_pull_request.base.repo.owner\",\n",
    "    \"payload_pull_request.head.user\",\n",
    "    \"payload_pull_request.head.repo.owner\",\n",
    "    \"payload_pull_request.merged_by\",\n",
    "    \"payload_review.user\",\n",
    "    \"payload_release.author\",\n",
    "    \"payload_issue.assignees\",\n",
    "    \"payload_pull_request.assignees\",\n",
    "    \"payload_release.assets\",\n",
    "]"
   ]
  },
  {
   "cell_type": "markdown",
   "metadata": {
    "application/vnd.databricks.v1+cell": {
     "cellMetadata": {},
     "inputWidgets": {},
     "nuid": "553caff1-b370-4bcf-bcce-c72be9f77fc5",
     "showTitle": false,
     "title": ""
    }
   },
   "source": [
    "#### User DataFrames from different object paths"
   ]
  },
  {
   "cell_type": "markdown",
   "metadata": {
    "application/vnd.databricks.v1+cell": {
     "cellMetadata": {},
     "inputWidgets": {},
     "nuid": "1ba0192c-a957-4816-b1b5-351db0f04aae",
     "showTitle": false,
     "title": ""
    }
   },
   "source": [
    "##### Single user objects"
   ]
  },
  {
   "cell_type": "code",
   "execution_count": 0,
   "metadata": {
    "application/vnd.databricks.v1+cell": {
     "cellMetadata": {},
     "inputWidgets": {},
     "nuid": "3705e7ce-3352-4d6a-88f2-c867471e8a66",
     "showTitle": false,
     "title": ""
    }
   },
   "outputs": [],
   "source": [
    "# Top level actor\n",
    "actorDF = df.select(actor_cols).distinct().orderBy(\"actor_id\")\n",
    "\n",
    "# Top level org\n",
    "orgDF = (\n",
    "    df.select(org_cols)\n",
    "    .filter(col(\"org_id\").isNotNull())\n",
    "    .distinct()\n",
    "    .orderBy(\"org_id\")\n",
    ")"
   ]
  },
  {
   "cell_type": "code",
   "execution_count": 0,
   "metadata": {
    "application/vnd.databricks.v1+cell": {
     "cellMetadata": {},
     "inputWidgets": {},
     "nuid": "6b53089e-5620-4b48-822c-0941c1f2a9ef",
     "showTitle": false,
     "title": ""
    }
   },
   "outputs": [],
   "source": [
    "# payload.member\n",
    "memberDF = (\n",
    "    df.select(f\"{paths[4]}.*\")\n",
    "    .select(user_cols)\n",
    "    .filter(col(paths[4]).isNotNull())\n",
    "    .distinct()\n",
    "    .orderBy(\"id\")\n",
    ")"
   ]
  },
  {
   "cell_type": "code",
   "execution_count": 0,
   "metadata": {
    "application/vnd.databricks.v1+cell": {
     "cellMetadata": {},
     "inputWidgets": {},
     "nuid": "7cdc4752-6530-4ec8-a32b-6d3d74a1b1d3",
     "showTitle": false,
     "title": ""
    }
   },
   "outputs": [],
   "source": [
    "# payload.comment.user\n",
    "comment_userDF = (\n",
    "    df.select(f\"{paths[0]}.*\")\n",
    "    .select(user_cols)\n",
    "    .filter(col(paths[0]).isNotNull())\n",
    "    .distinct()\n",
    "    .orderBy(\"id\")\n",
    ")"
   ]
  },
  {
   "cell_type": "code",
   "execution_count": 0,
   "metadata": {
    "application/vnd.databricks.v1+cell": {
     "cellMetadata": {},
     "inputWidgets": {},
     "nuid": "fb48803a-0578-4729-a4e8-26c34f641f94",
     "showTitle": false,
     "title": ""
    }
   },
   "outputs": [],
   "source": [
    "# payload.forkee.user\n",
    "forkee_ownerDF = (\n",
    "    df.select(f\"{paths[1]}.*\")\n",
    "    .select(user_cols)\n",
    "    .filter(col(paths[1]).isNotNull())\n",
    "    .distinct()\n",
    "    .orderBy(\"id\")\n",
    ")"
   ]
  },
  {
   "cell_type": "code",
   "execution_count": 0,
   "metadata": {
    "application/vnd.databricks.v1+cell": {
     "cellMetadata": {},
     "inputWidgets": {},
     "nuid": "a7111d29-06bc-49e0-ac51-c92f8367218e",
     "showTitle": false,
     "title": ""
    }
   },
   "outputs": [],
   "source": [
    "# payload.issue.milestone.creator\n",
    "issue_milestone_creatorDF = (\n",
    "    df.select(f\"{paths[2]}.*\")\n",
    "    .select(user_cols)\n",
    "    .filter(col(paths[2]).isNotNull())\n",
    "    .distinct()\n",
    "    .orderBy(\"id\")\n",
    ")"
   ]
  },
  {
   "cell_type": "code",
   "execution_count": 0,
   "metadata": {
    "application/vnd.databricks.v1+cell": {
     "cellMetadata": {},
     "inputWidgets": {},
     "nuid": "2b02caa1-f1a3-4bc1-b1d2-60c8a8dd3212",
     "showTitle": false,
     "title": ""
    }
   },
   "outputs": [],
   "source": [
    "# payload.issue.assignee\n",
    "issue_assigneeDF = (\n",
    "    df.select(f\"{paths[3]}.*\")\n",
    "    .select(user_cols)\n",
    "    .filter(col(paths[3]).isNotNull())\n",
    "    .distinct()\n",
    "    .orderBy(\"id\")\n",
    ")"
   ]
  },
  {
   "cell_type": "code",
   "execution_count": 0,
   "metadata": {
    "application/vnd.databricks.v1+cell": {
     "cellMetadata": {},
     "inputWidgets": {},
     "nuid": "2e28a8fe-351a-4b02-a563-34129bee692e",
     "showTitle": false,
     "title": ""
    }
   },
   "outputs": [],
   "source": [
    "# payload.pull_request.user\n",
    "pull_request_userDF = (\n",
    "    df.select(f\"{paths[5]}.*\")\n",
    "    .select(user_cols)\n",
    "    .filter(col(paths[5]).isNotNull())\n",
    "    .distinct()\n",
    "    .orderBy(\"id\")\n",
    ")"
   ]
  },
  {
   "cell_type": "code",
   "execution_count": 0,
   "metadata": {
    "application/vnd.databricks.v1+cell": {
     "cellMetadata": {},
     "inputWidgets": {},
     "nuid": "1771fb8b-b6c7-4ba8-a0c5-f7751618d963",
     "showTitle": false,
     "title": ""
    }
   },
   "outputs": [],
   "source": [
    "# payload.pull_request.milestone.creator\n",
    "pull_request_milestone_creatorDF = (\n",
    "    df.select(f\"{paths[6]}.*\")\n",
    "    .select(user_cols)\n",
    "    .filter(col(paths[6]).isNotNull())\n",
    "    .distinct()\n",
    "    .orderBy(\"id\")\n",
    ")"
   ]
  },
  {
   "cell_type": "code",
   "execution_count": 0,
   "metadata": {
    "application/vnd.databricks.v1+cell": {
     "cellMetadata": {},
     "inputWidgets": {},
     "nuid": "9d8a0d11-0e9e-47fc-aa06-7b645e43d2b7",
     "showTitle": false,
     "title": ""
    }
   },
   "outputs": [],
   "source": [
    "# payload.pull_request.assignee\n",
    "pull_request_assigneeDF = (\n",
    "    df.select(f\"{paths[7]}.*\")\n",
    "    .select(user_cols)\n",
    "    .filter(col(paths[7]).isNotNull())\n",
    "    .distinct()\n",
    "    .orderBy(\"id\")\n",
    ")"
   ]
  },
  {
   "cell_type": "code",
   "execution_count": 0,
   "metadata": {
    "application/vnd.databricks.v1+cell": {
     "cellMetadata": {},
     "inputWidgets": {},
     "nuid": "73612120-c065-4efa-b6ca-0ffc4299f2f4",
     "showTitle": false,
     "title": ""
    }
   },
   "outputs": [],
   "source": [
    "# payload.pull_request.auto_merge.enabled_by\n",
    "pull_request_auto_merge_enabled_byDF = (\n",
    "    df.select(f\"{paths[8]}.*\")\n",
    "    .select(user_cols)\n",
    "    .filter(col(paths[8]).isNotNull())\n",
    "    .distinct()\n",
    "    .orderBy(\"id\")\n",
    ")"
   ]
  },
  {
   "cell_type": "code",
   "execution_count": 0,
   "metadata": {
    "application/vnd.databricks.v1+cell": {
     "cellMetadata": {},
     "inputWidgets": {},
     "nuid": "a46ec9a4-2422-44b9-8d63-c377f28d30ae",
     "showTitle": false,
     "title": ""
    }
   },
   "outputs": [],
   "source": [
    "# payload.pull_request.base.user\n",
    "pull_request_base_userDF = (\n",
    "    df.select(f\"{paths[9]}.*\")\n",
    "    .select(user_cols)\n",
    "    .filter(col(paths[9]).isNotNull())\n",
    "    .distinct()\n",
    "    .orderBy(\"id\")\n",
    ")"
   ]
  },
  {
   "cell_type": "code",
   "execution_count": 0,
   "metadata": {
    "application/vnd.databricks.v1+cell": {
     "cellMetadata": {},
     "inputWidgets": {},
     "nuid": "6477f91a-4a56-46f5-b10c-eddb1a970388",
     "showTitle": false,
     "title": ""
    }
   },
   "outputs": [],
   "source": [
    "# payload.pull_request.base.repo.owner\n",
    "pull_request_base_repo_ownerDF = (\n",
    "    df.select(f\"{paths[10]}.*\")\n",
    "    .select(user_cols)\n",
    "    .filter(col(paths[10]).isNotNull())\n",
    "    .distinct()\n",
    "    .orderBy(\"id\")\n",
    ")"
   ]
  },
  {
   "cell_type": "code",
   "execution_count": 0,
   "metadata": {
    "application/vnd.databricks.v1+cell": {
     "cellMetadata": {},
     "inputWidgets": {},
     "nuid": "c2ed9015-2814-4a1e-b519-9b7b46c427d0",
     "showTitle": false,
     "title": ""
    }
   },
   "outputs": [],
   "source": [
    "# payload.pull_request.head.user\n",
    "pull_request_head_userDF = (\n",
    "    df.select(f\"{paths[11]}.*\")\n",
    "    .select(user_cols)\n",
    "    .filter(col(paths[11]).isNotNull())\n",
    "    .distinct()\n",
    "    .orderBy(\"id\")\n",
    ")"
   ]
  },
  {
   "cell_type": "code",
   "execution_count": 0,
   "metadata": {
    "application/vnd.databricks.v1+cell": {
     "cellMetadata": {},
     "inputWidgets": {},
     "nuid": "c78ff2cc-b7bb-49a6-8686-7f5cde6e51b8",
     "showTitle": false,
     "title": ""
    }
   },
   "outputs": [],
   "source": [
    "# payload.pull_request.head.repo.owner\n",
    "pull_request_head_repo_ownerDF = (\n",
    "    df.select(f\"{paths[12]}.*\")\n",
    "    .select(user_cols)\n",
    "    .filter(col(paths[12]).isNotNull())\n",
    "    .distinct()\n",
    "    .orderBy(\"id\")\n",
    ")"
   ]
  },
  {
   "cell_type": "code",
   "execution_count": 0,
   "metadata": {
    "application/vnd.databricks.v1+cell": {
     "cellMetadata": {},
     "inputWidgets": {},
     "nuid": "3dee7077-458f-4e99-a322-cfd33a328e97",
     "showTitle": false,
     "title": ""
    }
   },
   "outputs": [],
   "source": [
    "# payload.pull_request.merged_by\n",
    "pull_request_merged_byDF = (\n",
    "    df.select(f\"{paths[13]}.*\")\n",
    "    .select(user_cols)\n",
    "    .filter(col(paths[13]).isNotNull())\n",
    "    .distinct()\n",
    "    .orderBy(\"id\")\n",
    ")"
   ]
  },
  {
   "cell_type": "code",
   "execution_count": 0,
   "metadata": {
    "application/vnd.databricks.v1+cell": {
     "cellMetadata": {},
     "inputWidgets": {},
     "nuid": "1e588902-162e-4b65-8c0a-74b61f27f237",
     "showTitle": false,
     "title": ""
    }
   },
   "outputs": [],
   "source": [
    "# payload.review.user\n",
    "review_userDF = (\n",
    "    df.select(f\"{paths[14]}.*\")\n",
    "    .select(user_cols)\n",
    "    .filter(col(paths[14]).isNotNull())\n",
    "    .distinct()\n",
    "    .orderBy(\"id\")\n",
    ")"
   ]
  },
  {
   "cell_type": "code",
   "execution_count": 0,
   "metadata": {
    "application/vnd.databricks.v1+cell": {
     "cellMetadata": {},
     "inputWidgets": {},
     "nuid": "4bd2c917-1b2c-4727-a3ff-f7ebc3fa519c",
     "showTitle": false,
     "title": ""
    }
   },
   "outputs": [],
   "source": [
    "# payload.release.author\n",
    "release_authorDF = (\n",
    "    df.select(f\"{paths[15]}.*\")\n",
    "    .select(user_cols)\n",
    "    .filter(col(paths[15]).isNotNull())\n",
    "    .distinct()\n",
    "    .orderBy(\"id\")\n",
    ")"
   ]
  },
  {
   "cell_type": "markdown",
   "metadata": {
    "application/vnd.databricks.v1+cell": {
     "cellMetadata": {},
     "inputWidgets": {},
     "nuid": "1c743e8b-4526-4718-aebe-0c14b2e064a2",
     "showTitle": false,
     "title": ""
    }
   },
   "source": [
    "##### User arrays"
   ]
  },
  {
   "cell_type": "code",
   "execution_count": 0,
   "metadata": {
    "application/vnd.databricks.v1+cell": {
     "cellMetadata": {},
     "inputWidgets": {},
     "nuid": "52e97c50-c930-4631-870a-b82c9cedd59d",
     "showTitle": false,
     "title": ""
    }
   },
   "outputs": [],
   "source": [
    "# payload.issue.assignees\n",
    "issue_assigneesDF = (\n",
    "    df.select(explode(paths[16]))\n",
    "    .select(\"col.*\")\n",
    "    .select(user_cols)\n",
    "    .filter(size(col(paths[16])) > 0)\n",
    "    .distinct()\n",
    "    .orderBy(\"id\")\n",
    ")"
   ]
  },
  {
   "cell_type": "code",
   "execution_count": 0,
   "metadata": {
    "application/vnd.databricks.v1+cell": {
     "cellMetadata": {},
     "inputWidgets": {},
     "nuid": "d669a8bb-a194-4fe2-ad8e-92adf10cf788",
     "showTitle": false,
     "title": ""
    }
   },
   "outputs": [],
   "source": [
    "# payload.pull_request.assignees\n",
    "pull_request_assigneesDF = (\n",
    "    df.select(explode(paths[17]))\n",
    "    .select(\"col.*\")\n",
    "    .select(user_cols)\n",
    "    .filter(size(col(paths[17])) > 0)\n",
    "    .distinct()\n",
    "    .orderBy(\"id\")\n",
    ")"
   ]
  },
  {
   "cell_type": "code",
   "execution_count": 0,
   "metadata": {
    "application/vnd.databricks.v1+cell": {
     "cellMetadata": {},
     "inputWidgets": {},
     "nuid": "765bb90e-5067-4e41-a914-200d35e016f8",
     "showTitle": false,
     "title": ""
    }
   },
   "outputs": [],
   "source": [
    "# payload.release.assets[asset.uploader]\n",
    "payload_release_assets_uploaderDF = (\n",
    "    df.select(explode(f\"{paths[18]}.uploader\"))\n",
    "    .select(\"col.*\")\n",
    "    .select(user_cols)\n",
    "    .filter(size(col(paths[18])) > 0)\n",
    "    .distinct()\n",
    "    .orderBy(\"id\")\n",
    ")"
   ]
  },
  {
   "cell_type": "markdown",
   "metadata": {
    "application/vnd.databricks.v1+cell": {
     "cellMetadata": {},
     "inputWidgets": {},
     "nuid": "3e74cce9-bf36-47e4-93fd-30ee9f418691",
     "showTitle": false,
     "title": ""
    }
   },
   "source": [
    "#### Union all DFs"
   ]
  },
  {
   "cell_type": "code",
   "execution_count": 0,
   "metadata": {
    "application/vnd.databricks.v1+cell": {
     "cellMetadata": {},
     "inputWidgets": {},
     "nuid": "2c1c559d-96dc-4c0b-9b3a-841feaac0e7c",
     "showTitle": false,
     "title": ""
    }
   },
   "outputs": [],
   "source": [
    "userDF = comment_userDF.union(forkee_ownerDF).distinct()\n",
    "userDF = userDF.union(issue_milestone_creatorDF).distinct()\n",
    "userDF = userDF.union(issue_assigneeDF).distinct()\n",
    "userDF = userDF.union(memberDF).distinct()\n",
    "userDF = userDF.union(pull_request_userDF).distinct()\n",
    "userDF = userDF.union(pull_request_milestone_creatorDF).distinct()\n",
    "userDF = userDF.union(pull_request_assigneeDF).distinct()\n",
    "userDF = userDF.union(pull_request_auto_merge_enabled_byDF).distinct()\n",
    "userDF = userDF.union(pull_request_base_userDF).distinct()\n",
    "userDF = userDF.union(pull_request_base_repo_ownerDF).distinct()\n",
    "userDF = userDF.union(pull_request_head_userDF).distinct()\n",
    "userDF = userDF.union(pull_request_head_repo_ownerDF).distinct()\n",
    "userDF = userDF.union(pull_request_merged_byDF).distinct()\n",
    "userDF = userDF.union(review_userDF).distinct()\n",
    "userDF = userDF.union(release_authorDF).distinct()\n",
    "userDF = userDF.union(issue_assigneesDF).distinct()\n",
    "userDF = userDF.union(pull_request_assigneesDF).distinct()\n",
    "userDF = userDF.union(payload_release_assets_uploaderDF).distinct()"
   ]
  },
  {
   "cell_type": "code",
   "execution_count": 0,
   "metadata": {
    "application/vnd.databricks.v1+cell": {
     "cellMetadata": {},
     "inputWidgets": {},
     "nuid": "948314e9-0e80-4bd1-9cd0-53234aa4465f",
     "showTitle": false,
     "title": ""
    }
   },
   "outputs": [],
   "source": [
    "# Union with top level DFs missing fields\n",
    "userDF = userDF.union(actorDF)\n",
    "userDF = userDF.union(orgDF).orderBy(\"id\")"
   ]
  },
  {
   "cell_type": "code",
   "execution_count": 0,
   "metadata": {
    "application/vnd.databricks.v1+cell": {
     "cellMetadata": {},
     "inputWidgets": {},
     "nuid": "217c3607-858e-4735-915f-facaa127d0c5",
     "showTitle": false,
     "title": ""
    }
   },
   "outputs": [],
   "source": [
    "# Max hack: group by ID, take max val of fields to remove null values\n",
    "userDF = userDF.groupBy(\"id\").agg(\n",
    "    max(user_cols[1]).alias(user_cols[1]), \n",
    "    max(user_cols[2]).alias(user_cols[2]), \n",
    "    max(user_cols[3]).alias(user_cols[3]), \n",
    "    max(user_cols[4]).alias(user_cols[4]), \n",
    "    max(user_cols[5]).alias(user_cols[5]), \n",
    "    max(user_cols[6]).alias(user_cols[6]), \n",
    "    max(user_cols[7]).alias(user_cols[7]), \n",
    "    max(user_cols[8]).alias(user_cols[8]), \n",
    "    max(user_cols[9]).alias(user_cols[9]), \n",
    "    max(user_cols[10]).alias(user_cols[10]), \n",
    "    max(user_cols[11]).alias(user_cols[11]), \n",
    "    max(user_cols[12]).alias(user_cols[12]), \n",
    "    max(user_cols[13]).alias(user_cols[13]), \n",
    "    max(user_cols[14]).alias(user_cols[14]), \n",
    "    max(user_cols[15]).alias(user_cols[15]), \n",
    "    max(user_cols[16]).alias(user_cols[16]), \n",
    "    max(user_cols[17]).alias(user_cols[17])\n",
    ")"
   ]
  },
  {
   "cell_type": "markdown",
   "metadata": {
    "application/vnd.databricks.v1+cell": {
     "cellMetadata": {},
     "inputWidgets": {},
     "nuid": "a6ea84b2-fd1e-4d34-8aac-b59ff1b2f646",
     "showTitle": false,
     "title": ""
    }
   },
   "source": [
    "#### Write to database"
   ]
  },
  {
   "cell_type": "code",
   "execution_count": 0,
   "metadata": {
    "application/vnd.databricks.v1+cell": {
     "cellMetadata": {},
     "inputWidgets": {},
     "nuid": "0738e1c4-2cf0-44c0-86d5-e891a5cffb39",
     "showTitle": false,
     "title": ""
    }
   },
   "outputs": [],
   "source": [
    "userDF.repartition(15).write.parquet(\"abfss://team1-project2@20230821desa.dfs.core.windows.net/SilverLayer/user\")"
   ]
  }
 ],
 "metadata": {
  "application/vnd.databricks.v1+notebook": {
   "dashboards": [],
   "language": "python",
   "notebookMetadata": {
    "pythonIndentUnit": 4
   },
   "notebookName": "user-table",
   "widgets": {}
  }
 },
 "nbformat": 4,
 "nbformat_minor": 0
}
