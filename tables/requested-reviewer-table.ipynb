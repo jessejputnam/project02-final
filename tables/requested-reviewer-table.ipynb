{
 "cells": [
  {
   "cell_type": "markdown",
   "metadata": {
    "application/vnd.databricks.v1+cell": {
     "cellMetadata": {},
     "inputWidgets": {},
     "nuid": "64756e7d-79ff-4752-87f0-956d8b1ef233",
     "showTitle": false,
     "title": ""
    }
   },
   "source": [
    "#### Creating Requested Reviewer Dataframe"
   ]
  },
  {
   "cell_type": "code",
   "execution_count": 0,
   "metadata": {
    "application/vnd.databricks.v1+cell": {
     "cellMetadata": {},
     "inputWidgets": {},
     "nuid": "5b62f395-d6fa-4af2-9bd0-d24218bd66a1",
     "showTitle": false,
     "title": ""
    }
   },
   "outputs": [],
   "source": [
    "df = (\n",
    "    spark.sql(\"SELECT * FROM data\")\n",
    "    .filter(size(col(\"payload_pull_request.requested_reviewers\")) > 0)\n",
    ")"
   ]
  },
  {
   "cell_type": "code",
   "execution_count": 0,
   "metadata": {
    "application/vnd.databricks.v1+cell": {
     "cellMetadata": {},
     "inputWidgets": {},
     "nuid": "5d9f03f8-6864-4d6e-8090-298362ba5e97",
     "showTitle": false,
     "title": ""
    }
   },
   "outputs": [],
   "source": [
    "requested_reviewerDF = (\n",
    "    df.select(\n",
    "        \"payload_pull_request.id\",\n",
    "        explode(col(\"payload_pull_request.requested_reviewers\")),\n",
    "    )\n",
    "    .select(col(\"id\").alias(\"pull_request_id\"), col(\"col.id\").alias(\"user_id\"))\n",
    "    .distinct()\n",
    ")"
   ]
  },
  {
   "cell_type": "markdown",
   "metadata": {
    "application/vnd.databricks.v1+cell": {
     "cellMetadata": {},
     "inputWidgets": {},
     "nuid": "13011943-c0f6-49e5-b1e1-0bf2ab56d92b",
     "showTitle": false,
     "title": ""
    }
   },
   "source": [
    "#### Write to Database"
   ]
  },
  {
   "cell_type": "code",
   "execution_count": 0,
   "metadata": {
    "application/vnd.databricks.v1+cell": {
     "cellMetadata": {},
     "inputWidgets": {},
     "nuid": "44146179-036a-4852-9b7d-09f26d745bb2",
     "showTitle": false,
     "title": ""
    }
   },
   "outputs": [],
   "source": [
    "requested_reviewerDF.repartition(1).write.parquet(\"abfss://team1-project2@20230821desa.dfs.core.windows.net/SilverLayer/requested-reviewer\")"
   ]
  }
 ],
 "metadata": {
  "application/vnd.databricks.v1+notebook": {
   "dashboards": [],
   "language": "python",
   "notebookMetadata": {
    "pythonIndentUnit": 4
   },
   "notebookName": "requested-reviewer-table",
   "widgets": {}
  }
 },
 "nbformat": 4,
 "nbformat_minor": 0
}
