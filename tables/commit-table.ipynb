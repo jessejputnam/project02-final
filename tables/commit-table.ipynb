{
 "cells": [
  {
   "cell_type": "code",
   "execution_count": 0,
   "metadata": {
    "application/vnd.databricks.v1+cell": {
     "cellMetadata": {},
     "inputWidgets": {},
     "nuid": "dfc37ef5-9744-4ad7-943a-b20ec984c604",
     "showTitle": false,
     "title": ""
    }
   },
   "outputs": [],
   "source": [
    "df = spark.sql(\"SELECT * FROM data WHERE event_type = 'PushEvent'\")"
   ]
  },
  {
   "cell_type": "code",
   "execution_count": 0,
   "metadata": {
    "application/vnd.databricks.v1+cell": {
     "cellMetadata": {},
     "inputWidgets": {},
     "nuid": "6610f218-c2ff-466e-9ed4-b440a9750de6",
     "showTitle": false,
     "title": ""
    }
   },
   "outputs": [],
   "source": [
    "# Transitive dependency with author info left in due to time constraints\n",
    "commit_cols = [\n",
    "    \"sha\", \n",
    "    col(\"author.email\").alias(\"author_email\"), \n",
    "    col(\"author.name\").alias(\"author_name\"), \n",
    "    \"distinct\", \n",
    "    \"message\", \n",
    "    \"url\"\n",
    "]"
   ]
  },
  {
   "cell_type": "code",
   "execution_count": 0,
   "metadata": {
    "application/vnd.databricks.v1+cell": {
     "cellMetadata": {},
     "inputWidgets": {},
     "nuid": "120deb57-a063-4b91-a9e8-17e6daa5d8b5",
     "showTitle": false,
     "title": ""
    }
   },
   "outputs": [],
   "source": [
    "payload_commitDF = (\n",
    "    df.filter(size(col(\"payload_commits\")) > 0)\n",
    "    .select(explode(col(\"payload_commits\")))\n",
    "    .select(\"col.*\")\n",
    "    .select(commit_cols)\n",
    "    .distinct()\n",
    "    .orderBy(\"sha\")\n",
    ")"
   ]
  },
  {
   "cell_type": "markdown",
   "metadata": {
    "application/vnd.databricks.v1+cell": {
     "cellMetadata": {},
     "inputWidgets": {},
     "nuid": "4467a14c-0c33-4ae4-aa09-358f11769885",
     "showTitle": false,
     "title": ""
    }
   },
   "source": [
    "#### Write to database"
   ]
  },
  {
   "cell_type": "code",
   "execution_count": 0,
   "metadata": {
    "application/vnd.databricks.v1+cell": {
     "cellMetadata": {},
     "inputWidgets": {},
     "nuid": "d16adcff-f21a-4791-8c82-85eaf2f725ee",
     "showTitle": false,
     "title": ""
    }
   },
   "outputs": [],
   "source": [
    "payload_commitDF.repartition(90).write.mode(\"overwrite\").parquet(\"abfss://team1-project2@20230821desa.dfs.core.windows.net/SilverLayer/commit\")"
   ]
  }
 ],
 "metadata": {
  "application/vnd.databricks.v1+notebook": {
   "dashboards": [],
   "language": "python",
   "notebookMetadata": {
    "pythonIndentUnit": 4
   },
   "notebookName": "commit-table",
   "widgets": {}
  }
 },
 "nbformat": 4,
 "nbformat_minor": 0
}
