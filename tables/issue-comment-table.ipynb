{
 "cells": [
  {
   "cell_type": "markdown",
   "metadata": {
    "application/vnd.databricks.v1+cell": {
     "cellMetadata": {},
     "inputWidgets": {},
     "nuid": "27cd486c-b908-4566-991e-cb4c0ddb9f7b",
     "showTitle": false,
     "title": ""
    }
   },
   "source": [
    "#### Creating Issue Comment Dataframe"
   ]
  },
  {
   "cell_type": "code",
   "execution_count": 0,
   "metadata": {
    "application/vnd.databricks.v1+cell": {
     "cellMetadata": {},
     "inputWidgets": {},
     "nuid": "1048f56b-c2a6-44e2-9cb9-f56fdfa18b69",
     "showTitle": false,
     "title": ""
    }
   },
   "outputs": [],
   "source": [
    "df = (\n",
    "    spark.sql(\"SELECT * FROM data\")\n",
    "    .filter(\"event_type == 'IssueCommentEvent'\")\n",
    "    .select(\"payload_comment.*\")\n",
    ")"
   ]
  },
  {
   "cell_type": "code",
   "execution_count": 0,
   "metadata": {
    "application/vnd.databricks.v1+cell": {
     "cellMetadata": {},
     "inputWidgets": {},
     "nuid": "4469b84e-3124-4038-b79e-7c48ec88f2f9",
     "showTitle": false,
     "title": ""
    }
   },
   "outputs": [],
   "source": [
    "cols = [\n",
    "    col(\"id\").cast(LongType()),\n",
    "    \"author_association\",\n",
    "    \"body\",\n",
    "    col(\"created_at\").cast(TimestampType()),\n",
    "    \"html_url\",\n",
    "    \"issue_url\",\n",
    "    \"node_id\",\n",
    "    lit(None).cast(LongType()).alias(\"reactions_id\"),\n",
    "    col(\"updated_at\").cast(TimestampType()),\n",
    "    \"url\",\n",
    "    col(\"user.id\").cast(LongType()).alias(\"user_id\"),\n",
    "]"
   ]
  },
  {
   "cell_type": "code",
   "execution_count": 0,
   "metadata": {
    "application/vnd.databricks.v1+cell": {
     "cellMetadata": {},
     "inputWidgets": {},
     "nuid": "43308e70-c9fd-44e1-908f-694370b7c009",
     "showTitle": false,
     "title": ""
    }
   },
   "outputs": [],
   "source": [
    "issue_commentDF = df.select(cols).distinct().orderBy(\"id\")"
   ]
  },
  {
   "cell_type": "markdown",
   "metadata": {
    "application/vnd.databricks.v1+cell": {
     "cellMetadata": {},
     "inputWidgets": {},
     "nuid": "d1010e55-696b-49fd-8ed2-53b8b440c393",
     "showTitle": false,
     "title": ""
    }
   },
   "source": [
    "#### Write to database"
   ]
  },
  {
   "cell_type": "code",
   "execution_count": 0,
   "metadata": {
    "application/vnd.databricks.v1+cell": {
     "cellMetadata": {},
     "inputWidgets": {},
     "nuid": "1ec54262-c0f4-47c5-be1b-17757ac78ce8",
     "showTitle": false,
     "title": ""
    }
   },
   "outputs": [],
   "source": [
    "issue_commentDF.repartition(26).write.mode(\"overwrite\").parquet(\"abfss://team1-project2@20230821desa.dfs.core.windows.net/SilverLayer/issue-comment\")"
   ]
  }
 ],
 "metadata": {
  "application/vnd.databricks.v1+notebook": {
   "dashboards": [],
   "language": "python",
   "notebookMetadata": {
    "pythonIndentUnit": 4
   },
   "notebookName": "issue-comment-table",
   "widgets": {}
  }
 },
 "nbformat": 4,
 "nbformat_minor": 0
}
