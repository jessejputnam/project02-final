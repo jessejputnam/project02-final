{
 "cells": [
  {
   "cell_type": "markdown",
   "metadata": {
    "application/vnd.databricks.v1+cell": {
     "cellMetadata": {},
     "inputWidgets": {},
     "nuid": "06d89883-071d-4eba-a691-24f3accd7f20",
     "showTitle": false,
     "title": ""
    }
   },
   "source": [
    "#### Creating Commit Comment Dataframe"
   ]
  },
  {
   "cell_type": "code",
   "execution_count": 0,
   "metadata": {
    "application/vnd.databricks.v1+cell": {
     "cellMetadata": {},
     "inputWidgets": {},
     "nuid": "e89cbb5e-ff04-4d38-8dce-f91baedb0957",
     "showTitle": false,
     "title": ""
    }
   },
   "outputs": [],
   "source": [
    "df = (\n",
    "    spark.sql(\"SELECT * FROM data\")\n",
    "    .filter(col(\"event_type\") == \"CommitCommentEvent\")\n",
    "    .select(\"payload_comment.*\")\n",
    ")"
   ]
  },
  {
   "cell_type": "code",
   "execution_count": 0,
   "metadata": {
    "application/vnd.databricks.v1+cell": {
     "cellMetadata": {},
     "inputWidgets": {},
     "nuid": "3bfcb9c9-4510-4afa-a723-f1ac46b47c3c",
     "showTitle": false,
     "title": ""
    }
   },
   "outputs": [],
   "source": [
    "cols = [\n",
    "    \"id\",\n",
    "    \"author_association\",\n",
    "    \"body\",\n",
    "    \"commit_id\",\n",
    "    col(\"created_at\").cast(TimestampType()),\n",
    "    \"html_url\",\n",
    "    \"line\",\n",
    "    \"node_id\",\n",
    "    \"path\",\n",
    "    \"position\",\n",
    "    lit(None).cast(LongType()).alias(\"reactions_id\"),\n",
    "    col(\"updated_at\").cast(TimestampType()),\n",
    "    \"url\",\n",
    "    col(\"user.id\").alias(\"user_id\"),\n",
    "]"
   ]
  },
  {
   "cell_type": "code",
   "execution_count": 0,
   "metadata": {
    "application/vnd.databricks.v1+cell": {
     "cellMetadata": {},
     "inputWidgets": {},
     "nuid": "c8e31830-a3ff-4ed9-a7c7-0c1befd6d44d",
     "showTitle": false,
     "title": ""
    }
   },
   "outputs": [],
   "source": [
    "commit_commentDF = df.select(cols).distinct().orderBy(\"id\")"
   ]
  },
  {
   "cell_type": "markdown",
   "metadata": {
    "application/vnd.databricks.v1+cell": {
     "cellMetadata": {},
     "inputWidgets": {},
     "nuid": "b7f62a37-28d3-477b-a28f-728cd8f7a554",
     "showTitle": false,
     "title": ""
    }
   },
   "source": [
    "#### Write to database"
   ]
  },
  {
   "cell_type": "code",
   "execution_count": 0,
   "metadata": {
    "application/vnd.databricks.v1+cell": {
     "cellMetadata": {},
     "inputWidgets": {},
     "nuid": "6c4692fc-acfe-40a9-93ba-40c437708212",
     "showTitle": false,
     "title": ""
    }
   },
   "outputs": [],
   "source": [
    "commit_commentDF.repartition(2).write.mode(\"overwrite\").parquet(\"abfss://team1-project2@20230821desa.dfs.core.windows.net/SilverLayer/commit-comment\")"
   ]
  }
 ],
 "metadata": {
  "application/vnd.databricks.v1+notebook": {
   "dashboards": [],
   "language": "python",
   "notebookMetadata": {
    "pythonIndentUnit": 4
   },
   "notebookName": "commit-comment-table",
   "widgets": {}
  }
 },
 "nbformat": 4,
 "nbformat_minor": 0
}
