{
 "cells": [
  {
   "cell_type": "markdown",
   "metadata": {
    "application/vnd.databricks.v1+cell": {
     "cellMetadata": {},
     "inputWidgets": {},
     "nuid": "ac0a6395-8028-4b39-b490-a7a1a2a2da22",
     "showTitle": false,
     "title": ""
    }
   },
   "source": [
    "#### Creating Topic & Repo Topic Junction Dataframes"
   ]
  },
  {
   "cell_type": "code",
   "execution_count": 0,
   "metadata": {
    "application/vnd.databricks.v1+cell": {
     "cellMetadata": {},
     "inputWidgets": {},
     "nuid": "1a1a224b-c0ad-48e6-a1ca-e3d64f930115",
     "showTitle": false,
     "title": ""
    }
   },
   "outputs": [],
   "source": [
    "df = (\n",
    "    spark.sql(\"SELECT * FROM data\").filter(\n",
    "        (col(\"event_type\") == \"ForkEvent\") \n",
    "        | (col(\"event_type\") == \"PullRequestEvent\")\n",
    "    )\n",
    ")"
   ]
  },
  {
   "cell_type": "code",
   "execution_count": 0,
   "metadata": {
    "application/vnd.databricks.v1+cell": {
     "cellMetadata": {},
     "inputWidgets": {},
     "nuid": "d1876b99-acb0-4b30-9e35-bde6a2630362",
     "showTitle": false,
     "title": ""
    }
   },
   "outputs": [],
   "source": [
    "paths = [\n",
    "    \"payload_forkee\",\n",
    "    \"payload_pull_request.base.repo\",\n",
    "    \"payload_pull_request.head.repo\",\n",
    "]"
   ]
  },
  {
   "cell_type": "code",
   "execution_count": 0,
   "metadata": {
    "application/vnd.databricks.v1+cell": {
     "cellMetadata": {},
     "inputWidgets": {},
     "nuid": "251e5f5c-c121-4b6e-ab9c-130775c01af8",
     "showTitle": false,
     "title": ""
    }
   },
   "outputs": [],
   "source": [
    "head_topics = (\n",
    "    df.filter(size(col(f\"{paths[2]}.topics\")) > 0)\n",
    "    .select(explode(col(f\"{paths[2]}.topics\")))\n",
    "    .distinct()\n",
    ")\n",
    "base_topics = (\n",
    "    df.filter(size(col(f\"{paths[1]}.topics\")) > 0)\n",
    "    .select(explode(col(f\"{paths[1]}.topics\")))\n",
    "    .distinct()\n",
    ")\n",
    "forkee_topics = (\n",
    "    df.filter(size(col(f\"{paths[0]}.topics\")) > 0)\n",
    "    .select(explode(col(f\"{paths[0]}.topics\")))\n",
    "    .distinct()\n",
    ")\n",
    "topics = head_topics.union(base_topics)\n",
    "topics = topics.union(forkee_topics).distinct().orderBy(\"col\")"
   ]
  },
  {
   "cell_type": "code",
   "execution_count": 0,
   "metadata": {
    "application/vnd.databricks.v1+cell": {
     "cellMetadata": {},
     "inputWidgets": {},
     "nuid": "04f4f3d7-0e43-4614-b890-99862a7572b7",
     "showTitle": false,
     "title": ""
    }
   },
   "outputs": [],
   "source": [
    "topicDF = topics.select(\n",
    "    monotonically_increasing_id().alias(\"id\"), \n",
    "    col(\"col\").alias(\"keyword\")\n",
    ")"
   ]
  },
  {
   "cell_type": "code",
   "execution_count": 0,
   "metadata": {
    "application/vnd.databricks.v1+cell": {
     "cellMetadata": {},
     "inputWidgets": {},
     "nuid": "6117ab1b-9510-4d88-abe6-b68dab4737f8",
     "showTitle": false,
     "title": ""
    }
   },
   "outputs": [],
   "source": [
    "jxn_1 = (\n",
    "    df.filter(size(col(f\"{paths[0]}.topics\")) > 0).select(\n",
    "        col(f\"{paths[0]}.id\").alias(\"repo_id\"), \n",
    "        explode(col(f\"{paths[0]}.topics\"))\n",
    "    )\n",
    ")\n",
    "\n",
    "jxn_2 = (\n",
    "    df.filter(size(col(f\"{paths[1]}.topics\")) > 0)\n",
    "    .select(\n",
    "        col(f\"{paths[1]}.id\").alias(\"repo_id\"), \n",
    "        explode(col(f\"{paths[1]}.topics\"))\n",
    "    )\n",
    ")\n",
    "\n",
    "jxn_3 = (\n",
    "    df.filter(size(col(f\"{paths[2]}.topics\")) > 0)\n",
    "    .select(\n",
    "        col(f\"{paths[2]}.id\").alias(\"repo_id\"), \n",
    "        explode(col(f\"{paths[2]}.topics\"))\n",
    "    )\n",
    ")\n",
    "\n",
    "repo_topic_jxn = jxn_1.union(jxn_2)\n",
    "repo_topic_jxn = repo_topic_jxn.union(jxn_3).distinct()\n",
    "\n",
    "# Join tables to replace topic keyword with id\n",
    "repo_topic_jxnDF = (\n",
    "    repo_topic_jxn.join(topicDF, topicDF.keyword == repo_topic_jxn.col)\n",
    "    .select(col(\"repo_id\"), col(\"id\").alias(\"topic_id\"))\n",
    "    .orderBy(\"topic_id\")\n",
    ")"
   ]
  },
  {
   "cell_type": "markdown",
   "metadata": {
    "application/vnd.databricks.v1+cell": {
     "cellMetadata": {},
     "inputWidgets": {},
     "nuid": "ff2b1b3b-70b0-4cc2-8ecb-4aa7f254d6ef",
     "showTitle": false,
     "title": ""
    }
   },
   "source": [
    "#### Writing Both to Database"
   ]
  },
  {
   "cell_type": "code",
   "execution_count": 0,
   "metadata": {
    "application/vnd.databricks.v1+cell": {
     "cellMetadata": {},
     "inputWidgets": {},
     "nuid": "d7d5d660-632b-417a-8923-22f8f56b989f",
     "showTitle": false,
     "title": ""
    }
   },
   "outputs": [],
   "source": [
    "topicDF.repartition(1).write.parquet(\"abfss://team1-project2@20230821desa.dfs.core.windows.net/SilverLayer/topic\")"
   ]
  },
  {
   "cell_type": "code",
   "execution_count": 0,
   "metadata": {
    "application/vnd.databricks.v1+cell": {
     "cellMetadata": {},
     "inputWidgets": {},
     "nuid": "a97553e3-9146-4763-9814-20fa62f29ece",
     "showTitle": false,
     "title": ""
    }
   },
   "outputs": [],
   "source": [
    "repo_topic_jxnDF.repartition(1).write.parquet(\"abfss://team1-project2@20230821desa.dfs.core.windows.net/SilverLayer/repo-topic\")"
   ]
  }
 ],
 "metadata": {
  "application/vnd.databricks.v1+notebook": {
   "dashboards": [],
   "language": "python",
   "notebookMetadata": {
    "pythonIndentUnit": 4
   },
   "notebookName": "topic-table",
   "widgets": {}
  }
 },
 "nbformat": 4,
 "nbformat_minor": 0
}
