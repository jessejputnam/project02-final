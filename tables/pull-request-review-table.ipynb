{
 "cells": [
  {
   "cell_type": "markdown",
   "metadata": {
    "application/vnd.databricks.v1+cell": {
     "cellMetadata": {},
     "inputWidgets": {},
     "nuid": "f673eab2-2353-4344-9d70-a439107cf8fd",
     "showTitle": false,
     "title": ""
    }
   },
   "source": [
    "#### Creating Pull Request Review Dataframe"
   ]
  },
  {
   "cell_type": "code",
   "execution_count": 0,
   "metadata": {
    "application/vnd.databricks.v1+cell": {
     "cellMetadata": {},
     "inputWidgets": {},
     "nuid": "e11f4d7f-08e4-4fda-95bf-8c5401df48c9",
     "showTitle": false,
     "title": ""
    }
   },
   "outputs": [],
   "source": [
    "df = (\n",
    "    spark.sql(\"SELECT * FROM data\")\n",
    "    .filter(col(\"payload_review\").isNotNull())\n",
    ")"
   ]
  },
  {
   "cell_type": "code",
   "execution_count": 0,
   "metadata": {
    "application/vnd.databricks.v1+cell": {
     "cellMetadata": {},
     "inputWidgets": {},
     "nuid": "37eafe8b-5b7c-4c49-83bc-8fee124e337d",
     "showTitle": false,
     "title": ""
    }
   },
   "outputs": [],
   "source": [
    "cols = [\n",
    "    \"payload_review.id\",\n",
    "    \"payload_review.author_association\",\n",
    "    \"payload_review.body\",\n",
    "    \"payload_review.commit_id\",\n",
    "    \"payload_review.html_url\",\n",
    "    \"payload_review.node_id\",\n",
    "    \"payload_review.pull_request_url\",\n",
    "    \"payload_review.state\",\n",
    "    col(\"payload_review.submitted_at\").cast(TimestampType()),\n",
    "    col(\"payload_review.user.id\").alias(\"user_id\"),\n",
    "]"
   ]
  },
  {
   "cell_type": "code",
   "execution_count": 0,
   "metadata": {
    "application/vnd.databricks.v1+cell": {
     "cellMetadata": {},
     "inputWidgets": {},
     "nuid": "181da1e4-b5bd-4bfb-88a4-3ead12259ace",
     "showTitle": false,
     "title": ""
    }
   },
   "outputs": [],
   "source": [
    "pull_request_reviewDF = df.select(cols).distinct().orderBy(\"id\")"
   ]
  },
  {
   "cell_type": "markdown",
   "metadata": {
    "application/vnd.databricks.v1+cell": {
     "cellMetadata": {},
     "inputWidgets": {},
     "nuid": "93423918-d0da-47a4-a167-7f981e2dc5a6",
     "showTitle": false,
     "title": ""
    }
   },
   "source": [
    "#### Write to database"
   ]
  },
  {
   "cell_type": "code",
   "execution_count": 0,
   "metadata": {
    "application/vnd.databricks.v1+cell": {
     "cellMetadata": {},
     "inputWidgets": {},
     "nuid": "34089d19-2903-49a8-9f3d-966beee8cc40",
     "showTitle": false,
     "title": ""
    }
   },
   "outputs": [],
   "source": [
    "pull_request_reviewDF.repartition(3).write.parquet(\"abfss://team1-project2@20230821desa.dfs.core.windows.net/SilverLayer/pull-request-review\")"
   ]
  }
 ],
 "metadata": {
  "application/vnd.databricks.v1+notebook": {
   "dashboards": [],
   "language": "python",
   "notebookMetadata": {
    "pythonIndentUnit": 4
   },
   "notebookName": "pull-request-review-table",
   "widgets": {}
  }
 },
 "nbformat": 4,
 "nbformat_minor": 0
}
