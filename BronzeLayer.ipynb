{
 "cells": [
  {
   "cell_type": "code",
   "execution_count": 0,
   "metadata": {
    "application/vnd.databricks.v1+cell": {
     "cellMetadata": {},
     "inputWidgets": {},
     "nuid": "339805a0-4049-46fe-833a-4a9108169a57",
     "showTitle": false,
     "title": ""
    }
   },
   "outputs": [],
   "source": [
    "# naming file path\n",
    "raw_data_path = \"dbfs:/FileStore/tables/GHarchive\""
   ]
  },
  {
   "cell_type": "code",
   "execution_count": 0,
   "metadata": {
    "application/vnd.databricks.v1+cell": {
     "cellMetadata": {},
     "inputWidgets": {},
     "nuid": "97791c2b-6c1c-44ea-89c3-c9a2934d7834",
     "showTitle": false,
     "title": ""
    }
   },
   "outputs": [],
   "source": [
    "#reading file path and creating dataframe\n",
    "df = spark.read.format(\"json\").load(raw_data_path)"
   ]
  },
  {
   "cell_type": "code",
   "execution_count": 0,
   "metadata": {
    "application/vnd.databricks.v1+cell": {
     "cellMetadata": {},
     "inputWidgets": {},
     "nuid": "825e9f96-dbcd-4fea-b755-33cffa865141",
     "showTitle": false,
     "title": ""
    }
   },
   "outputs": [],
   "source": [
    "from pyspark.sql.functions import col\n",
    "\n",
    "# Explode out all top level nested columns\n",
    "exploded_column_df = df.select(col(\"actor.*\"), col(\"created_at\"), col(\"id\"), col(\"org.*\"), col(\"payload.*\"), col(\"public\"), col(\"repo.*\"), col(\"type\"))\n",
    "\n",
    "# Rename exploded columns to properly identify column origins\n",
    "exploded_column_renamed_df = exploded_column_df.toDF(\"actor_avatar_url\", \"actor_display_login\", \"actor_gravatar_id\", \"actor_id\", \"actor_login\", \"actor_url\", \"event_created_at\", \"event_id\", \"org_avatar_url\", \"org_gravatar_id\", \"org_id\", \"org_login\", \"org_url\", \"payload_action\", \"payload_before\",\"payload_comment\",\"payload_commits\",\"payload_description\",\"payload_distinct_size\", \"payload_forkee\", \"payload_head\",\"payload_issue\", \"payload_master_branch\",\"payload_member\", \"payload_number\", \"payload_pages\", \"payload_pull_request\", \"payload_push_id\",\"payload_pusher_type\", \"payload_ref\", \"payload_ref_type\", \"payload_release\", \"payload_review\", \"payload_size\", \"event_public\", \"repo_id\", \"repo_name\", \"repo_url\", \"event_type\")"
   ]
  },
  {
   "cell_type": "code",
   "execution_count": 0,
   "metadata": {
    "application/vnd.databricks.v1+cell": {
     "cellMetadata": {},
     "inputWidgets": {},
     "nuid": "d1fb4b59-4bd6-4e8b-a1ff-b7a555068128",
     "showTitle": false,
     "title": ""
    }
   },
   "outputs": [],
   "source": [
    "from pyspark.sql.functions import to_date\n",
    "\n",
    "# Add date simplified date column for partitioning by day\n",
    "bronze_layer_df = exploded_column_renamed_df.withColumn(\"partition_date\", to_date(col(\"event_created_at\")))"
   ]
  },
  {
   "cell_type": "code",
   "execution_count": 0,
   "metadata": {
    "application/vnd.databricks.v1+cell": {
     "cellMetadata": {},
     "inputWidgets": {},
     "nuid": "86b58b6f-8791-431f-9399-0bbab583bd03",
     "showTitle": false,
     "title": ""
    }
   },
   "outputs": [],
   "source": [
    "display(bronze_layer_df)"
   ]
  },
  {
   "cell_type": "code",
   "execution_count": 0,
   "metadata": {
    "application/vnd.databricks.v1+cell": {
     "cellMetadata": {},
     "inputWidgets": {},
     "nuid": "f0060289-a503-46ab-8648-9513bfd1a39a",
     "showTitle": false,
     "title": ""
    }
   },
   "outputs": [],
   "source": [
    "contname = 'team1-project2' #azure storage account container\n",
    "storage_acct_name = '20230821desa'"
   ]
  },
  {
   "cell_type": "code",
   "execution_count": 0,
   "metadata": {
    "application/vnd.databricks.v1+cell": {
     "cellMetadata": {},
     "inputWidgets": {},
     "nuid": "8384b24a-3518-43ab-8485-a1dac0177848",
     "showTitle": false,
     "title": ""
    }
   },
   "outputs": [],
   "source": [
    "# Partition by day\n",
    "bronze_layer_df.repartition(15).write.partitionBy(\"partition_date\").parquet(f\"abfss://{contname}@{storage_acct_name}.dfs.core.windows.net/BronzeLayer\")"
   ]
  }
 ],
 "metadata": {
  "application/vnd.databricks.v1+notebook": {
   "dashboards": [],
   "language": "python",
   "notebookMetadata": {
    "pythonIndentUnit": 4
   },
   "notebookName": "BronzeLayer",
   "widgets": {}
  }
 },
 "nbformat": 4,
 "nbformat_minor": 0
}
