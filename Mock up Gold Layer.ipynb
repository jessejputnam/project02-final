{
 "cells": [
  {
   "cell_type": "code",
   "execution_count": null,
   "metadata": {
    "application/vnd.databricks.v1+cell": {
     "cellMetadata": {
      "byteLimit": 2048000,
      "rowLimit": 10000
     },
     "inputWidgets": {},
     "nuid": "90ebde57-3188-435e-a554-5ac76512b913",
     "showTitle": false,
     "title": ""
    }
   },
   "outputs": [],
   "source": [
    "from pyspark.sql import functions\n",
    "from pyspark.sql import SparkSession\n",
    "from pyspark.sql.functions import *\n",
    "from pyspark.sql.types import *"
   ]
  },
  {
   "cell_type": "code",
   "execution_count": null,
   "metadata": {
    "application/vnd.databricks.v1+cell": {
     "cellMetadata": {
      "byteLimit": 2048000,
      "rowLimit": 10000
     },
     "inputWidgets": {},
     "nuid": "df091b7d-e794-456f-b26b-3d82da6e4ee5",
     "showTitle": false,
     "title": ""
    }
   },
   "outputs": [],
   "source": [
    "silver_layer_path = \"abfss://team1-project2@20230821desa.dfs.core.windows.net/SilverLayer\""
   ]
  },
  {
   "cell_type": "markdown",
   "metadata": {
    "application/vnd.databricks.v1+cell": {
     "cellMetadata": {},
     "inputWidgets": {},
     "nuid": "defc3561-7ec1-427f-8953-720ce276738c",
     "showTitle": false,
     "title": ""
    }
   },
   "source": [
    "#### Number of opened issues in January 2015"
   ]
  },
  {
   "cell_type": "code",
   "execution_count": null,
   "metadata": {
    "application/vnd.databricks.v1+cell": {
     "cellMetadata": {
      "byteLimit": 2048000,
      "rowLimit": 10000
     },
     "inputWidgets": {},
     "nuid": "a4ba2abf-6372-4147-a57b-0bbce4485b0f",
     "showTitle": false,
     "title": ""
    }
   },
   "outputs": [],
   "source": [
    "issueDF = spark.read.parquet(f\"{silver_layer_path}/issue\").limit(500)"
   ]
  },
  {
   "cell_type": "code",
   "execution_count": null,
   "metadata": {
    "application/vnd.databricks.v1+cell": {
     "cellMetadata": {
      "byteLimit": 2048000,
      "rowLimit": 10000
     },
     "inputWidgets": {},
     "nuid": "4534ecb4-53fe-4d5e-8c91-7ac79dd85731",
     "showTitle": false,
     "title": ""
    }
   },
   "outputs": [],
   "source": [
    "issueDF1 = issueDF.select(\"created_at\", \"state\").withColumn(\"Open Issue Count\", col(\"state\") == \"open\").count()"
   ]
  },
  {
   "cell_type": "markdown",
   "metadata": {
    "application/vnd.databricks.v1+cell": {
     "cellMetadata": {},
     "inputWidgets": {},
     "nuid": "e500190c-ddc8-4faf-bcbd-d6529cf1b3d9",
     "showTitle": false,
     "title": ""
    }
   },
   "source": [
    "## Count of closed and open issues by date created utilizing notebook visualizations "
   ]
  },
  {
   "cell_type": "code",
   "execution_count": null,
   "metadata": {
    "application/vnd.databricks.v1+cell": {
     "cellMetadata": {
      "byteLimit": 2048000,
      "rowLimit": 10000
     },
     "inputWidgets": {},
     "nuid": "7cd8398e-18b9-49b0-80e5-9abddf5582f7",
     "showTitle": false,
     "title": ""
    }
   },
   "outputs": [],
   "source": [
    "display(issueDF)"
   ]
  },
  {
   "cell_type": "markdown",
   "metadata": {
    "application/vnd.databricks.v1+cell": {
     "cellMetadata": {},
     "inputWidgets": {},
     "nuid": "111642df-1991-4a7e-aa5b-799bd3bcd957",
     "showTitle": false,
     "title": ""
    }
   },
   "source": [
    "#### Closer look at the bar graph displayed within the Issue Dataframe"
   ]
  },
  {
   "cell_type": "markdown",
   "metadata": {
    "application/vnd.databricks.v1+cell": {
     "cellMetadata": {},
     "inputWidgets": {},
     "nuid": "89669d26-74bd-4375-ba96-e678e4670ab0",
     "showTitle": false,
     "title": ""
    }
   },
   "source": [
    "\n",
    "![newplot](imgs/closed_open_issues.png)"
   ]
  },
  {
   "cell_type": "markdown",
   "metadata": {
    "application/vnd.databricks.v1+cell": {
     "cellMetadata": {},
     "inputWidgets": {},
     "nuid": "e3f6fa1b-78b9-48e8-9e34-6ad7d7d03cc3",
     "showTitle": false,
     "title": ""
    }
   },
   "source": [
    "## PushEvent data - determining whether the commit is on the main branch or not.\n",
    "note: the following code can be condensed into fewer steps when doing analysis in production use. You can use split() and do the boolean logic in the same line, but for testing and explanation purposes, we have it separated."
   ]
  },
  {
   "cell_type": "code",
   "execution_count": null,
   "metadata": {
    "application/vnd.databricks.v1+cell": {
     "cellMetadata": {
      "byteLimit": 2048000,
      "rowLimit": 10000
     },
     "inputWidgets": {},
     "nuid": "5d97cd63-0f39-4c7e-88ed-613281629520",
     "showTitle": false,
     "title": ""
    }
   },
   "outputs": [],
   "source": [
    "pushEventDF = spark.read.parquet(f\"{silver_layer_path}/push-event\").limit(100)"
   ]
  },
  {
   "cell_type": "code",
   "execution_count": null,
   "metadata": {
    "application/vnd.databricks.v1+cell": {
     "cellMetadata": {
      "byteLimit": 2048000,
      "rowLimit": 10000
     },
     "inputWidgets": {},
     "nuid": "3bc12aa9-53bb-4596-882c-31e4eae0f549",
     "showTitle": false,
     "title": ""
    }
   },
   "outputs": [],
   "source": [
    "# First, we create a new column that creates an array delimited by \"/\"\n",
    "pushEventDF = pushEventDF.withColumn(\"ref_split\", split(col(\"ref\"), \"/\"))"
   ]
  },
  {
   "cell_type": "code",
   "execution_count": null,
   "metadata": {
    "application/vnd.databricks.v1+cell": {
     "cellMetadata": {
      "byteLimit": 2048000,
      "rowLimit": 10000
     },
     "inputWidgets": {},
     "nuid": "d6ff11bc-a09a-41a6-99db-802548f7db7a",
     "showTitle": false,
     "title": ""
    }
   },
   "outputs": [],
   "source": [
    "# Next, we create a column that that will hold a true or false value, to see if the third element in the array is called main or master\n",
    "pushEventDF = pushEventDF.withColumn(\"main\", (col(\"ref_split\")[2] == \"main\") | (col(\"ref_split\")[2] == \"master\"))"
   ]
  },
  {
   "cell_type": "code",
   "execution_count": null,
   "metadata": {
    "application/vnd.databricks.v1+cell": {
     "cellMetadata": {
      "byteLimit": 2048000,
      "rowLimit": 10000
     },
     "inputWidgets": {},
     "nuid": "c3108505-b9a1-43bc-a558-9fb30104e3b4",
     "showTitle": false,
     "title": ""
    }
   },
   "outputs": [],
   "source": [
    "# We can drop the \"ref_split\" column now since we won't need it\n",
    "pushEventDF = pushEventDF.drop(\"ref_split\")"
   ]
  },
  {
   "cell_type": "code",
   "execution_count": null,
   "metadata": {
    "application/vnd.databricks.v1+cell": {
     "cellMetadata": {
      "byteLimit": 2048000,
      "rowLimit": 10000
     },
     "inputWidgets": {},
     "nuid": "18996561-cd38-4376-ac10-05d077ad3327",
     "showTitle": false,
     "title": ""
    }
   },
   "outputs": [],
   "source": [
    "# See the last column called \"main\" to look at the new column that we created\n",
    "display(pushEventDF)"
   ]
  },
  {
   "cell_type": "markdown",
   "metadata": {
    "application/vnd.databricks.v1+cell": {
     "cellMetadata": {},
     "inputWidgets": {},
     "nuid": "387b5704-25d2-4666-8466-f8b615b51ed1",
     "showTitle": false,
     "title": ""
    }
   },
   "source": [
    "Here is a pie chart to show the percentage of events that were on the main branch"
   ]
  },
  {
   "cell_type": "code",
   "execution_count": null,
   "metadata": {
    "application/vnd.databricks.v1+cell": {
     "cellMetadata": {
      "byteLimit": 2048000,
      "rowLimit": 10000
     },
     "inputWidgets": {},
     "nuid": "446520df-b060-485e-9861-ee2ddc012049",
     "showTitle": false,
     "title": ""
    }
   },
   "outputs": [
    {
     "data": {
      "image/png": "[encoded data removed]",
      "text/plain": [
       "<Figure size 600x600 with 1 Axes>"
      ]
     },
     "metadata": {},
     "output_type": "display_data"
    }
   ],
   "source": [
    "import matplotlib.pyplot as plt\n",
    "\n",
    "true_count = df.filter(df[\"main\"] == True).count()\n",
    "false_count = df.filter(df[\"main\"] == False).count()\n",
    "\n",
    "# Create a list of counts\n",
    "counts = [true_count, false_count]\n",
    "\n",
    "# Create labels for the pie chart\n",
    "labels = ['True', 'False']\n",
    "\n",
    "# Create a pie chart\n",
    "plt.figure(figsize=(6, 6))\n",
    "plt.pie(counts, labels=labels, autopct='%1.1f%%', startangle=140)\n",
    "plt.title('Breakdown of \"main\" Column Values')\n",
    "plt.axis('equal') \n",
    "\n",
    "plt.show()"
   ]
  },
  {
   "cell_type": "markdown",
   "metadata": {
    "application/vnd.databricks.v1+cell": {
     "cellMetadata": {
      "byteLimit": 2048000,
      "rowLimit": 10000
     },
     "inputWidgets": {},
     "nuid": "beed3878-9fca-4c27-8524-e4f664a09f57",
     "showTitle": false,
     "title": ""
    }
   },
   "source": [
    "## Data aggregated by type of GitHub event per hour"
   ]
  },
  {
   "cell_type": "markdown",
   "metadata": {
    "application/vnd.databricks.v1+cell": {
     "cellMetadata": {
      "byteLimit": 2048000,
      "rowLimit": 10000
     },
     "inputWidgets": {},
     "nuid": "f3297de2-3c20-411c-b6c0-6c28819dedad",
     "showTitle": false,
     "title": ""
    }
   },
   "source": [
    "##### File Paths"
   ]
  },
  {
   "cell_type": "code",
   "execution_count": null,
   "metadata": {
    "application/vnd.databricks.v1+cell": {
     "cellMetadata": {
      "byteLimit": 2048000,
      "rowLimit": 10000
     },
     "inputWidgets": {},
     "nuid": "3bb3730f-e779-4339-83a3-4b43dd1c24cf",
     "showTitle": false,
     "title": ""
    }
   },
   "outputs": [],
   "source": [
    "commit_comment_event_path = f\"{silver_layer_path}/commit-comment-event\"\n",
    "create_event_path = f\"{silver_layer_path}/create-event\"\n",
    "delete_event_path = f\"{silver_layer_path}/delete-event\"\n",
    "fork_event_path = f\"{silver_layer_path}/fork-event\"\n",
    "gollum_event_path = f\"{silver_layer_path}/gollum-event\"\n",
    "issue_event_path = f\"{silver_layer_path}/issue-event\"\n",
    "issue_comment_event_path = f\"{silver_layer_path}/issue-comment-event\"\n",
    "member_event_path = f\"{silver_layer_path}/member-event\"\n",
    "public_event_path = f\"{silver_layer_path}/public-event\"\n",
    "pull_request_event_path = f\"{silver_layer_path}/pull-request-event\"\n",
    "pull_request_review_comment_event_path = f\"{silver_layer_path}/pull-request-review-comment-event\"\n",
    "pull_request_review_event_path = f\"{silver_layer_path}/pull-request-review-event\"\n",
    "push_event_path = f\"{silver_layer_path}/push-event\"\n",
    "release_event_path = f\"{silver_layer_path}/release-event\"\n",
    "watch_event_path = f\"{silver_layer_path}/watch-event\""
   ]
  },
  {
   "cell_type": "markdown",
   "metadata": {
    "application/vnd.databricks.v1+cell": {
     "cellMetadata": {},
     "inputWidgets": {},
     "nuid": "09241c1e-8c20-4faa-9f14-fa553610762a",
     "showTitle": false,
     "title": ""
    }
   },
   "source": [
    "##### Read in events as DataFrames"
   ]
  },
  {
   "cell_type": "code",
   "execution_count": null,
   "metadata": {
    "application/vnd.databricks.v1+cell": {
     "cellMetadata": {
      "byteLimit": 2048000,
      "rowLimit": 10000
     },
     "inputWidgets": {},
     "nuid": "ee8a68f8-f502-4b7c-9406-1595b9db47ce",
     "showTitle": false,
     "title": ""
    },
    "jupyter": {
     "outputs_hidden": true
    }
   },
   "outputs": [],
   "source": [
    "commit_comment_event = spark.read.parquet(commit_comment_event_path)\n",
    "create_event = spark.read.parquet(create_event_path)\n",
    "delete_event = spark.read.parquet(delete_event_path)\n",
    "fork_event = spark.read.parquet(fork_event_path)\n",
    "gollum_event = spark.read.parquet(gollum_event_path)\n",
    "issue_event = spark.read.parquet(issue_event_path)\n",
    "issue_comment_event = spark.read.parquet(issue_comment_event_path)\n",
    "member_event = spark.read.parquet(member_event_path)\n",
    "public_event = spark.read.parquet(public_event_path)\n",
    "pull_request_event = spark.read.parquet(pull_request_event_path)\n",
    "pull_request_review_comment_event = spark.read.parquet(pull_request_review_comment_event_path)\n",
    "pull_request_review_event = spark.read.parquet(pull_request_review_event_path)\n",
    "push_event = spark.read.parquet(push_event_path)\n",
    "release_event = spark.read.parquet(release_event_path)\n",
    "watch_event = spark.read.parquet(watch_event_path)"
   ]
  },
  {
   "cell_type": "markdown",
   "metadata": {
    "application/vnd.databricks.v1+cell": {
     "cellMetadata": {},
     "inputWidgets": {},
     "nuid": "cb126096-4e1c-42f6-ba2a-f6b1be5567e0",
     "showTitle": false,
     "title": ""
    }
   },
   "source": [
    "##### DataFrames of only event type and hour created at"
   ]
  },
  {
   "cell_type": "code",
   "execution_count": null,
   "metadata": {
    "application/vnd.databricks.v1+cell": {
     "cellMetadata": {
      "byteLimit": 2048000,
      "rowLimit": 10000
     },
     "inputWidgets": {},
     "nuid": "af8ab6ff-5751-4372-9010-765d90a35aed",
     "showTitle": false,
     "title": ""
    },
    "jupyter": {
     "outputs_hidden": true
    }
   },
   "outputs": [],
   "source": [
    "commit_comment = (\n",
    "    commit_comment_event.withColumn(\"event_type\", lit(\"commit_comment\"))\n",
    "    .select(\"event_type\", hour(\"created_at\").alias(\"hour\"))\n",
    ")\n",
    "\n",
    "create = (\n",
    "    create_event.withColumn(\"event_type\", lit(\"create\"))\n",
    "    .select(\"event_type\", hour(\"created_at\").alias(\"hour\"))\n",
    ")\n",
    "\n",
    "delete = (\n",
    "    delete_event.withColumn(\"event_type\", lit(\"delete\"))\n",
    "    .select(\"event_type\", hour(\"created_at\").alias(\"hour\"))\n",
    ")\n",
    "\n",
    "fork = (\n",
    "    fork_event.withColumn(\"event_type\", lit(\"fork\"))\n",
    "    .select(\"event_type\", hour(\"created_at\").alias(\"hour\"))\n",
    ")\n",
    "\n",
    "gollum = (\n",
    "    gollum_event.withColumn(\"event_type\", lit(\"gollum\"))\n",
    "    .select(\"event_type\", hour(\"created_at\").alias(\"hour\"))\n",
    ")\n",
    "\n",
    "issue = (\n",
    "    issue_event.withColumn(\"event_type\", lit(\"issue\"))\n",
    "    .select(\"event_type\", hour(\"created_at\").alias(\"hour\"))\n",
    ")\n",
    "\n",
    "issue_comment = (\n",
    "    issue_comment_event.withColumn(\"event_type\", lit(\"issue_comment\"))\n",
    "    .select(\"event_type\", hour(\"created_at\").alias(\"hour\"))\n",
    ")\n",
    "\n",
    "member = (\n",
    "    member_event.withColumn(\"event_type\", lit(\"member\"))\n",
    "    .select(\"event_type\", hour(\"created_at\").alias(\"hour\"))\n",
    ")\n",
    "\n",
    "public = (\n",
    "    public_event.withColumn(\"event_type\", lit(\"public\"))\n",
    "    .select(\"event_type\", hour(\"created_at\").alias(\"hour\"))\n",
    ")\n",
    "\n",
    "pull_request = (\n",
    "    pull_request_event.withColumn(\"event_type\", lit(\"pull_request\"))\n",
    "    .select(\"event_type\", hour(\"created_at\").alias(\"hour\"))\n",
    ")\n",
    "\n",
    "pull_request_review_comment = (\n",
    "    pull_request_review_comment_event.withColumn(\"event_type\", lit(\"pull_request_review_comment\"))\n",
    "    .select(\"event_type\", hour(\"created_at\").alias(\"hour\"))\n",
    ")\n",
    "\n",
    "pull_request_review = (\n",
    "    pull_request_review_event.withColumn(\"event_type\", lit(\"pull_request_review\"))\n",
    "    .select(\"event_type\", hour(\"created_at\").alias(\"hour\"))\n",
    ")\n",
    "\n",
    "push = (\n",
    "    push_event.withColumn(\"event_type\", lit(\"push\"))\n",
    "    .select(\"event_type\", hour(\"created_at\").alias(\"hour\"))\n",
    ")\n",
    "\n",
    "release = (\n",
    "    release_event.withColumn(\"event_type\", lit(\"release\"))\n",
    "    .select(\"event_type\", hour(\"created_at\").alias(\"hour\"))\n",
    ")\n",
    "\n",
    "watch = (\n",
    "    watch_event.withColumn(\"event_type\", lit(\"watch\"))\n",
    "    .select(\"event_type\", hour(\"created_at\").alias(\"hour\"))\n",
    ")"
   ]
  },
  {
   "cell_type": "code",
   "execution_count": null,
   "metadata": {
    "application/vnd.databricks.v1+cell": {
     "cellMetadata": {
      "byteLimit": 2048000,
      "rowLimit": 10000
     },
     "inputWidgets": {},
     "nuid": "b73d855a-6920-492e-acde-e573f362e535",
     "showTitle": false,
     "title": ""
    }
   },
   "outputs": [],
   "source": [
    "events_by_hour = (\n",
    "    (\n",
    "        commit_comment.union(create)\n",
    "        .union(delete)\n",
    "        .union(fork)\n",
    "        .union(gollum)\n",
    "        .union(issue)\n",
    "        .union(issue_comment)\n",
    "        .union(member)\n",
    "        .union(public)\n",
    "        .union(pull_request)\n",
    "        .union(pull_request_review_comment)\n",
    "        .union(pull_request_review)\n",
    "        .union(push)\n",
    "        .union(release)\n",
    "        .union(watch)\n",
    "    )\n",
    "    .groupBy(\"event_type\", \"hour\")\n",
    "    .count()\n",
    ")"
   ]
  },
  {
   "cell_type": "code",
   "execution_count": null,
   "metadata": {
    "application/vnd.databricks.v1+cell": {
     "cellMetadata": {
      "byteLimit": 2048000,
      "rowLimit": 10000
     },
     "inputWidgets": {},
     "nuid": "680deb6c-e782-4499-b6f3-e0f8564f8dc9",
     "showTitle": false,
     "title": ""
    }
   },
   "outputs": [],
   "source": [
    "display(events_by_hour)"
   ]
  },
  {
   "cell_type": "markdown",
   "metadata": {
    "application/vnd.databricks.v1+cell": {
     "cellMetadata": {},
     "inputWidgets": {},
     "nuid": "cfbe246c-2f00-491f-892c-6fd1e00595ca",
     "showTitle": false,
     "title": ""
    }
   },
   "source": [
    "![events by hour](imgs/event_by_hour.png)"
   ]
  },
  {
   "cell_type": "markdown",
   "metadata": {},
   "source": []
  }
 ],
 "metadata": {
  "application/vnd.databricks.v1+notebook": {
   "dashboards": [
    {
     "elements": [
      {
       "dashboardResultIndex": 0,
       "elementNUID": "88265dba-3c3c-4c33-997c-51c2662f74b4",
       "elementType": "command",
       "guid": "db5c12e5-33a0-4c02-81fc-f616d87c7d0c",
       "options": null,
       "position": {
        "height": 13,
        "width": 24,
        "x": 0,
        "y": 0,
        "z": null
       },
       "resultIndex": null
      }
     ],
     "globalVars": {},
     "guid": "",
     "layoutOption": {
      "grid": true,
      "stack": true
     },
     "nuid": "41bedfdd-41b2-4aaa-84ce-62dae69af098",
     "origId": 0,
     "title": "Untitled",
     "version": "DashboardViewV1",
     "width": 1024
    }
   ],
   "language": "python",
   "notebookMetadata": {
    "pythonIndentUnit": 4
   },
   "notebookName": "Mock up Gold Layer",
   "widgets": {}
  },
  "language_info": {
   "name": "python"
  }
 },
 "nbformat": 4,
 "nbformat_minor": 0
}
